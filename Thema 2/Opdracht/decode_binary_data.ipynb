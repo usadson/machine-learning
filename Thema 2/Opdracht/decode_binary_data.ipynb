{
 "cells": [
  {
   "cell_type": "code",
   "execution_count": 1,
   "metadata": {
    "execution": {
     "iopub.execute_input": "2023-11-18T12:55:25.489065Z",
     "iopub.status.busy": "2023-11-18T12:55:25.488066Z",
     "iopub.status.idle": "2023-11-18T12:55:25.505069Z",
     "shell.execute_reply": "2023-11-18T12:55:25.504070Z",
     "shell.execute_reply.started": "2023-11-18T12:55:25.489065Z"
    }
   },
   "outputs": [],
   "source": [
    "import sqlite3\n",
    "import numpy as np\n",
    "import pandas as pd\n",
    "from struct import unpack, calcsize"
   ]
  },
  {
   "cell_type": "code",
   "execution_count": 52,
   "metadata": {
    "execution": {
     "iopub.execute_input": "2023-11-18T12:56:22.263962Z",
     "iopub.status.busy": "2023-11-18T12:56:22.262961Z",
     "iopub.status.idle": "2023-11-18T12:56:22.273962Z",
     "shell.execute_reply": "2023-11-18T12:56:22.273962Z",
     "shell.execute_reply.started": "2023-11-18T12:56:22.262961Z"
    }
   },
   "outputs": [],
   "source": [
    "dbfile = 'testing.dltp'"
   ]
  },
  {
   "cell_type": "code",
   "execution_count": 53,
   "metadata": {},
   "outputs": [],
   "source": [
    "query = \"\"\"SELECT\n",
    "        i.url AS \"Image Path\",\n",
    "        l.id AS \"Label ID\",\n",
    "        lc.name AS \"Label Class\",\n",
    "        l.regiontype AS \"Region Type\",\n",
    "        l.region AS \"Region\"\n",
    "    FROM\n",
    "        images i\n",
    "    JOIN\n",
    "        labels l ON i.id = l.image_id\n",
    "    JOIN\n",
    "        labelclasses lc ON l.labelclass_id = lc.id\"\"\""
   ]
  },
  {
   "cell_type": "code",
   "execution_count": 54,
   "metadata": {
    "execution": {
     "iopub.execute_input": "2023-11-18T12:58:05.880115Z",
     "iopub.status.busy": "2023-11-18T12:58:05.880115Z",
     "iopub.status.idle": "2023-11-18T12:58:05.885116Z",
     "shell.execute_reply": "2023-11-18T12:58:05.885116Z",
     "shell.execute_reply.started": "2023-11-18T12:58:05.880115Z"
    },
    "tags": []
   },
   "outputs": [],
   "source": [
    "con = sqlite3.connect(dbfile)\n",
    "cur = con.cursor()\n",
    "dataset = [a for a in cur.execute(query)]\n",
    "con.close()"
   ]
  },
  {
   "cell_type": "code",
   "execution_count": 3,
   "metadata": {},
   "outputs": [],
   "source": [
    "def decode_region(data):\n",
    "    \"\"\"Decode a binary polygon or mask and return it components\"\"\"\n",
    "    payload = data[13:]\n",
    "\n",
    "    if data[5:13] == b'\\x00M\\x00A\\x00S\\x00K':\n",
    "        return _decode_mask(payload)\n",
    "\n",
    "    if data[5:13] == b'\\x00P\\x00O\\x00L\\x00Y':\n",
    "        return _decode_poly(payload)\n",
    "\n",
    "    assert False, \"Unable to decode this region\"\n",
    "\n",
    "def _decode_mask(payload):\n",
    "    \"\"\"Decodes the binary data into a list of pixels that form the pixelmask.\n",
    "    Most likely format for the pixels is 'mask is on x-coordinates #0 until #1 on row #2\"\"\"\n",
    "    # Create the struct mask, a list of unsigned long long\n",
    "    mask = '>' + (len(payload) // 8) * 'Q'\n",
    "    result = unpack(mask, payload)\n",
    "\n",
    "    # Split into separate records\n",
    "    final = [result[i*3+1:i*3+4] for i in range(len(result)//3)]\n",
    "\n",
    "    assert len(final) == result[0], 'Number of pixels does not match sanity check'\n",
    "    return \"pixelmask\", final\n",
    "\n",
    "def _decode_poly(payload):\n",
    "    \"\"\"Decodes the binary data into a list of pixel coordinates that combine into a single polygon\"\"\"\n",
    "    # Create the struct mask, a long list of doubles\n",
    "    mask = '>Q' + (len(payload) // 8 - 1) * 'd'\n",
    "    result = unpack(mask, payload)\n",
    "\n",
    "    # Split into separate records\n",
    "    final = [result[i*2+1:i*2+3] for i in range(len(result)//2)]\n",
    "\n",
    "    assert len(final) == result[0], 'Number of pixels does not match sanity check'\n",
    "    return \"polygon\", final\n"
   ]
  },
  {
   "cell_type": "code",
   "execution_count": 7,
   "metadata": {},
   "outputs": [
    {
     "ename": "AssertionError",
     "evalue": "Unable to decode this region",
     "output_type": "error",
     "traceback": [
      "\u001b[0;31m---------------------------------------------------------------------------\u001b[0m",
      "\u001b[0;31mAssertionError\u001b[0m                            Traceback (most recent call last)",
      "Cell \u001b[0;32mIn[7], line 6\u001b[0m\n\u001b[1;32m      3\u001b[0m \u001b[38;5;28;01mwith\u001b[39;00m \u001b[38;5;28mopen\u001b[39m(path, \u001b[38;5;124m\"\u001b[39m\u001b[38;5;124mrb\u001b[39m\u001b[38;5;124m\"\u001b[39m) \u001b[38;5;28;01mas\u001b[39;00m f:\n\u001b[1;32m      4\u001b[0m     data \u001b[38;5;241m=\u001b[39m f\u001b[38;5;241m.\u001b[39mread()\n\u001b[0;32m----> 6\u001b[0m \u001b[43mdecode_region\u001b[49m\u001b[43m(\u001b[49m\u001b[43mdata\u001b[49m\u001b[43m)\u001b[49m\n",
      "Cell \u001b[0;32mIn[3], line 11\u001b[0m, in \u001b[0;36mdecode_region\u001b[0;34m(data)\u001b[0m\n\u001b[1;32m      8\u001b[0m \u001b[38;5;28;01mif\u001b[39;00m data[\u001b[38;5;241m5\u001b[39m:\u001b[38;5;241m13\u001b[39m] \u001b[38;5;241m==\u001b[39m \u001b[38;5;124mb\u001b[39m\u001b[38;5;124m'\u001b[39m\u001b[38;5;130;01m\\x00\u001b[39;00m\u001b[38;5;124mP\u001b[39m\u001b[38;5;130;01m\\x00\u001b[39;00m\u001b[38;5;124mO\u001b[39m\u001b[38;5;130;01m\\x00\u001b[39;00m\u001b[38;5;124mL\u001b[39m\u001b[38;5;130;01m\\x00\u001b[39;00m\u001b[38;5;124mY\u001b[39m\u001b[38;5;124m'\u001b[39m:\n\u001b[1;32m      9\u001b[0m     \u001b[38;5;28;01mreturn\u001b[39;00m _decode_poly(payload)\n\u001b[0;32m---> 11\u001b[0m \u001b[38;5;28;01massert\u001b[39;00m \u001b[38;5;28;01mFalse\u001b[39;00m, \u001b[38;5;124m\"\u001b[39m\u001b[38;5;124mUnable to decode this region\u001b[39m\u001b[38;5;124m\"\u001b[39m\n",
      "\u001b[0;31mAssertionError\u001b[0m: Unable to decode this region"
     ]
    }
   ],
   "source": [
    "path = \"/Users/tager/Developer/School/MachineLearning/Thema 2/Opdracht/logs/2022-04-21_13-39-09.506268_000029/2022-04-21_13-39-09.853778_detection_000.bin\"\n",
    "\n",
    "with open(path, \"rb\") as f:\n",
    "    data = f.read()\n",
    "\n",
    "decode_region(data)"
   ]
  },
  {
   "cell_type": "code",
   "execution_count": 56,
   "metadata": {},
   "outputs": [
    {
     "name": "stdout",
     "output_type": "stream",
     "text": [
      "('pixelmask', [(0, 1, 0), (0, 1, 1)])\n",
      "('pixelmask', [(0, 1, 0), (0, 1, 1), (0, 1, 2)])\n",
      "('pixelmask', [(0, 2, 1), (0, 2, 2)])\n",
      "('pixelmask', [(0, 1, 1), (1, 1, 2)])\n",
      "('polygon', [(2.189655065536499, 3.6163792610168457), (1.9353448275862069, 2.461206896551724), (3.7543103448275863, 2.3448275862068964), (3.3836207389831543, 3.5862069129943848)])\n"
     ]
    }
   ],
   "source": [
    "for record in dataset:\n",
    "    print(decode_region(record[4]))"
   ]
  }
 ],
 "metadata": {
  "kernelspec": {
   "display_name": "Python 3",
   "language": "python",
   "name": "python3"
  },
  "language_info": {
   "codemirror_mode": {
    "name": "ipython",
    "version": 3
   },
   "file_extension": ".py",
   "mimetype": "text/x-python",
   "name": "python",
   "nbconvert_exporter": "python",
   "pygments_lexer": "ipython3",
   "version": "3.10.13"
  }
 },
 "nbformat": 4,
 "nbformat_minor": 4
}

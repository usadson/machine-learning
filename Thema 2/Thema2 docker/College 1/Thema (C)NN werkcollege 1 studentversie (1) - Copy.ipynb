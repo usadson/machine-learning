{
 "cells": [
  {
   "cell_type": "markdown",
   "metadata": {
    "id": "DSPCom-KmApV"
   },
   "source": [
    "# Thema (C)NN werkcollege 1\n",
    "### Objectherkenning met een neuraal netwerk"
   ]
  },
  {
   "cell_type": "markdown",
   "metadata": {},
   "source": [
    "In dit college gaan we bezig met het voorspellen van afbeeldingen m.b.v. een simpel neuraal netwerk. We gebruiken de theorie uit de kennisbasis en gaan deze stapsgewijs toepassen op deze casus. Benodigde voorbereiding van deze les is het bestuderen van les 1 uit de kennisbasis en het installeren van Keras.\n",
    "\n",
    "Nu is het herkennen van 10 mogelijke handgeschreven cijfers zoals in de uitleg op de elo relatief simpel, vooral omdat we geen andere informatie in het plaatje hebben dan alleen het cijfer. We gaan het daarom hier een klein beetje ingewikkelder maken en gebruiken hier de bij Keras meegeleverde CIFAR-10 dataset. Deze dataset bevat 60.000 afbeeldingen (50.000 train en 10.000 test) verdeeld over 10 verschillende klassen ['vliegtuig', 'auto', 'vogel', 'kat', 'hert','hond', 'kikker', 'paard', 'boot', 'vrachtwagen']. Iedere klasse bevat 6.000 afbeeldingen van 32 bij 32 pixels.\n",
    "\n",
    "## Business understanding\n",
    "In dit geval hebben we geen heel expliciete vraag uit de business maar in diverse disciplines is het van belang om verschillende vaak context specifieke objecten te kunnen herkennen. Denk bijv aan een autonoom rijdende auto die een fiets van een motor moet kunnen onderscheiden om de snelheid goed te kunnen inschatten\n",
    "\n",
    "## Data understanding\n",
    "We beginnen met het importeren van Keras en de dataset:"
   ]
  },
  {
   "cell_type": "code",
   "execution_count": null,
   "metadata": {
    "execution": {
     "iopub.execute_input": "2021-01-06T02:26:25.508587Z",
     "iopub.status.busy": "2021-01-06T02:26:25.507936Z",
     "iopub.status.idle": "2021-01-06T02:26:32.576008Z",
     "shell.execute_reply": "2021-01-06T02:26:32.576483Z"
    },
    "id": "iAve6DCL4JH4"
   },
   "outputs": [],
   "source": [
    "#import data (code gegeven)\n",
    "from tensorflow.keras import datasets, layers, models\n",
    "(train_images, train_labels), (test_images, test_labels) = datasets.cifar10.load_data()\n",
    "\n",
    "print(train_images.shape)\n",
    "print(train_labels.shape)"
   ]
  },
  {
   "cell_type": "markdown",
   "metadata": {},
   "source": [
    "Als alles goed is gegaan kunnen we zien dat train-images betaat uit 50.000 images van 32 x 32 pixels met 3 kleurkanalen. Voor de zekerheid controleren we alles nog even door de 1e 25 images weer te geven met pyplot en hier het juiste label in tekst onder te zetten. "
   ]
  },
  {
   "cell_type": "code",
   "execution_count": null,
   "metadata": {},
   "outputs": [],
   "source": [
    "#toon de 1e 25 plaatjes met bijbehorende label (10 min)\n"
   ]
  },
  {
   "cell_type": "markdown",
   "metadata": {},
   "source": [
    "## Data preparation\n",
    "\n",
    "Nu we de data hebben ingelezen en hopelijk ook begrijpen kunnen we beginnen met de data preparation. Een neuraal netwerk bestaat uit 1 of meerdere Dense layers die een genormaliseerde vector verwachten.   "
   ]
  },
  {
   "cell_type": "code",
   "execution_count": null,
   "metadata": {},
   "outputs": [],
   "source": [
    "#Normaliseer de data en reshape de data naar een vector (10 min)\n"
   ]
  },
  {
   "cell_type": "code",
   "execution_count": null,
   "metadata": {
    "execution": {
     "iopub.execute_input": "2021-01-06T02:26:32.583079Z",
     "iopub.status.busy": "2021-01-06T02:26:32.582385Z",
     "iopub.status.idle": "2021-01-06T02:26:46.965320Z",
     "shell.execute_reply": "2021-01-06T02:26:46.964658Z"
    },
    "id": "JWoEqyMuXFF4"
   },
   "outputs": [],
   "source": []
  },
  {
   "cell_type": "markdown",
   "metadata": {},
   "source": [
    "Als het goed is hebben we nu 50.000 en 10.000 vectoren van 3072 (32x32x3) waarden. \n",
    "\n",
    "## Modeling\n",
    "Nu kunnen we beginnen met het bouwen van ons eerste model wat hopelijk beter presteert dan volslagen willekeur. Omdat we toch ergens mee moeten beginnen nemen we het model uit de kennisbasis met twee hidden Dense layers van elk 16 neurons en relu als activation function als uitgangspunt. Zoek in de kennisbasis op hoeveel neurons de laatste laag moet hebben en wat de meest geschikte activation function voor de laatste laag is."
   ]
  },
  {
   "cell_type": "code",
   "execution_count": null,
   "metadata": {},
   "outputs": [],
   "source": [
    "#definieer het model (10 min) en geef de summary.\n"
   ]
  },
  {
   "cell_type": "markdown",
   "metadata": {},
   "source": [
    "Compile het model met de juiste optimizer, loss-functie en metrics"
   ]
  },
  {
   "cell_type": "code",
   "execution_count": null,
   "metadata": {},
   "outputs": [],
   "source": [
    "#compile het model (2 min)\n"
   ]
  },
  {
   "cell_type": "markdown",
   "metadata": {},
   "source": [
    "Fit het model met de juiste datasets. Train 25 epochs. Bewaar de resultaten in een variabele (bijv history)"
   ]
  },
  {
   "cell_type": "code",
   "execution_count": null,
   "metadata": {},
   "outputs": [],
   "source": [
    "#fit model (5 min)\n"
   ]
  },
  {
   "cell_type": "markdown",
   "metadata": {},
   "source": [
    "## Evaluation\n",
    "Op basis van bovenstaande output kun je al concluderen dat ons model het nog niet heel erg goed doet. Voor de volledigheid plotten we de accurary en validated accuracy per epoch nog."
   ]
  },
  {
   "cell_type": "code",
   "execution_count": null,
   "metadata": {
    "execution": {
     "iopub.execute_input": "2021-01-06T02:28:10.462096Z",
     "iopub.status.busy": "2021-01-06T02:28:10.461327Z",
     "iopub.status.idle": "2021-01-06T02:28:11.436199Z",
     "shell.execute_reply": "2021-01-06T02:28:11.435633Z"
    },
    "id": "gtyDF0MKUcM7"
   },
   "outputs": [],
   "source": [
    "#plot de accuracy en validated accuracy (10 min)\n"
   ]
  },
  {
   "cell_type": "markdown",
   "metadata": {},
   "source": [
    "We zien hier dat ons model het beter doet dan willekeur maar erg gelukkig worden we er nog niet van. Blijkbaar is het herkennen van hertjes en vliegtuigen toch wat complexer dan alleen maar cijfers herkennen (in de kennisbasis kwamen we met dit model al rond de 98 procent uit) We gaan daarom kijken of we niet wat hogere scores kunnen bereiken door extra layers en neurons toe te voegen.\n",
    "\n",
    "## Modeling\n"
   ]
  },
  {
   "cell_type": "code",
   "execution_count": null,
   "metadata": {},
   "outputs": [],
   "source": [
    "# Verschillende opties uitproberen (ca 20 min)\n",
    "# denk aan extra lauers en meer neurons. \n"
   ]
  },
  {
   "cell_type": "code",
   "execution_count": null,
   "metadata": {},
   "outputs": [],
   "source": [
    "#compile\n"
   ]
  },
  {
   "cell_type": "code",
   "execution_count": null,
   "metadata": {},
   "outputs": [],
   "source": [
    "#fit model\n"
   ]
  },
  {
   "cell_type": "markdown",
   "metadata": {},
   "source": [
    "## Evaluation: "
   ]
  },
  {
   "cell_type": "code",
   "execution_count": null,
   "metadata": {},
   "outputs": [],
   "source": [
    "#plot de accuracy en validated accuracy \n"
   ]
  },
  {
   "cell_type": "markdown",
   "metadata": {},
   "source": [
    "We zien nu dat het model langzamerhand wat beter begint te presteren, om beter te begrijpen waar het mis gaat gaan we eerst de confusion matrix afdrukken."
   ]
  },
  {
   "cell_type": "code",
   "execution_count": null,
   "metadata": {},
   "outputs": [],
   "source": [
    "#print de confusion matrix (20 min) op basis van de test_data\n",
    "\n",
    "# Tip: standaard krijg je per afbeelding een array met 10 waarden terug (1 per klasse). \n",
    "# De hoogste waarde hiervan is de klasse (auto, vliegtuig etc.) met de grootste kans. \n",
    "# Hiervoor kun je argmax() gebruiken\n"
   ]
  },
  {
   "cell_type": "markdown",
   "metadata": {},
   "source": [
    "De confusion matrix geeft ons al heel veel inzicht in wat er precies misgaat (Bijvoorbeeld dat relatief veel auto's voor een vrachtauto worden aangezien.) Soms helpt het echt ook om dingen te visualiseren. Daarom printen we de 1e 25 test afbeeldingen met hierbij de door ons model voorspelde waarden."
   ]
  },
  {
   "cell_type": "code",
   "execution_count": null,
   "metadata": {},
   "outputs": [],
   "source": [
    "#print de 1e 25 plaatjes uit test_images en daarbij de voorspelde waarde. (15 min)\n"
   ]
  },
  {
   "cell_type": "markdown",
   "metadata": {},
   "source": [
    "We zien nu een model wat ca de helft van de gevallen goed weet te voorspellen. Dit is al heel wat maar misschien nog niet helemaal wat we willen. Nu zien we ook (zeker als we meer epochs gaan draaien) dat het model ook steeds meer gaat overfitten. Probeer daarom verschillende waarden voor l1 en l2 om dit te voorkomen, zonder meteen je val_accuracy te laten instorten.  \n",
    "\n",
    "## Modeling"
   ]
  },
  {
   "cell_type": "code",
   "execution_count": null,
   "metadata": {},
   "outputs": [],
   "source": [
    "#Probeer verschillende l1 en l2 waarden bij verschillende lagen (20 min)\n"
   ]
  },
  {
   "cell_type": "code",
   "execution_count": null,
   "metadata": {},
   "outputs": [],
   "source": [
    "#compile"
   ]
  },
  {
   "cell_type": "code",
   "execution_count": null,
   "metadata": {},
   "outputs": [],
   "source": [
    "#fit model\n"
   ]
  },
  {
   "cell_type": "markdown",
   "metadata": {},
   "source": [
    "## Evaluation"
   ]
  },
  {
   "cell_type": "code",
   "execution_count": null,
   "metadata": {},
   "outputs": [],
   "source": [
    "#plot de accuracy en validated accuracy\n"
   ]
  },
  {
   "cell_type": "markdown",
   "metadata": {},
   "source": [
    "Over het algemeen zien we dat het toevoegen van de regulators het overfitten wel beperkt maar in dit geval al snel ten koste van de (validated) accuracy gaat\n",
    "\n",
    "## Modeling / Evaluation\n",
    "Probeer nu nog eens door wat meer te variëren in je netwerk je de val_accuracy nog wat op te krikken. Denk aan extra Denselayers, extra neurons etc. Het best scorende resultaat zullen we het laatste kwartier van de les bespreken. Eén spelregel, we gebruiken alleen Dense layers!"
   ]
  },
  {
   "cell_type": "code",
   "execution_count": null,
   "metadata": {},
   "outputs": [],
   "source": [
    "#meest optimale gevonden oplossing. "
   ]
  },
  {
   "cell_type": "markdown",
   "metadata": {},
   "source": [
    "In hoeverre is een dergelijk neuraal netwerk geschikt om objecten te herkennen en waarom? (geef je antwoord hieronder)"
   ]
  },
  {
   "cell_type": "code",
   "execution_count": null,
   "metadata": {},
   "outputs": [],
   "source": []
  }
 ],
 "metadata": {
  "accelerator": "GPU",
  "colab": {
   "collapsed_sections": [],
   "name": "cnn.ipynb",
   "toc_visible": true
  },
  "kernelspec": {
   "display_name": "Python 3 (ipykernel)",
   "language": "python",
   "name": "python3"
  },
  "language_info": {
   "codemirror_mode": {
    "name": "ipython",
    "version": 3
   },
   "file_extension": ".py",
   "mimetype": "text/x-python",
   "name": "python",
   "nbconvert_exporter": "python",
   "pygments_lexer": "ipython3",
   "version": "3.9.7"
  }
 },
 "nbformat": 4,
 "nbformat_minor": 1
}

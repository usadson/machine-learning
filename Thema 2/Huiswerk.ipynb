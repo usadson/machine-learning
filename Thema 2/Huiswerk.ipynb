{
 "cells": [
  {
   "cell_type": "markdown",
   "metadata": {
    "id": "DSPCom-KmApV"
   },
   "source": [
    "# Old or not"
   ]
  },
  {
   "cell_type": "markdown",
   "metadata": {
    "id": "m7KBpffWzlxH"
   },
   "source": [
    "## Business Understanding: \n",
    "Van volwassen beroemdheden is het vaak lastig te zeggen hoe oud ze zijn. Nu gaan we kijken of we een neuraal netwerk kunnen bouwen wat dit beter kan schatten dan wij. We nemens als grens de compleet arbitraire waarde van 42 jaar. Iedereen tussen de 21 en 42 noemen we 'not old' en iedereen boven deze grens definieren we als 'old' \n",
    "\n",
    "We gebruiken hiervoor de IMDB faces database met daarin meer dan 460.000 gezichten van een dikke 20.000 beroemdheden afkomstig van IMDB (zie https://data.vision.ee.ethz.ch/cvl/rrothe/imdb-wiki/ voor uitleg en details) en hierbij de IMDB informatie over o.a. leeftijd en geslacht. We downloaden hier de de cropped IMDB dataset( https://data.vision.ee.ethz.ch/cvl/rrothe/imdb-wiki/static/imdb_crop.tar). De metadata wordt in .mat (matlab) bestand meegeleverd. \n",
    "\n",
    "- We beperken ons tot volwassen beroemdheden. <u>Iedereen onder de 21 jaar mag je overslaan.</u>\n",
    "- Er zitten nogal wat foto's met meerdere gezichten of geen gezicht op. <u>Deze mag je eruit filteren</u>\n",
    "- We verwachten niet alleen de code maar (in het notebook) ook een <u>uitleg</u> van waarom je dingen hebt gedaan. \n",
    "- I.v.m. performance issues gebruiken we na opschoning alleen de <u>1e 50.000</u> records als data\n",
    "- Gebruik <u>20% van je data als testset, gebruik 42 als random state</u>\n",
    "- Eindig met de mogelijkheid om een jpg van bijv. jezelf in te lezen en d.m.v. het getrainde netwerk te bepalen of diegene wel of niet oud is.\n",
    "\n",
    "Vul je antwoorden steeds op de juiste plaats in. Maak indien nodig extra cellen aan.\n",
    "\n",
    "## Data Understanding: "
   ]
  },
  {
   "cell_type": "code",
   "execution_count": 1,
   "metadata": {},
   "outputs": [],
   "source": [
    "# Tips:\n",
    "# - pickle voor tussentijds opslaan"
   ]
  },
  {
   "cell_type": "code",
   "execution_count": 30,
   "metadata": {},
   "outputs": [
    {
     "name": "stderr",
     "output_type": "stream",
     "text": [
      "2024-09-19 18:17:22.946502: E external/local_xla/xla/stream_executor/cuda/cuda_fft.cc:485] Unable to register cuFFT factory: Attempting to register factory for plugin cuFFT when one has already been registered\n",
      "2024-09-19 18:17:23.020838: E external/local_xla/xla/stream_executor/cuda/cuda_dnn.cc:8454] Unable to register cuDNN factory: Attempting to register factory for plugin cuDNN when one has already been registered\n",
      "2024-09-19 18:17:23.042532: E external/local_xla/xla/stream_executor/cuda/cuda_blas.cc:1452] Unable to register cuBLAS factory: Attempting to register factory for plugin cuBLAS when one has already been registered\n",
      "2024-09-19 18:17:23.107189: I tensorflow/core/platform/cpu_feature_guard.cc:210] This TensorFlow binary is optimized to use available CPU instructions in performance-critical operations.\n",
      "To enable the following instructions: AVX2 FMA, in other operations, rebuild TensorFlow with the appropriate compiler flags.\n",
      "2024-09-19 18:17:24.713636: W tensorflow/compiler/tf2tensorrt/utils/py_utils.cc:38] TF-TRT Warning: Could not find TensorRT\n"
     ]
    }
   ],
   "source": [
    "#importeer de juiste packages\n",
    "import tensorflow as tf\n",
    "from tensorflow.keras import datasets, layers, models, regularizers\n",
    "from tensorflow.keras.preprocessing.image import ImageDataGenerator\n",
    "from matplotlib import pyplot as plt\n",
    "from sklearn.metrics import confusion_matrix\n",
    "import seaborn as sns\n",
    "\n",
    "from sklearn.model_selection import train_test_split\n",
    "\n",
    "from scipy.io import loadmat\n",
    "\n",
    "import numpy as np\n",
    "import pandas as pd\n",
    "from datetime import datetime, timedelta\n",
    "import sys\n",
    "import os\n",
    "\n",
    "sys.OpenCV_LOADER_DEBUG = True\n",
    "import cv2\n"
   ]
  },
  {
   "cell_type": "code",
   "execution_count": 3,
   "metadata": {},
   "outputs": [],
   "source": [
    "# Constantes\n",
    "DF_FILTERED_NAME = \"cache_df_filtered.feather\"  # https://towardsdatascience.com/the-best-format-to-save-pandas-data-414dca023e0d\n",
    "COUNT_OF_FACES_TO_TRAIN_AND_TEST_ON = 50000\n",
    "\n",
    "# afbeeldingen\n",
    "WIDTH = HEIGHT = 100\n",
    "SIZE = (WIDTH, HEIGHT)\n"
   ]
  },
  {
   "cell_type": "code",
   "execution_count": 4,
   "metadata": {},
   "outputs": [],
   "source": [
    "#Lees de metadata in\n",
    "\n",
    "mat = loadmat(\"imdb_crop/imdb.mat\", squeeze_me=True)"
   ]
  },
  {
   "cell_type": "code",
   "execution_count": null,
   "metadata": {},
   "outputs": [],
   "source": [
    "# bestudeer deze en maak voor iedere relevante variabele een aparte list aan\n",
    "mat: dict = mat\n",
    "imdb: np.ndarray = mat[\"imdb\"]\n",
    "\n",
    "(dob, photo_taken, full_path, gender, name, face_location, face_score, second_face_score, celeb_names, celeb_id) = imdb.tolist()\n",
    "\n",
    "dob1 = dob[0]\n",
    "print(dob1, type(dob1))\n",
    "\n",
    "def convertDate(date):\n",
    "    EPOCH = 719529\n",
    "    return pd.to_datetime(int(date) - EPOCH, unit='D')"
   ]
  },
  {
   "cell_type": "markdown",
   "metadata": {},
   "source": [
    "## Data preparation: "
   ]
  },
  {
   "cell_type": "code",
   "execution_count": 6,
   "metadata": {},
   "outputs": [],
   "source": [
    "#Bepaal op basis van de metadata hoe oud de personen op de foto's waren toen deze genomen werden (-1 als onbekend)\n",
    "\n",
    "age_on_photo = []\n",
    "# invalids = 0\n",
    "for i in range(0, len(dob)):\n",
    "    try:\n",
    "        date = convertDate(dob[i])\n",
    "        ageThen = photo_taken[i] - date.year\n",
    "        age_on_photo.append(ageThen)\n",
    "    except Exception as e:\n",
    "        # invalids += 1\n",
    "        age_on_photo.append(-1)\n",
    "\n",
    "# print(invalids, \"zijn/is ongeldig, dit is\", (float(invalids)/len(dob)*100), \"procent\")"
   ]
  },
  {
   "cell_type": "code",
   "execution_count": 7,
   "metadata": {},
   "outputs": [],
   "source": [
    "#voeg de ingelezen metadata en de berekende leeftijd samen tot een nieuwe dataset\n",
    "\n",
    "df = pd.DataFrame(data={\n",
    "    'name': name,\n",
    "    'full_path': full_path,\n",
    "    'age_on_photo': age_on_photo,\n",
    "    'face_score': face_score,\n",
    "    'second_face_score': second_face_score,\n",
    "})"
   ]
  },
  {
   "cell_type": "code",
   "execution_count": null,
   "metadata": {},
   "outputs": [],
   "source": [
    "#schoon de dataset op op basis van de bij de business understanding gegeven criteria.\n",
    "\n",
    "OLDNESS_THRESHOLD = 42\n",
    "\n",
    "## Filter: check of mensen minsten 21 jaar oud zijn\n",
    "df_filtered = df[df['age_on_photo'] >= 21]\n",
    "\n",
    "## Filter: alleen foto's waar gezichten op gevonden zijn\n",
    "#       face_score: detector score (the higher the better).\n",
    "#                   Inf implies that no face was found in the image and the face_location then just returns the entire image\n",
    "df_filtered = df_filtered[df_filtered['face_score'] != np.Infinity]\n",
    "df_filtered = df_filtered[df_filtered['face_score'] != -np.Infinity]\n",
    "\n",
    "## Filter: alleen foto's waar maar een gezicht op staat\n",
    "##      second_face_score: detector score of the face with the second highest score.\n",
    "#                          This is useful to ignore images with more than one face.\n",
    "#                          second_face_score is NaN if no second face was detected.\n",
    "df_filtered = df_filtered[pd.isna(df_filtered['second_face_score'])]\n",
    "\n",
    "df_filtered['oldness'] = df_filtered.apply(lambda row: int(row.age_on_photo >= OLDNESS_THRESHOLD), axis=1)\n",
    "\n",
    "## Filter: max 50000\n",
    "df_filtered = df_filtered.head(COUNT_OF_FACES_TO_TRAIN_AND_TEST_ON)\n",
    "\n",
    "print(f\"Gemiddelde oudheid: {df_filtered['oldness'].mean()}\")\n",
    "\n",
    "df_filtered.info()\n",
    "df_filtered.head()\n",
    "\n",
    "df_filtered.to_feather(DF_FILTERED_NAME)"
   ]
  },
  {
   "cell_type": "markdown",
   "metadata": {},
   "source": [
    "![img](imdb_crop/01/nm0000001_rm946909184_1899-5-10_1968.jpg)"
   ]
  },
  {
   "cell_type": "code",
   "execution_count": 9,
   "metadata": {},
   "outputs": [],
   "source": [
    "def readImage(path: str):\n",
    "    cachePath = path.replace(\"jpg\", \"cached.jpg\")\n",
    "    if os.path.exists(cachePath):\n",
    "        return cv2.imread(cachePath)\n",
    "\n",
    "    img = cv2.imread(path)\n",
    "    # Cursed conversion van BGR naar RGB\n",
    "    img = img[...,::-1]\n",
    "\n",
    "    img = cv2.resize(img, SIZE)\n",
    "\n",
    "    # img = img / 255.0\n",
    "    cv2.imwrite(cachePath, img)\n",
    "    return img\n",
    "\n",
    "images = [readImage(\"imdb_crop/\" + path) for path in df_filtered['full_path']]\n"
   ]
  },
  {
   "cell_type": "code",
   "execution_count": null,
   "metadata": {},
   "outputs": [],
   "source": [
    "# Lees de afbeeldingen in\n",
    "\n",
    "plt.figure(figsize=(8,8))\n",
    "for i in range(25):\n",
    "    plt.subplot(5,5,i+1)  #vul het i-e image\n",
    "    plt.xticks([]) #geen schaal bij x-as\n",
    "    plt.yticks([]) #geen schaal bij y-as\n",
    "    plt.imshow(images[i]) #orginele plaatjes nodig want de rest zit in een genormaliseerde vector\n",
    "    plt.xlabel(df_filtered.iloc[i]['age_on_photo'])\n",
    "plt.show()"
   ]
  },
  {
   "cell_type": "code",
   "execution_count": null,
   "metadata": {},
   "outputs": [],
   "source": [
    "widths = np.array([img.shape[0] for img in images])\n",
    "heights = np.array([img.shape[1] for img in images])\n",
    "\n",
    "print(f\"Width van {widths.min()} naar {widths.max()}\")\n",
    "print(f\"Height van {heights.min()} naar {heights.max()}\")"
   ]
  },
  {
   "cell_type": "markdown",
   "metadata": {},
   "source": [
    "## Modeling: "
   ]
  },
  {
   "cell_type": "code",
   "execution_count": 12,
   "metadata": {},
   "outputs": [],
   "source": [
    "\n",
    "images_resized = np.array([cv2.resize(img, SIZE) for img in images])"
   ]
  },
  {
   "cell_type": "code",
   "execution_count": 13,
   "metadata": {},
   "outputs": [],
   "source": [
    "images_resized_scaled = images_resized\n",
    "# images_reshaped = images_resized_scaled.reshape((COUNT, WIDTH * HEIGHT * 3))\n",
    "# images_reshaped.shape"
   ]
  },
  {
   "cell_type": "code",
   "execution_count": null,
   "metadata": {},
   "outputs": [],
   "source": [
    "ages = np.array(df_filtered['oldness'])\n",
    "ages.shape\n",
    "\n",
    "age_on_photos = np.array(df_filtered['age_on_photo'])\n",
    "age_on_photos.shape\n",
    "\n",
    "names = np.array(df_filtered['name'])\n",
    "names.shape"
   ]
  },
  {
   "cell_type": "code",
   "execution_count": null,
   "metadata": {},
   "outputs": [],
   "source": [
    "indices = np.arange(0, COUNT_OF_FACES_TO_TRAIN_AND_TEST_ON)\n",
    "train_images, test_images, train_ages, test_ages, train_age_on_photos, test_age_on_photos, train_names, test_names, train_indices, test_indices  = train_test_split(images_resized_scaled, ages, age_on_photos, names, indices, test_size=0.2, random_state=42)\n",
    "ages"
   ]
  },
  {
   "cell_type": "code",
   "execution_count": null,
   "metadata": {},
   "outputs": [],
   "source": [
    "# en valideer dit op de testdata\n",
    "\n",
    "plt.figure(figsize=(8,8))\n",
    "for i in range(min(25, len(train_images))):\n",
    "    plt.subplot(5,5,i+1)  #vul het i-e image\n",
    "    plt.xticks([]) #geen schaal bij x-as\n",
    "    plt.yticks([]) #geen schaal bij y-as\n",
    "    plt.imshow(train_images[i]) #orginele plaatjes nodig want de rest zit in een genormaliseerde vector\n",
    "    plt.xlabel(\"Oud\" if train_ages.tolist()[i] == 1 else \"Jong\")\n",
    "    print(train_images[i].shape)\n",
    "plt.show()"
   ]
  },
  {
   "cell_type": "code",
   "execution_count": null,
   "metadata": {},
   "outputs": [],
   "source": [
    "# train het model\n",
    "model = models.Sequential([\n",
    "    layers.Dense(64, activation='relu', kernel_regularizer=\"l1\"),\n",
    "    layers.Conv2D(64, (3, 3), activation='relu', input_shape=(WIDTH, HEIGHT, 3), padding=\"SAME\"),\n",
    "    layers.BatchNormalization(),\n",
    "    layers.MaxPooling2D((3, 3)),\n",
    "    layers.Conv2D(64, (3, 3), activation='relu'),\n",
    "    layers.BatchNormalization(),\n",
    "    layers.MaxPooling2D((3, 3)),\n",
    "    layers.Flatten(),\n",
    "    layers.Dropout(0.2),\n",
    "    layers.Dense(10, activation='softmax'),\n",
    "])\n",
    "\n",
    "\n",
    "model.compile(optimizer=\"ADAM\",\n",
    "              loss=\"sparse_categorical_crossentropy\",\n",
    "              metrics=[\"accuracy\"])\n",
    "\n",
    "train_datagen = ImageDataGenerator(\n",
    "    # rotation_range=40,\n",
    "    width_shift_range=0.1,\n",
    "    height_shift_range=0.1,\n",
    "    shear_range=0.1,\n",
    "    zoom_range=0.1,\n",
    "    horizontal_flip=True,\n",
    "    # vertical_flip=True,\n",
    ")\n",
    "\n",
    "data_flow = train_datagen.flow(train_images, tf.reshape(train_ages, (-1)), shuffle=True)\n",
    "history = model.fit(data_flow, epochs=50, validation_data=(test_images, test_ages))"
   ]
  },
  {
   "cell_type": "code",
   "execution_count": null,
   "metadata": {},
   "outputs": [],
   "source": [
    "model.summary()"
   ]
  },
  {
   "cell_type": "code",
   "execution_count": 18,
   "metadata": {},
   "outputs": [],
   "source": [
    "# en valideer dit op de testdata\n"
   ]
  },
  {
   "cell_type": "markdown",
   "metadata": {},
   "source": [
    "## Evaluation: "
   ]
  },
  {
   "cell_type": "code",
   "execution_count": null,
   "metadata": {},
   "outputs": [],
   "source": [
    "#plot de accuracy en validated accuracy\n",
    "acc=history.history['accuracy']\n",
    "val_acc=history.history['val_accuracy']\n",
    "epochs=range(1, len(acc)+1)\n",
    "plt.plot(epochs, acc, label='accuracy')\n",
    "plt.plot(epochs, val_acc, label = 'val_accuracy')\n",
    "plt.xlabel('Epoch')\n",
    "plt.ylabel('Accuracy')\n",
    "plt.legend(loc='lower right')"
   ]
  },
  {
   "cell_type": "code",
   "execution_count": null,
   "metadata": {},
   "outputs": [],
   "source": [
    "#toon de confusion matrix,\n",
    "Y_predict= []\n",
    "predict=model.predict([test_images]) #2d array\n",
    "for i in range (len(predict)):\n",
    "    Y_predict.append(predict[i].argmax()) #omzetten zodat ik alleen de max waarde krijg\n",
    "cm=confusion_matrix(test_ages, Y_predict)\n",
    "#print(cm) #lelijk maar functioneel\n",
    "\n",
    "sns.heatmap(cm, annot=True, fmt='d', xticklabels=[\"Jong\", \"Oud\"], yticklabels=[\"Jong\", \"Oud\"])\n",
    "# fmt='g' om te voorkomen dat de wetenschappelijke notatie (3.7e+02) gebruikt."
   ]
  },
  {
   "cell_type": "markdown",
   "metadata": {},
   "source": [
    "![Img](imdb_crop/93/nm0000093_rm3278212608_1963-12-18_2009.jpg)"
   ]
  },
  {
   "cell_type": "markdown",
   "metadata": {},
   "source": []
  },
  {
   "cell_type": "code",
   "execution_count": null,
   "metadata": {
    "scrolled": true
   },
   "outputs": [],
   "source": [
    "# en toon de een aantal afbeeldingen inclusief of ze volgens het model wel of niet oud zijn,\n",
    "# doe dit laatste ook voor een paar eigen afbeeldingen\n",
    "\n",
    "\n",
    "predict = model.predict(test_images[0:25])\n",
    "\n",
    "predict.shape\n",
    "plt.figure(figsize = (16, 16))\n",
    "for i in range(25):\n",
    "    ax = plt.subplot(5, 5, i + 1)\n",
    "    plt.xticks([])\n",
    "    plt.yticks([])\n",
    "    plt.imshow(test_images[i])\n",
    "\n",
    "    prediction = round(predict[i].argmax())\n",
    "    actual = round(test_ages[i])\n",
    "\n",
    "    label = \"Oud\" if prediction == 1 else \"Jong\"\n",
    "    label += f' ({test_age_on_photos[i]})'\n",
    "\n",
    "    ax.xaxis.label.set_color('green' if prediction == actual else 'red')\n",
    "\n",
    "    plt.xlabel(label)\n",
    "\n",
    "    # ax = plt.subplot(10, 10, i * 2 + 2)\n",
    "    # plt.xticks([])\n",
    "    # plt.yticks([])\n",
    "    # print(test_indices[i])\n",
    "    # plt.xlabel(test_names[i])\n",
    "plt.show()"
   ]
  },
  {
   "cell_type": "markdown",
   "metadata": {},
   "source": [
    "Kunnen we met dit model betrouwbaar schatten of een beroemdheid oud is?\n",
    "(type je antwoord en uitleg hieronder)"
   ]
  },
  {
   "cell_type": "code",
   "execution_count": null,
   "metadata": {},
   "outputs": [],
   "source": [
    "tristan = readImage('1704671510929.jpeg')\n",
    "tristan = cv2.resize(tristan, SIZE)\n",
    "tristan = np.array([tristan])\n",
    "tristan = tristan / 255.0\n",
    "# tristan = tristan.reshape(WIDTH * HEIGHT * 3)\n",
    "tristan.shape"
   ]
  },
  {
   "cell_type": "code",
   "execution_count": null,
   "metadata": {},
   "outputs": [],
   "source": [
    "predict = model.predict([tristan])\n",
    "predict: np.ndarray = predict[0]\n",
    "predict = predict.argmax()\n",
    "schatting = \"oud\" if predict == 1 else \"jong\"\n",
    "print(f\"Ik ben {schatting}\")"
   ]
  },
  {
   "cell_type": "code",
   "execution_count": null,
   "metadata": {},
   "outputs": [],
   "source": [
    "natalie = readImage('natalie.jpg')\n",
    "natalie = cv2.resize(natalie, SIZE)\n",
    "natalie = np.array([natalie])\n",
    "natalie = natalie / 255.0\n",
    "# tristan = tristan.reshape(WIDTH * HEIGHT * 3)\n",
    "natalie.shape\n",
    "\n",
    "predict = model.predict([natalie])\n",
    "predict: np.ndarray = predict[0]\n",
    "predict = predict.argmax()\n",
    "schatting = \"oud\" if predict == 1 else \"jong\"\n",
    "print(f\"Natalie is {schatting}\")"
   ]
  }
 ],
 "metadata": {
  "accelerator": "GPU",
  "colab": {
   "collapsed_sections": [],
   "name": "cnn.ipynb",
   "toc_visible": true
  },
  "kernelspec": {
   "display_name": "Python 3",
   "language": "python",
   "name": "python3"
  },
  "language_info": {
   "codemirror_mode": {
    "name": "ipython",
    "version": 3
   },
   "file_extension": ".py",
   "mimetype": "text/x-python",
   "name": "python",
   "nbconvert_exporter": "python",
   "pygments_lexer": "ipython3",
   "version": "3.10.13"
  }
 },
 "nbformat": 4,
 "nbformat_minor": 4
}

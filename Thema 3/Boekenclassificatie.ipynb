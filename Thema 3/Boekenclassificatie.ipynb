{
 "cells": [
  {
   "cell_type": "markdown",
   "metadata": {},
   "source": [
    "# Boekenclassificatie"
   ]
  },
  {
   "cell_type": "markdown",
   "metadata": {},
   "source": [
    "Aan jou de taak om een neuraal netwerk te bouwen dat zo goed mogelijk kan voorspellen in welk genre een sample van een boek zich bevind. Laat met een cross validation matrix zien hoe goed je model zich gedraagt per genre."
   ]
  },
  {
   "cell_type": "markdown",
   "metadata": {},
   "source": [
    "## 1. Business Understanding"
   ]
  },
  {
   "cell_type": "markdown",
   "metadata": {},
   "source": [
    "- Data van [Project Gutenberg](https://www.gutenberg.org/)\n",
    "- [Bibliotheek van Congress-classificatie](https://www.loc.gov/catdir/cpso/lcc.html)\n",
    "\n",
    "## 1.1. Aangeleverde data\n",
    "\n",
    "\n",
    "## 1.2. Genres\n",
    "De boeken zijn ingedeeld onder de volgende zeven genres:\n",
    "|Genre                                              |Engelse Vertaling                              |Aantal boeken\n",
    "|---------------------------------------------------|-----------------------------------------------|-------------\n",
    "|Amerikaanse Literatuur                             |American Literature                            |4480\n",
    "|Engelse Literatuur                                 |English Literature                             |4214\n",
    "|Fictie en jeugdliteratuur                          |Fiction and juvenile belles lettres            |2624\n",
    "|Geschiedenis van Europa, Azië, Afrika en Oceanië   |History of Europa, Asia, Africa and Oceania    |2071\n",
    "|Filosofie, Psychologie en Religie                  |Philosophy, Psychology and Religion            |1550\n",
    "|Taal en Literatuur                                 |Language and Literature                        |1264\n",
    "|Tijdschriften                                      |Periodicals                                    |1132"
   ]
  },
  {
   "cell_type": "markdown",
   "metadata": {},
   "source": [
    "## 2. Data Understanding"
   ]
  },
  {
   "cell_type": "markdown",
   "metadata": {},
   "source": [
    "### 2.1. Importeren van benodigde pakketten"
   ]
  },
  {
   "cell_type": "code",
   "execution_count": 1,
   "metadata": {},
   "outputs": [
    {
     "name": "stderr",
     "output_type": "stream",
     "text": [
      "2024-10-02 16:37:42.045216: E external/local_xla/xla/stream_executor/cuda/cuda_fft.cc:485] Unable to register cuFFT factory: Attempting to register factory for plugin cuFFT when one has already been registered\n",
      "2024-10-02 16:37:42.054838: E external/local_xla/xla/stream_executor/cuda/cuda_dnn.cc:8454] Unable to register cuDNN factory: Attempting to register factory for plugin cuDNN when one has already been registered\n",
      "2024-10-02 16:37:42.057716: E external/local_xla/xla/stream_executor/cuda/cuda_blas.cc:1452] Unable to register cuBLAS factory: Attempting to register factory for plugin cuBLAS when one has already been registered\n",
      "2024-10-02 16:37:42.065838: I tensorflow/core/platform/cpu_feature_guard.cc:210] This TensorFlow binary is optimized to use available CPU instructions in performance-critical operations.\n",
      "To enable the following instructions: AVX2 FMA, in other operations, rebuild TensorFlow with the appropriate compiler flags.\n",
      "2024-10-02 16:37:42.657771: W tensorflow/compiler/tf2tensorrt/utils/py_utils.cc:38] TF-TRT Warning: Could not find TensorRT\n"
     ]
    }
   ],
   "source": [
    "from IPython.display import HTML, display\n",
    "from matplotlib import pyplot as plt\n",
    "from sklearn.preprocessing import LabelEncoder\n",
    "from tensorflow import keras\n",
    "from tensorflow.keras import layers, models\n",
    "from tensorflow.keras.preprocessing.text import Tokenizer\n",
    "\n",
    "import itertools\n",
    "import numpy as np\n",
    "import pandas as pd\n",
    "import tensorflow as tf"
   ]
  },
  {
   "cell_type": "markdown",
   "metadata": {},
   "source": [
    "### 2.2. Inspecteren van `training.csv`"
   ]
  },
  {
   "cell_type": "code",
   "execution_count": 2,
   "metadata": {},
   "outputs": [],
   "source": [
    "training_df = pd.read_csv(\"Data/huiswerk/training.csv.gz\")"
   ]
  },
  {
   "cell_type": "markdown",
   "metadata": {},
   "source": [
    "Om een eerste blik te werpen op de traindata, gebruik ik de volgende methodes. Ik zie dat er zo’n 120 duizend regels zijn, elk met:\n",
    "- Een `usage`-veld, waarschijnlijk voor `training.csv` alleen maar `train`, voor `testing.csv` alleen maar `testing`, etc.\n",
    "- Een `main genre`-veld, dat waarschijnlijk overeenkomt met de genres uit de Business Understanding\n",
    "- Een `samplenumber`-veld, elk boek is gesplitst per 600 woorden, deze geeft aan wat eindpunt is van de genomen sample is\n",
    "- Een `txt`-veld, met maximaal 600 woorden"
   ]
  },
  {
   "cell_type": "code",
   "execution_count": 3,
   "metadata": {},
   "outputs": [
    {
     "name": "stdout",
     "output_type": "stream",
     "text": [
      "<class 'pandas.core.frame.DataFrame'>\n",
      "RangeIndex: 1220126 entries, 0 to 1220125\n",
      "Data columns (total 5 columns):\n",
      " #   Column        Non-Null Count    Dtype \n",
      "---  ------        --------------    ----- \n",
      " 0   usage         1220126 non-null  object\n",
      " 1   main genre    1220126 non-null  object\n",
      " 2   title         1220126 non-null  object\n",
      " 3   samplenumber  1220126 non-null  int64 \n",
      " 4   txt           1220126 non-null  object\n",
      "dtypes: int64(1), object(4)\n",
      "memory usage: 46.5+ MB\n"
     ]
    },
    {
     "data": {
      "text/html": [
       "<div>\n",
       "<style scoped>\n",
       "    .dataframe tbody tr th:only-of-type {\n",
       "        vertical-align: middle;\n",
       "    }\n",
       "\n",
       "    .dataframe tbody tr th {\n",
       "        vertical-align: top;\n",
       "    }\n",
       "\n",
       "    .dataframe thead th {\n",
       "        text-align: right;\n",
       "    }\n",
       "</style>\n",
       "<table border=\"1\" class=\"dataframe\">\n",
       "  <thead>\n",
       "    <tr style=\"text-align: right;\">\n",
       "      <th></th>\n",
       "      <th>usage</th>\n",
       "      <th>main genre</th>\n",
       "      <th>title</th>\n",
       "      <th>samplenumber</th>\n",
       "      <th>txt</th>\n",
       "    </tr>\n",
       "  </thead>\n",
       "  <tbody>\n",
       "    <tr>\n",
       "      <th>0</th>\n",
       "      <td>train</td>\n",
       "      <td>American Literature</td>\n",
       "      <td>The Works of John Greenleaf Whittier, Volume V...</td>\n",
       "      <td>600</td>\n",
       "      <td>journey more terrible than that of the ideal p...</td>\n",
       "    </tr>\n",
       "    <tr>\n",
       "      <th>1</th>\n",
       "      <td>train</td>\n",
       "      <td>American Literature</td>\n",
       "      <td>The Works of John Greenleaf Whittier, Volume V...</td>\n",
       "      <td>1200</td>\n",
       "      <td>great struggle for freedom but a soldier of th...</td>\n",
       "    </tr>\n",
       "    <tr>\n",
       "      <th>2</th>\n",
       "      <td>train</td>\n",
       "      <td>American Literature</td>\n",
       "      <td>The Works of John Greenleaf Whittier, Volume V...</td>\n",
       "      <td>1800</td>\n",
       "      <td>says overrun with superstition on one occasion...</td>\n",
       "    </tr>\n",
       "    <tr>\n",
       "      <th>3</th>\n",
       "      <td>train</td>\n",
       "      <td>American Literature</td>\n",
       "      <td>The Works of John Greenleaf Whittier, Volume V...</td>\n",
       "      <td>2400</td>\n",
       "      <td>practice of swearing although previously he te...</td>\n",
       "    </tr>\n",
       "    <tr>\n",
       "      <th>4</th>\n",
       "      <td>train</td>\n",
       "      <td>American Literature</td>\n",
       "      <td>The Works of John Greenleaf Whittier, Volume V...</td>\n",
       "      <td>3000</td>\n",
       "      <td>all manner of uncleanness he would laugh at al...</td>\n",
       "    </tr>\n",
       "  </tbody>\n",
       "</table>\n",
       "</div>"
      ],
      "text/plain": [
       "   usage           main genre  \\\n",
       "0  train  American Literature   \n",
       "1  train  American Literature   \n",
       "2  train  American Literature   \n",
       "3  train  American Literature   \n",
       "4  train  American Literature   \n",
       "\n",
       "                                               title  samplenumber  \\\n",
       "0  The Works of John Greenleaf Whittier, Volume V...           600   \n",
       "1  The Works of John Greenleaf Whittier, Volume V...          1200   \n",
       "2  The Works of John Greenleaf Whittier, Volume V...          1800   \n",
       "3  The Works of John Greenleaf Whittier, Volume V...          2400   \n",
       "4  The Works of John Greenleaf Whittier, Volume V...          3000   \n",
       "\n",
       "                                                 txt  \n",
       "0  journey more terrible than that of the ideal p...  \n",
       "1  great struggle for freedom but a soldier of th...  \n",
       "2  says overrun with superstition on one occasion...  \n",
       "3  practice of swearing although previously he te...  \n",
       "4  all manner of uncleanness he would laugh at al...  "
      ]
     },
     "execution_count": 3,
     "metadata": {},
     "output_type": "execute_result"
    }
   ],
   "source": [
    "training_df.info()\n",
    "training_df.head()"
   ]
  },
  {
   "cell_type": "markdown",
   "metadata": {},
   "source": [
    "In verband met performance, pak ik eerst 20 duizend items, in plaats van de totale hoeveelheid."
   ]
  },
  {
   "cell_type": "code",
   "execution_count": 4,
   "metadata": {},
   "outputs": [],
   "source": [
    "ROW_LIMIT = 20000\n",
    "training_df = training_df.head(ROW_LIMIT)"
   ]
  },
  {
   "cell_type": "markdown",
   "metadata": {},
   "source": [
    "#### 2.2.1. `train`-veld\n",
    "Het klopt inderdaad dat dit bestand alleen `train` als `usage` bevat:"
   ]
  },
  {
   "cell_type": "code",
   "execution_count": 5,
   "metadata": {},
   "outputs": [
    {
     "data": {
      "text/html": [
       "<div>\n",
       "<style scoped>\n",
       "    .dataframe tbody tr th:only-of-type {\n",
       "        vertical-align: middle;\n",
       "    }\n",
       "\n",
       "    .dataframe tbody tr th {\n",
       "        vertical-align: top;\n",
       "    }\n",
       "\n",
       "    .dataframe thead th {\n",
       "        text-align: right;\n",
       "    }\n",
       "</style>\n",
       "<table border=\"1\" class=\"dataframe\">\n",
       "  <thead>\n",
       "    <tr style=\"text-align: right;\">\n",
       "      <th></th>\n",
       "      <th>Usage</th>\n",
       "    </tr>\n",
       "  </thead>\n",
       "  <tbody>\n",
       "    <tr>\n",
       "      <th>0</th>\n",
       "      <td>train</td>\n",
       "    </tr>\n",
       "  </tbody>\n",
       "</table>\n",
       "</div>"
      ],
      "text/plain": [
       "   Usage\n",
       "0  train"
      ]
     },
     "execution_count": 5,
     "metadata": {},
     "output_type": "execute_result"
    }
   ],
   "source": [
    "unique_usages = [[x] for x in training_df['usage'].unique()]\n",
    "pd.DataFrame(unique_usages, columns=['Usage'])"
   ]
  },
  {
   "cell_type": "markdown",
   "metadata": {},
   "source": [
    "#### 2.2.2. `main genre`-veld\n",
    "Om te testen of de genres overeenkomen met de zeven uit de Business Understanding, pak ik de unieke genres van de dataframe, en zie dat ze inderdaad overeenkomen met de juiste uit de Business Understanding:"
   ]
  },
  {
   "cell_type": "code",
   "execution_count": 6,
   "metadata": {},
   "outputs": [
    {
     "data": {
      "text/html": [
       "<div>\n",
       "<style scoped>\n",
       "    .dataframe tbody tr th:only-of-type {\n",
       "        vertical-align: middle;\n",
       "    }\n",
       "\n",
       "    .dataframe tbody tr th {\n",
       "        vertical-align: top;\n",
       "    }\n",
       "\n",
       "    .dataframe thead th {\n",
       "        text-align: right;\n",
       "    }\n",
       "</style>\n",
       "<table border=\"1\" class=\"dataframe\">\n",
       "  <thead>\n",
       "    <tr style=\"text-align: right;\">\n",
       "      <th></th>\n",
       "      <th>Genre</th>\n",
       "    </tr>\n",
       "  </thead>\n",
       "  <tbody>\n",
       "    <tr>\n",
       "      <th>0</th>\n",
       "      <td>American Literature</td>\n",
       "    </tr>\n",
       "    <tr>\n",
       "      <th>1</th>\n",
       "      <td>Fiction and juvenile belles lettres</td>\n",
       "    </tr>\n",
       "    <tr>\n",
       "      <th>2</th>\n",
       "      <td>Periodicals</td>\n",
       "    </tr>\n",
       "    <tr>\n",
       "      <th>3</th>\n",
       "      <td>English Literature</td>\n",
       "    </tr>\n",
       "    <tr>\n",
       "      <th>4</th>\n",
       "      <td>Philosophy, Psychology and Religion</td>\n",
       "    </tr>\n",
       "    <tr>\n",
       "      <th>5</th>\n",
       "      <td>History of Europe, Asia, Africa and Oceania</td>\n",
       "    </tr>\n",
       "    <tr>\n",
       "      <th>6</th>\n",
       "      <td>Language and Literature</td>\n",
       "    </tr>\n",
       "  </tbody>\n",
       "</table>\n",
       "</div>"
      ],
      "text/plain": [
       "                                         Genre\n",
       "0                          American Literature\n",
       "1          Fiction and juvenile belles lettres\n",
       "2                                  Periodicals\n",
       "3                           English Literature\n",
       "4          Philosophy, Psychology and Religion\n",
       "5  History of Europe, Asia, Africa and Oceania\n",
       "6                      Language and Literature"
      ]
     },
     "execution_count": 6,
     "metadata": {},
     "output_type": "execute_result"
    }
   ],
   "source": [
    "unieke_genres = training_df['main genre'].unique()\n",
    "pd.DataFrame({'Genre': unieke_genres})"
   ]
  },
  {
   "cell_type": "markdown",
   "metadata": {},
   "source": [
    "#### 2.2.3. `txt`-veld\n",
    "Het `txt`-veld bevat een deel van de tekst van een boek. Elk boek is namelijk gesplitst per 600 woorden, dus het veld bevat een deel van het boek. Zoals je je hieronder kunt zien, slaan de vijf zinnen los nergens op (althans het einde ervan), maar als je dan verderleest op de volgende regel, zul je zien dat het wél klopt:"
   ]
  },
  {
   "cell_type": "code",
   "execution_count": 7,
   "metadata": {},
   "outputs": [
    {
     "name": "stdout",
     "output_type": "stream",
     "text": [
      "TXT: journey more terrible than that of the ideal pilgrim truth stranger than fiction the painful upward struggling of a spirit from the blackness of despair and blasphemy into the high pure air of hope and faith more earnest words were never written it is the entire unveiling of a human heart the tearing off of the fig leaf covering of its sin the voice which speaks to us from these old pages seems not so much that of a denizen of the world in which we live as of a soul at the last solemn confessional shorn of all ornament simple and direct as the contrition and prayer of childhood when for the first time the spectre of sin stands by its bedside the style is that of a man dead to self gratification careless of the worlds opinion and only desirous to convey to others in all truthfulness and sincerity the lesson of his inward trials temptations sins weaknesses and dangers and to give glory to him who had mercifully led him through all and enabled him like his own pilgrim to leave behind the valley of the shadow of death the snares of the enchanted ground and the terrors of doubting castle and to reach the land of beulah where the air was sweet and pleasant and the birds sang and the flowers sprang up around him and the shining ones walked in the brightness of the not distant heaven in the introductory pages he says he could have dipped into a style higher than this in which i have discoursed and could have adorned all things more than here i have seemed to do but i dared not god did not play in tempting me neither did i play when i sunk as it were into a bottomless pit when the pangs of hell took hold on me wherefore i may not play in relating of them but be plain and simple and lay down the thing as it was this book as well as pilgrims progress was written in bedford prison and was designed especially for the comfort and edification of his children whom god had counted him worthy to beget in faith by his ministry in his introduction he tells them that although taken from them and tied up sticking as it were between the teeth of the lions of the wilderness he once again as before from the top of shemer and hermon so now from the lions den and the mountain of leopards would look after then with fatherly care and desires for their everlasting welfare if said he you have sinned against light if you are tempted to blaspheme if you are drowned in despair if you think god fights against you or if heaven is hidden from your eyes remember it was so with your father but out of all the lord delivered me he gives no dates he affords scarcely a clue to his localities of the man as he worked and ate and drank and lodged of his neighbors and contemporaries of all he saw and heard of the world about him we have only an occasional glimpse here and there in his narrative it is the story of his inward life only that he relates what had time and place to do with one who trembled always with the awful consciousness of an immortal nature and about whom fell alternately the shadows of hell and the splendors of heaven we gather indeed from his record that he was not an idle on looker in the time of englands\n",
      "TXT: great struggle for freedom but a soldier of the parliament in his young years among the praying sworders and psalm singing pikemen the greathearts and holdfasts whom he has immortalized in his allegory but the only allusion which he makes to this portion of his experience is by way of illustration of the goodness of god in preserving him on occasions of peril he was born at elstow in bedfordshire in and to use his own words his fathers house was of that rank which is the meanest and most despised of all the families of the land his father was a tinker and the son followed the same calling which necessarily brought him into association with the lowest and most depraved classes of english society the estimation in which the tinker and his occupation were held in the seventeenth century may be learned from the quaint and humorous description of sir thomas overbury the tinker saith he is a movable for he hath no abiding in one place he seems to be devout for his life is a continual pilgrimage and sometimes in humility goes barefoot therein making necessity a virtue he is a gallant for he carries all his wealth upon his back or a philosopher for he bears all his substance with him he is always furnished with a song to which his hammer keeping tune proves that he was the first founder of the kettle drum where the best ale is there stands his music most upon crotchets the companion of his travel is some foul sun burnt quean that since the terrible statute has recanted gypsyism and is turned pedlaress so marches he all over england with his bag and baggage his conversation is irreprovable for he is always mending he observes truly the statutes and therefore had rather steal than beg he is so strong an enemy of idleness that in mending one hole he would rather make three than want work and when he hath done he throws the wallet of his faults behind him his tongue is very voluble which with canting proves him a linguist he is entertained in every place yet enters no farther than the door to avoid suspicion to conclude if he escape tyburn and banbury he dies a beggar truly but a poor beginning for a pious life was the youth of john bunyan as might have been expected he was a wild reckless swearing boy as his father doubtless was before him it was my delight says he to be taken captive by the devil i had few equals both for cursing and swearing lying and blaspheming yet in his ignorance and darkness his powerful imagination early lent terror to the reproaches of conscience he was scared even in childhood with dreams of hell and apparitions of devils troubled with fears of eternal fire and the malignant demons who fed it in the regions of despair he says that he often wished either that there was no hell or that he had been born a devil himself that he might be a tormentor rather than one of the tormented at an early age he appears to have married his wife was as poor as himself for he tells us that they had not so much as a dish or spoon between them but she brought with her two books on religious subjects the reading of which seems to have had no slight degree of influence on his mind he went to church regularly adored the priest and all things pertaining to his office being as he\n",
      "TXT: says overrun with superstition on one occasion a sermon was preached against the breach of the sabbath by sports or labor which struck him at the moment as especially designed for himself but by the time he had finished his dinner he was prepared to shake it out of his mind and return to his sports and gaming but the same day he continues as i was in the midst of a game of cat and having struck it one blow from the hole just as i was about to strike it a second time a voice did suddenly dart from heaven into my soul which said wilt thou leave thy sins and go to heaven or have thy sins and go to hell at this i was put to an exceeding maze wherefore leaving my cat upon the ground i looked up to heaven and it was as if i had with the eyes of my understanding seen the lord jesus look down upon me as being very hotly displeased with me and as if he did severely threaten me with some grievous punishment for those and other ungodly practices i had no sooner thus conceived in my mind but suddenly this conclusion fastened on my spirit for the former hint did set my sins again before my face that i had been a great and grievous sinner and that it was now too late for me to look after heaven for christ would not forgive me nor pardon my transgressions then while i was thinking of it and fearing lest it should be so i felt my heart sink in despair concluding it was too late and therefore i resolved in my mind to go on in sin for thought i if the case be thus my state is surely miserable miserable if i leave my sins and but miserable if i follow them i can but be damned and if i must be so i had as good be damned for many sins as be damned for few the reader of pilgrims progress cannot fail here to call to mind the wicked suggestions of the giant to christian in the dungeon of doubting castle i returned he says desperately to my sport again and i well remember that presently this kind of despair did so possess my soul that i was persuaded i could never attain to other comfort than what i should get in sin for heaven was gone already so that on that i must not think wherefore i found within me great desire to take my fill of sin that i might taste the sweetness of it and i made as much haste as i could to fill my belly with its delicates lest i should die before i had my desires for that i feared greatly in these things i protest before god i lie not neither do i frame this sort of speech these were really strongly and with all my heart my desires the good lord whose mercy is unsearchable forgive my transgressions one day while standing in the street cursing and blaspheming he met with a reproof which startled him the woman of the house in front of which the wicked young tinker was standing herself as he remarks a very loose ungodly wretch protested that his horrible profanity made her tremble that he was the ungodliest fellow for swearing she had ever heard and able to spoil all the youth of the town who came in his company struck by this wholly unexpected rebuke he at once abandoned the\n",
      "TXT: practice of swearing although previously he tells us that he had never known how to speak unless he put an oath before and another behind the good name which he gained by this change was now a temptation to him my neighbors he says were amazed at my great conversion from prodigious profaneness to something like a moral life and sober man now therefore they began to praise to commend and to speak well of me both to my face and behind my back now i was as they said become godly now i was become a right honest man but oh when i understood those were their words and opinions of me it pleased me mighty well for though as yet i was nothing but a poor painted hypocrite yet i loved to be talked of as one that was truly godly i was proud of my godliness and indeed i did all i did either to be seen of or well spoken of by men and thus i continued for about a twelvemonth or more the tyranny of his imagination at this period is seen in the following relation of his abandonment of one of his favorite sports now you must know that before this i had taken much delight in ringing but my conscience beginning to be tender i thought such practice was but vain and therefore forced myself to leave it yet my mind hankered wherefore i would go to the steeple house and look on though i durst not ring but i thought this did not become religion neither yet i forced myself and would look on still but quickly after i began to think how if one of the bells should fall then i chose to stand under a main beam that lay overthwart the steeple from side to side thinking here i might stand sure but then i thought again should the bell fall with a swing it might first hit the wall and then rebounding upon me might kill me for all this beam this made me stand in the steeple door and now thought i i am safe enough for if a bell should then fall i can slip out behind these thick walls and so be preserved notwithstanding so after this i would yet go to see them ring but would not go any farther than the steeple door but then it came in my head how if the steeple itself should fall and this thought it may for aught i know when i stood and looked on did continually so shake my mind that i durst not stand at the steeple door any longer but was forced to flee for fear the steeple should fall upon my head about this time while wandering through bedford in pursuit of employment he chanced to see three or four poor old women sitting at a door in the evening sun and drawing near them heard them converse upon the things of god of his work in their hearts of their natural depravity of the temptations of the adversary and of the joy of believing and of the peace of reconciliation the words of the aged women found a response in the soul of the listener he felt his heart shake to use his own words he saw that he lacked the true tokens of a christian he now forsook the company of the profane and licentious and sought that of a poor man who had the reputation of piety but to his grief he found him a devilish ranter given up to\n",
      "TXT: all manner of uncleanness he would laugh at all exhortations to sobriety and deny that there was a god an angel or a spirit neither he continues was this man only a temptation to me but my calling lying in the country i happened to come into several peoples company who though strict in religion formerly yet were also drawn away by these ranters these would also talk with me of their ways and condemn me as illegal and dark pretending that they only had attained to perfection that they could do what they would and not sin oh these temptations were suitable to my flesh i being but a young man and my nature in its prime but god who had as i hope designed me for better things kept me in the fear of his name and did not suffer me to accept such cursed principles at this time he was sadly troubled to ascertain whether or not he had that faith which the scriptures spake of travelling one day from elstow to bedford after a recent rain which had left pools of water in the path he felt a strong desire to settle the question by commanding the pools to become dry and the dry places to become pools going under the hedge to pray for ability to work the miracle he was struck with the thought that if he failed he should know indeed that he was a castaway and give himself up to despair he dared not attempt the experiment and went on his way to use his own forcible language tossed up and down between the devil and his own ignorance soon after he had one of those visions which foreshadowed the wonderful dream of his pilgrims progress he saw some holy people of bedford on the sunny side of an high mountain refreshing themselves in the pleasant air and sunlight while he was shivering in cold and darkness amidst snows and never melting ices like the victims of the scandinavian hell a wall compassed the mountain separating him from the blessed with one small gap or doorway through which with great pain and effort he was at last enabled to work his way into the sunshine and sit down with the saints in the light and warmth thereof but now a new trouble assailed him like miltons metaphysical spirits who sat apart and reasoned of foreknowledge will and fate he grappled with one of those great questions which have always perplexed and baffled human inquiry and upon which much has been written to little purpose he was tortured with anxiety to know whether according to the westminster formula he was elected to salvation or damnation his old adversary vexed his soul with evil suggestions and even quoted scripture to enforce them it may be you are not elected said the tempter and the poor tinker thought the supposition altogether too probable why then said satan you had as good leave off and strive no farther for if indeed you should not be elected and chosen of god there is no hope of your being saved for it is neither in him that willeth nor in him that runneth but in god who showeth mercy at length when as he says he was about giving up the ghost of all his hopes this passage fell with weight upon his spirit look at the generations of old and see did ever any trust in god and were confounded comforted by these words he opened his bible took note them but the most diligent search and\n"
     ]
    }
   ],
   "source": [
    "for x in training_df['txt'].head():\n",
    "    print('TXT: ' + x)"
   ]
  },
  {
   "cell_type": "markdown",
   "metadata": {},
   "source": [
    "Om een beeld te krijgen van het aantal tekens in het veld, pak ik de standaardafwijking, het minimum en maximum. Hier zie ik dat er een verschoven verdeling zit in het aantal tekens per `txt` veld:"
   ]
  },
  {
   "cell_type": "code",
   "execution_count": 8,
   "metadata": {},
   "outputs": [
    {
     "name": "stdout",
     "output_type": "stream",
     "text": [
      "Standaardafwijking van het `txt`-veld is: 183.43700907179246 tekens\n",
      "Gemiddelde van het `txt`-veld is: 3204.7469 tekens\n",
      "Met een minimum van 6 teken(s)\n",
      "En een maximum van 4427 tekens\n"
     ]
    }
   ],
   "source": [
    "txt_lengtes = training_df['txt'].apply(lambda txt: len(txt))\n",
    "print(f\"Standaardafwijking van het `txt`-veld is: {txt_lengtes.std()} tekens\")\n",
    "print(f\"Gemiddelde van het `txt`-veld is: {txt_lengtes.mean()} tekens\")\n",
    "print(f\"Met een minimum van {txt_lengtes.min()} teken(s)\")\n",
    "print(f\"En een maximum van {txt_lengtes.max()} tekens\")"
   ]
  },
  {
   "cell_type": "markdown",
   "metadata": {},
   "source": [
    "Omdat het aantal tekens wat verschoven is, vind ik het interessant om te kijken naar het aantal woorden per `txt`, waar ik zie dat het aantal woorden inderdaad rond de 600 zit, maar er toch een aantal regels zijn die niet zoveel bevatten:"
   ]
  },
  {
   "cell_type": "code",
   "execution_count": 9,
   "metadata": {},
   "outputs": [
    {
     "name": "stdout",
     "output_type": "stream",
     "text": [
      "Standaardafwijking van het `txt`-veld is: 13.205596756651516 woorden\n",
      "Gemiddelde van het `txt`-veld is: 599.6787 tekens\n",
      "Met een minimum van 1 woord(en)\n",
      "En een maximum van 600 woorden\n"
     ]
    }
   ],
   "source": [
    "training_df['woordaantal'] = training_df['txt'].apply(lambda txt: len(txt.split()))\n",
    "txt_lengtes = training_df['woordaantal']\n",
    "print(f\"Standaardafwijking van het `txt`-veld is: {txt_lengtes.std()} woorden\")\n",
    "print(f\"Gemiddelde van het `txt`-veld is: {txt_lengtes.mean()} tekens\")\n",
    "print(f\"Met een minimum van {txt_lengtes.min()} woord(en)\")\n",
    "print(f\"En een maximum van {txt_lengtes.max()} woorden\")"
   ]
  },
  {
   "cell_type": "markdown",
   "metadata": {},
   "source": [
    "Hmm, het lijkt erop dat er een aantal regels zijn met weinig woorden, maar hoeveel zijn dat er? Hieronder zien we dat het grootste deel wel 600 woorden lang is, en maar $0.07 \\%$ daaronder zit."
   ]
  },
  {
   "cell_type": "code",
   "execution_count": 10,
   "metadata": {},
   "outputs": [
    {
     "data": {
      "text/html": [
       "<div>\n",
       "<style scoped>\n",
       "    .dataframe tbody tr th:only-of-type {\n",
       "        vertical-align: middle;\n",
       "    }\n",
       "\n",
       "    .dataframe tbody tr th {\n",
       "        vertical-align: top;\n",
       "    }\n",
       "\n",
       "    .dataframe thead th {\n",
       "        text-align: right;\n",
       "    }\n",
       "</style>\n",
       "<table border=\"1\" class=\"dataframe\">\n",
       "  <thead>\n",
       "    <tr style=\"text-align: right;\">\n",
       "      <th></th>\n",
       "      <th>Reeksen</th>\n",
       "      <th>Percentages</th>\n",
       "      <th>Aantallen</th>\n",
       "    </tr>\n",
       "  </thead>\n",
       "  <tbody>\n",
       "    <tr>\n",
       "      <th>0</th>\n",
       "      <td>000-100</td>\n",
       "      <td>0.04%</td>\n",
       "      <td>8</td>\n",
       "    </tr>\n",
       "    <tr>\n",
       "      <th>1</th>\n",
       "      <td>100-200</td>\n",
       "      <td>0.02%</td>\n",
       "      <td>4</td>\n",
       "    </tr>\n",
       "    <tr>\n",
       "      <th>2</th>\n",
       "      <td>600-700</td>\n",
       "      <td>99.94%</td>\n",
       "      <td>19988</td>\n",
       "    </tr>\n",
       "  </tbody>\n",
       "</table>\n",
       "</div>"
      ],
      "text/plain": [
       "   Reeksen Percentages  Aantallen\n",
       "0  000-100       0.04%          8\n",
       "1  100-200       0.02%          4\n",
       "2  600-700      99.94%      19988"
      ]
     },
     "execution_count": 10,
     "metadata": {},
     "output_type": "execute_result"
    }
   ],
   "source": [
    "ranges = []\n",
    "percentages = []\n",
    "counts = []\n",
    "for x in txt_lengtes.groupby(txt_lengtes // 100):\n",
    "    percentage = (len(x[1]) / len(txt_lengtes) * 100)\n",
    "    ranges.append(f'{x[0]}00-{x[0]+1}00')\n",
    "    percentages.append(f\"{percentage:2.2f}%\")\n",
    "    counts.append(len(x[1]))\n",
    "\n",
    "pd.DataFrame({'Reeksen': ranges, 'Percentages': percentages, 'Aantallen': counts})"
   ]
  },
  {
   "cell_type": "markdown",
   "metadata": {},
   "source": [
    "Om de tokenizer te kunnen laten werken in het model, is het belangrijk om het aantal verschillende woorden ongeveer te weten:"
   ]
  },
  {
   "cell_type": "code",
   "execution_count": 11,
   "metadata": {},
   "outputs": [
    {
     "data": {
      "text/plain": [
       "110005"
      ]
     },
     "execution_count": 11,
     "metadata": {},
     "output_type": "execute_result"
    }
   ],
   "source": [
    "tmp = set(itertools.chain.from_iterable(training_df['txt'].apply(lambda txt: txt.split())))\n",
    "len(tmp)"
   ]
  },
  {
   "cell_type": "markdown",
   "metadata": {},
   "source": [
    "### 2.3. Inladen van `testing.csv` en `validation.csv`"
   ]
  },
  {
   "cell_type": "code",
   "execution_count": 12,
   "metadata": {},
   "outputs": [
    {
     "name": "stdout",
     "output_type": "stream",
     "text": [
      "<class 'pandas.core.frame.DataFrame'>\n",
      "RangeIndex: 20000 entries, 0 to 19999\n",
      "Data columns (total 5 columns):\n",
      " #   Column        Non-Null Count  Dtype \n",
      "---  ------        --------------  ----- \n",
      " 0   usage         20000 non-null  object\n",
      " 1   main genre    20000 non-null  object\n",
      " 2   title         20000 non-null  object\n",
      " 3   samplenumber  20000 non-null  int64 \n",
      " 4   txt           20000 non-null  object\n",
      "dtypes: int64(1), object(4)\n",
      "memory usage: 781.4+ KB\n"
     ]
    }
   ],
   "source": [
    "testing_df = pd.read_csv(\"Data/huiswerk/testing.csv.gz\")\n",
    "testing_df = testing_df.head(ROW_LIMIT)\n",
    "testing_df.info()"
   ]
  },
  {
   "cell_type": "code",
   "execution_count": 13,
   "metadata": {},
   "outputs": [
    {
     "name": "stdout",
     "output_type": "stream",
     "text": [
      "<class 'pandas.core.frame.DataFrame'>\n",
      "RangeIndex: 20000 entries, 0 to 19999\n",
      "Data columns (total 5 columns):\n",
      " #   Column        Non-Null Count  Dtype \n",
      "---  ------        --------------  ----- \n",
      " 0   usage         20000 non-null  object\n",
      " 1   main genre    20000 non-null  object\n",
      " 2   title         20000 non-null  object\n",
      " 3   samplenumber  20000 non-null  int64 \n",
      " 4   txt           20000 non-null  object\n",
      "dtypes: int64(1), object(4)\n",
      "memory usage: 781.4+ KB\n"
     ]
    }
   ],
   "source": [
    "validation_df = pd.read_csv(\"Data/huiswerk/validation.csv.gz\")\n",
    "validation_df = validation_df.head(ROW_LIMIT)\n",
    "validation_df.info()"
   ]
  },
  {
   "cell_type": "code",
   "execution_count": 14,
   "metadata": {},
   "outputs": [],
   "source": [
    "testing_df['woordaantal'] = testing_df['txt'].apply(lambda txt: len(txt.split()))"
   ]
  },
  {
   "cell_type": "code",
   "execution_count": 15,
   "metadata": {},
   "outputs": [],
   "source": [
    "validation_df['woordaantal'] = validation_df['txt'].apply(lambda txt: len(txt.split()))"
   ]
  },
  {
   "cell_type": "markdown",
   "metadata": {},
   "source": [
    "## 3. Data Preparation"
   ]
  },
  {
   "cell_type": "markdown",
   "metadata": {},
   "source": [
    "### 3.1. Filteren van teksten onder de 600 woorden\n",
    "Zoals we zagen bij de Data Understanding, zijn de meeste teksten precies 600 woorden. Alles wat daaronder zit is een miniscule hoeveelheid, en filter ik daarom gewoon weg."
   ]
  },
  {
   "cell_type": "code",
   "execution_count": 16,
   "metadata": {},
   "outputs": [
    {
     "name": "stdout",
     "output_type": "stream",
     "text": [
      "<class 'pandas.core.frame.DataFrame'>\n",
      "Index: 19988 entries, 0 to 19999\n",
      "Data columns (total 6 columns):\n",
      " #   Column        Non-Null Count  Dtype \n",
      "---  ------        --------------  ----- \n",
      " 0   usage         19988 non-null  object\n",
      " 1   main genre    19988 non-null  object\n",
      " 2   title         19988 non-null  object\n",
      " 3   samplenumber  19988 non-null  int64 \n",
      " 4   txt           19988 non-null  object\n",
      " 5   woordaantal   19988 non-null  int64 \n",
      "dtypes: int64(2), object(4)\n",
      "memory usage: 1.1+ MB\n"
     ]
    }
   ],
   "source": [
    "AANTAL_WOORDEN_PER_TEKST = 600\n",
    "training_df = training_df[training_df['woordaantal'] == AANTAL_WOORDEN_PER_TEKST]\n",
    "training_df.info()"
   ]
  },
  {
   "cell_type": "code",
   "execution_count": 17,
   "metadata": {},
   "outputs": [],
   "source": [
    "testing_df = testing_df[testing_df['woordaantal'] == AANTAL_WOORDEN_PER_TEKST]\n",
    "validation_df = validation_df[validation_df['woordaantal'] == AANTAL_WOORDEN_PER_TEKST]"
   ]
  },
  {
   "cell_type": "markdown",
   "metadata": {},
   "source": [
    "### 3.2. Omzetten labels\n",
    "Om te kunnen werken met getallen bij de labels, gebruik ik de [`LabelEncoder`](https://scikit-learn.org/stable/modules/generated/sklearn.preprocessing.LabelEncoder.html) van _scikit-learn_:"
   ]
  },
  {
   "cell_type": "code",
   "execution_count": 18,
   "metadata": {},
   "outputs": [],
   "source": [
    "le = LabelEncoder()\n",
    "le.fit(unieke_genres)\n",
    "LABEL_COUNT = len(unieke_genres)\n",
    "\n",
    "train_labels = le.transform(training_df['main genre'])\n",
    "testing_labels = le.transform(testing_df['main genre'])\n",
    "validation_labels = le.transform(validation_df['main genre'])"
   ]
  },
  {
   "cell_type": "markdown",
   "metadata": {},
   "source": [
    "### 3.2. Opzetten tokenizer"
   ]
  },
  {
   "cell_type": "code",
   "execution_count": 19,
   "metadata": {},
   "outputs": [],
   "source": [
    "AANTAL_WOORDEN = 200000\n",
    "tokenizer = Tokenizer(num_words=AANTAL_WOORDEN)\n",
    "tokenizer.fit_on_texts(training_df['txt'])"
   ]
  },
  {
   "cell_type": "code",
   "execution_count": 20,
   "metadata": {},
   "outputs": [
    {
     "data": {
      "text/plain": [
       "[('the', 1), ('of', 2), ('and', 3), ('to', 4), ('a', 5)]"
      ]
     },
     "execution_count": 20,
     "metadata": {},
     "output_type": "execute_result"
    }
   ],
   "source": [
    "list(tokenizer.word_index.items())[:5]"
   ]
  },
  {
   "cell_type": "code",
   "execution_count": 29,
   "metadata": {},
   "outputs": [
    {
     "ename": "NameError",
     "evalue": "name 'training_df' is not defined",
     "output_type": "error",
     "traceback": [
      "\u001b[0;31m---------------------------------------------------------------------------\u001b[0m",
      "\u001b[0;31mNameError\u001b[0m                                 Traceback (most recent call last)",
      "Cell \u001b[0;32mIn[29], line 1\u001b[0m\n\u001b[0;32m----> 1\u001b[0m train_sequences \u001b[38;5;241m=\u001b[39m np\u001b[38;5;241m.\u001b[39marray(tokenizer\u001b[38;5;241m.\u001b[39mtexts_to_sequences(\u001b[43mtraining_df\u001b[49m[\u001b[38;5;124m'\u001b[39m\u001b[38;5;124mtxt\u001b[39m\u001b[38;5;124m'\u001b[39m]))\n\u001b[1;32m      2\u001b[0m testing_sequences \u001b[38;5;241m=\u001b[39m np\u001b[38;5;241m.\u001b[39marray(tokenizer\u001b[38;5;241m.\u001b[39mtexts_to_sequences(testing_df[\u001b[38;5;124m'\u001b[39m\u001b[38;5;124mtxt\u001b[39m\u001b[38;5;124m'\u001b[39m]))\n\u001b[1;32m      3\u001b[0m validation_sequences \u001b[38;5;241m=\u001b[39m np\u001b[38;5;241m.\u001b[39marray(tokenizer\u001b[38;5;241m.\u001b[39mtexts_to_sequences(validation_df[\u001b[38;5;124m'\u001b[39m\u001b[38;5;124mtxt\u001b[39m\u001b[38;5;124m'\u001b[39m]))\n",
      "\u001b[0;31mNameError\u001b[0m: name 'training_df' is not defined"
     ]
    }
   ],
   "source": [
    "train_sequences = np.array(tokenizer.texts_to_sequences(training_df['txt']))\n",
    "testing_sequences = np.array(tokenizer.texts_to_sequences(testing_df['txt']))\n",
    "validation_sequences = np.array(tokenizer.texts_to_sequences(validation_df['txt']))"
   ]
  },
  {
   "cell_type": "code",
   "execution_count": 30,
   "metadata": {},
   "outputs": [],
   "source": [
    "train_sequences = keras.preprocessing.sequence.pad_sequences(train_sequences, maxlen=AANTAL_WOORDEN_PER_TEKST)\n",
    "testing_sequences = keras.preprocessing.sequence.pad_sequences(testing_sequences, maxlen=AANTAL_WOORDEN_PER_TEKST)\n",
    "validation_sequences = keras.preprocessing.sequence.pad_sequences(validation_sequences, maxlen=AANTAL_WOORDEN_PER_TEKST)"
   ]
  },
  {
   "cell_type": "code",
   "execution_count": 22,
   "metadata": {},
   "outputs": [],
   "source": [
    "del percentage\n",
    "del percentages\n",
    "del ranges\n",
    "del txt_lengtes\n",
    "del unieke_genres\n",
    "del unique_usages\n",
    "del x\n",
    "del testing_df\n",
    "del tmp\n",
    "del training_df\n",
    "del validation_df\n"
   ]
  },
  {
   "cell_type": "markdown",
   "metadata": {},
   "source": [
    "## 4. Modeling"
   ]
  },
  {
   "cell_type": "code",
   "execution_count": 34,
   "metadata": {},
   "outputs": [],
   "source": [
    "DIMS=100\n",
    "model = models.Sequential([\n",
    "    layers.Embedding(input_dim=AANTAL_WOORDEN, output_dim=DIMS, input_length=AANTAL_WOORDEN_PER_TEKST),\n",
    "    layers.Bidirectional(layers.GRU(32, return_sequences=True, dropout=0.2)),\n",
    "    layers.Bidirectional(layers.GRU(32)),\n",
    "    layers.Dense(LABEL_COUNT, activation='sigmoid'),\n",
    "])\n",
    "\n",
    "model.compile(optimizer='adam', loss='sparse_categorical_crossentropy', metrics=['accuracy'])"
   ]
  },
  {
   "cell_type": "code",
   "execution_count": 36,
   "metadata": {},
   "outputs": [
    {
     "name": "stdout",
     "output_type": "stream",
     "text": [
      "Epoch 1/10\n",
      "\u001b[1m625/625\u001b[0m \u001b[32m━━━━━━━━━━━━━━━━━━━━\u001b[0m\u001b[37m\u001b[0m \u001b[1m59s\u001b[0m 95ms/step - accuracy: 0.3852 - loss: 1.5834 - val_accuracy: 0.3503 - val_loss: 1.6932\n",
      "Epoch 2/10\n",
      "\u001b[1m625/625\u001b[0m \u001b[32m━━━━━━━━━━━━━━━━━━━━\u001b[0m\u001b[37m\u001b[0m \u001b[1m59s\u001b[0m 95ms/step - accuracy: 0.7410 - loss: 0.7141 - val_accuracy: 0.4740 - val_loss: 1.7720\n",
      "Epoch 3/10\n",
      "\u001b[1m625/625\u001b[0m \u001b[32m━━━━━━━━━━━━━━━━━━━━\u001b[0m\u001b[37m\u001b[0m \u001b[1m59s\u001b[0m 94ms/step - accuracy: 0.9546 - loss: 0.1535 - val_accuracy: 0.4274 - val_loss: 2.2437\n",
      "Epoch 4/10\n",
      "\u001b[1m625/625\u001b[0m \u001b[32m━━━━━━━━━━━━━━━━━━━━\u001b[0m\u001b[37m\u001b[0m \u001b[1m59s\u001b[0m 94ms/step - accuracy: 0.9859 - loss: 0.0501 - val_accuracy: 0.3958 - val_loss: 2.7307\n",
      "Epoch 5/10\n",
      "\u001b[1m625/625\u001b[0m \u001b[32m━━━━━━━━━━━━━━━━━━━━\u001b[0m\u001b[37m\u001b[0m \u001b[1m59s\u001b[0m 94ms/step - accuracy: 0.9965 - loss: 0.0153 - val_accuracy: 0.4207 - val_loss: 2.7922\n",
      "Epoch 6/10\n",
      "\u001b[1m625/625\u001b[0m \u001b[32m━━━━━━━━━━━━━━━━━━━━\u001b[0m\u001b[37m\u001b[0m \u001b[1m59s\u001b[0m 95ms/step - accuracy: 0.9970 - loss: 0.0112 - val_accuracy: 0.4495 - val_loss: 2.9440\n",
      "Epoch 7/10\n",
      "\u001b[1m625/625\u001b[0m \u001b[32m━━━━━━━━━━━━━━━━━━━━\u001b[0m\u001b[37m\u001b[0m \u001b[1m59s\u001b[0m 94ms/step - accuracy: 0.9965 - loss: 0.0118 - val_accuracy: 0.4326 - val_loss: 3.2808\n",
      "Epoch 8/10\n",
      "\u001b[1m625/625\u001b[0m \u001b[32m━━━━━━━━━━━━━━━━━━━━\u001b[0m\u001b[37m\u001b[0m \u001b[1m59s\u001b[0m 95ms/step - accuracy: 0.9988 - loss: 0.0043 - val_accuracy: 0.4204 - val_loss: 3.5191\n",
      "Epoch 9/10\n",
      "\u001b[1m625/625\u001b[0m \u001b[32m━━━━━━━━━━━━━━━━━━━━\u001b[0m\u001b[37m\u001b[0m \u001b[1m59s\u001b[0m 95ms/step - accuracy: 0.9974 - loss: 0.0083 - val_accuracy: 0.4184 - val_loss: 3.4201\n",
      "Epoch 10/10\n",
      "\u001b[1m625/625\u001b[0m \u001b[32m━━━━━━━━━━━━━━━━━━━━\u001b[0m\u001b[37m\u001b[0m \u001b[1m59s\u001b[0m 94ms/step - accuracy: 0.9997 - loss: 0.0016 - val_accuracy: 0.4420 - val_loss: 3.4749\n"
     ]
    }
   ],
   "source": [
    "# with tf.device(\"/cpu:0\"):\n",
    "# try:\n",
    "history = model.fit(train_sequences,\n",
    "                        train_labels,\n",
    "                         validation_data=(validation_sequences, validation_labels),\n",
    "                         epochs=10)\n",
    "# except Exception as e:\n",
    "#     # TensorFlow is zo achterlijk om de VOLLEDIGE dataset te printen, waardoor VS Code en Python vastlopen\n",
    "#     print(\"Gefaald: \")\n",
    "#     raise Exception(\"Gefaald\")"
   ]
  },
  {
   "cell_type": "code",
   "execution_count": 37,
   "metadata": {},
   "outputs": [
    {
     "data": {
      "text/plain": [
       "<matplotlib.legend.Legend at 0x7fe71d267df0>"
      ]
     },
     "execution_count": 37,
     "metadata": {},
     "output_type": "execute_result"
    },
    {
     "data": {
      "image/png": "[encoded data removed]",
      "text/plain": [
       "<Figure size 640x480 with 1 Axes>"
      ]
     },
     "metadata": {},
     "output_type": "display_data"
    }
   ],
   "source": [
    "#plot de accuracy en validated accuracy\n",
    "acc=history.history['accuracy']\n",
    "val_acc=history.history['val_accuracy']\n",
    "epochs=range(1, len(acc)+1)\n",
    "plt.plot(epochs, acc, label='accuracy')\n",
    "plt.plot(epochs, val_acc, label = 'val_accuracy')\n",
    "plt.xlabel('Epoch')\n",
    "plt.ylabel('Accuracy')\n",
    "plt.legend(loc='lower right')"
   ]
  },
  {
   "cell_type": "markdown",
   "metadata": {},
   "source": [
    "## 5. Evaluation"
   ]
  },
  {
   "cell_type": "markdown",
   "metadata": {},
   "source": [
    "## 6. Deployment"
   ]
  }
 ],
 "metadata": {
  "kernelspec": {
   "display_name": "tf",
   "language": "python",
   "name": "python3"
  },
  "language_info": {
   "codemirror_mode": {
    "name": "ipython",
    "version": 3
   },
   "file_extension": ".py",
   "mimetype": "text/x-python",
   "name": "python",
   "nbconvert_exporter": "python",
   "pygments_lexer": "ipython3",
   "version": "3.10.13"
  }
 },
 "nbformat": 4,
 "nbformat_minor": 2
}

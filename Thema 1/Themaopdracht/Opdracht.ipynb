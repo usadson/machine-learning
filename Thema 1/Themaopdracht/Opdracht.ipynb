{
 "cells": [
  {
   "cell_type": "markdown",
   "metadata": {},
   "source": [
    "# Opdracht Lectoraat Energietransitie\n",
    "## 1. Business Understanding\n",
    "Doel: beste fit te maken voor de `thermal inertia (tau)[h]` for each of 23 Assendorp homes.\n",
    "\n",
    "* Pandas dataframe with learned thermal inertia per home per cooling period; per row: \n",
    "    ```\n",
    "    home_id, \n",
    "    starttime, endtime, \n",
    "    start_temp_in__degC, end_temp_in__degC, \n",
    "    start_temp_out_e__degC, end_temp_out__degC, \n",
    "    tau__h\n",
    "    ```\n",
    "* Pandas dataframe with average thermal inertia per home per ISO calendar week;\n",
    "* Visualize temporal variation/trends/patterns per home per ISO calendar week;\n",
    "* Visualize similarities/difference amongst homes & your assessment;\n",
    "* Your code to learn thermal inertia for all suitable cooling periods for all 23 homes monitored\n",
    "  * Preferably as a Pull Request in GitHub from a fork of our repository\n",
    "* Bonus / Additional challenge? Check/ improve pre-processing on raw data\n",
    "  * Add time-series based outlier detection & filtering (e.g. based on tsmoothie?)\n",
    "  * Improved KNMI wheather data\n",
    "    * Faster geospatial interpolation\n",
    "    * Proper handling of transition from summer to winter time\n"
   ]
  },
  {
   "cell_type": "markdown",
   "metadata": {},
   "source": [
    "## 2. Data Understanding\n",
    "### 2.1. Libraries importeren\n",
    "We gebruiken [`pandas`](https://pandas.pydata.org/) voor de algemene dataverwerking, [`matplotlib`](https://matplotlib.org/stable/tutorials/pyplot.html) ter datavisualisatie, [`SciPy`](https://scipy.org/) voor het vinden van het optimum, [`historicdutchdata`](https://pypi.org/project/historicdutchweather/) voor KNMI-weerdata en een aantal utilities."
   ]
  },
  {
   "cell_type": "code",
   "execution_count": 131,
   "metadata": {},
   "outputs": [],
   "source": [
    "import pandas as pd\n",
    "import numpy as np\n",
    "import matplotlib.pyplot as plt\n",
    "import matplotlib.cm as cm\n",
    "\n",
    "from datetime import datetime\n",
    "\n",
    "from scipy.optimize import minimize\n",
    "\n",
    "import historicdutchweather\n",
    "from datetime import datetime, time, timedelta\n",
    "\n",
    "import glob\n",
    "import os"
   ]
  },
  {
   "cell_type": "markdown",
   "metadata": {},
   "source": [
    "### 2.2. Weerdata\n",
    "Dit doen we om de buitentemperatuur te kunnen bepalen."
   ]
  },
  {
   "cell_type": "code",
   "execution_count": 132,
   "metadata": {},
   "outputs": [
    {
     "data": {
      "text/html": [
       "<div>\n",
       "<style scoped>\n",
       "    .dataframe tbody tr th:only-of-type {\n",
       "        vertical-align: middle;\n",
       "    }\n",
       "\n",
       "    .dataframe tbody tr th {\n",
       "        vertical-align: top;\n",
       "    }\n",
       "\n",
       "    .dataframe thead th {\n",
       "        text-align: right;\n",
       "    }\n",
       "</style>\n",
       "<table border=\"1\" class=\"dataframe\">\n",
       "  <thead>\n",
       "    <tr style=\"text-align: right;\">\n",
       "      <th></th>\n",
       "      <th>T</th>\n",
       "      <th>FH</th>\n",
       "      <th>N</th>\n",
       "    </tr>\n",
       "    <tr>\n",
       "      <th>time</th>\n",
       "      <th></th>\n",
       "      <th></th>\n",
       "      <th></th>\n",
       "    </tr>\n",
       "  </thead>\n",
       "  <tbody>\n",
       "    <tr>\n",
       "      <th>2020-04-10 00:00:00+00:00</th>\n",
       "      <td>4.461015</td>\n",
       "      <td>2.604330</td>\n",
       "      <td>1.947349</td>\n",
       "    </tr>\n",
       "    <tr>\n",
       "      <th>2020-04-10 01:00:00+00:00</th>\n",
       "      <td>4.014926</td>\n",
       "      <td>2.604330</td>\n",
       "      <td>7.088386</td>\n",
       "    </tr>\n",
       "    <tr>\n",
       "      <th>2020-04-10 02:00:00+00:00</th>\n",
       "      <td>3.437970</td>\n",
       "      <td>2.249255</td>\n",
       "      <td>8.000000</td>\n",
       "    </tr>\n",
       "    <tr>\n",
       "      <th>2020-04-10 03:00:00+00:00</th>\n",
       "      <td>3.019567</td>\n",
       "      <td>2.124627</td>\n",
       "      <td>8.000000</td>\n",
       "    </tr>\n",
       "    <tr>\n",
       "      <th>2020-04-10 04:00:00+00:00</th>\n",
       "      <td>3.175657</td>\n",
       "      <td>2.355075</td>\n",
       "      <td>8.000000</td>\n",
       "    </tr>\n",
       "    <tr>\n",
       "      <th>...</th>\n",
       "      <td>...</td>\n",
       "      <td>...</td>\n",
       "      <td>...</td>\n",
       "    </tr>\n",
       "    <tr>\n",
       "      <th>2022-09-05 19:00:00+00:00</th>\n",
       "      <td>18.193627</td>\n",
       "      <td>0.834777</td>\n",
       "      <td>7.087373</td>\n",
       "    </tr>\n",
       "    <tr>\n",
       "      <th>2022-09-05 20:00:00+00:00</th>\n",
       "      <td>18.629837</td>\n",
       "      <td>1.728957</td>\n",
       "      <td>8.000000</td>\n",
       "    </tr>\n",
       "    <tr>\n",
       "      <th>2022-09-05 21:00:00+00:00</th>\n",
       "      <td>18.296253</td>\n",
       "      <td>1.853584</td>\n",
       "      <td>8.000000</td>\n",
       "    </tr>\n",
       "    <tr>\n",
       "      <th>2022-09-05 22:00:00+00:00</th>\n",
       "      <td>19.623627</td>\n",
       "      <td>1.604330</td>\n",
       "      <td>8.000000</td>\n",
       "    </tr>\n",
       "    <tr>\n",
       "      <th>2022-09-05 23:00:00+00:00</th>\n",
       "      <td>19.506522</td>\n",
       "      <td>1.875373</td>\n",
       "      <td>8.000000</td>\n",
       "    </tr>\n",
       "  </tbody>\n",
       "</table>\n",
       "<p>21096 rows × 3 columns</p>\n",
       "</div>"
      ],
      "text/plain": [
       "                                   T        FH         N\n",
       "time                                                    \n",
       "2020-04-10 00:00:00+00:00   4.461015  2.604330  1.947349\n",
       "2020-04-10 01:00:00+00:00   4.014926  2.604330  7.088386\n",
       "2020-04-10 02:00:00+00:00   3.437970  2.249255  8.000000\n",
       "2020-04-10 03:00:00+00:00   3.019567  2.124627  8.000000\n",
       "2020-04-10 04:00:00+00:00   3.175657  2.355075  8.000000\n",
       "...                              ...       ...       ...\n",
       "2022-09-05 19:00:00+00:00  18.193627  0.834777  7.087373\n",
       "2022-09-05 20:00:00+00:00  18.629837  1.728957  8.000000\n",
       "2022-09-05 21:00:00+00:00  18.296253  1.853584  8.000000\n",
       "2022-09-05 22:00:00+00:00  19.623627  1.604330  8.000000\n",
       "2022-09-05 23:00:00+00:00  19.506522  1.875373  8.000000\n",
       "\n",
       "[21096 rows x 3 columns]"
      ]
     },
     "execution_count": 132,
     "metadata": {},
     "output_type": "execute_result"
    }
   ],
   "source": [
    "# x = datetime(2022,1,16)\n",
    "# y = datetime(2022,1,17)\n",
    "# lat, lon = 52.50655, 6.09961\n",
    "# df = historicdutchweather.get_local_weather(x, y, lat, lon, metrics=['T', 'FH', 'N'])\n",
    "\n",
    "df_weather = pd.read_csv('weather.csv')\n",
    "\n",
    "df_weather = df_weather.rename(columns={\"Unnamed: 0\": \"time\"})\n",
    "df_weather['time'] = pd.to_datetime(df_weather['time'])\n",
    "df_weather = df_weather.set_index('time')\n",
    "\n",
    "df_weather = df_weather.drop(['DD', 'Q', 'DR', 'RH', 'U'], axis=1)\n",
    "\n",
    "df_weather"
   ]
  },
  {
   "cell_type": "markdown",
   "metadata": {},
   "source": [
    "### 2.3. Huisdata\n",
    "De huizen hebben elk een uniek nummer in de dataset (die niet overeenkomt met het daadwerkelijke huisnummer)."
   ]
  },
  {
   "cell_type": "code",
   "execution_count": 133,
   "metadata": {},
   "outputs": [
    {
     "data": {
      "text/plain": [
       "['data/raw-measurements/886307_raw_measurements.csv',\n",
       " 'data/raw-measurements/857477_raw_measurements.csv',\n",
       " 'data/raw-measurements/809743_raw_measurements.csv',\n",
       " 'data/raw-measurements/899510_raw_measurements.csv',\n",
       " 'data/raw-measurements/811308_raw_measurements.csv',\n",
       " 'data/raw-measurements/822479_raw_measurements.csv',\n",
       " 'data/raw-measurements/879481_raw_measurements.csv',\n",
       " 'data/raw-measurements/895671_raw_measurements.csv',\n",
       " 'data/raw-measurements/845966_raw_measurements.csv',\n",
       " 'data/raw-measurements/839440_raw_measurements.csv',\n",
       " 'data/raw-measurements/830088_raw_measurements.csv',\n",
       " 'data/raw-measurements/881611_raw_measurements.csv',\n",
       " 'data/raw-measurements/817341_raw_measurements.csv',\n",
       " 'data/raw-measurements/829947_raw_measurements.csv',\n",
       " 'data/raw-measurements/873985_raw_measurements.csv',\n",
       " 'data/raw-measurements/815925_raw_measurements.csv',\n",
       " 'data/raw-measurements/803422_raw_measurements.csv',\n",
       " 'data/raw-measurements/831062_raw_measurements.csv',\n",
       " 'data/raw-measurements/864296_raw_measurements.csv',\n",
       " 'data/raw-measurements/805164_raw_measurements.csv',\n",
       " 'data/raw-measurements/846697_raw_measurements.csv',\n",
       " 'data/raw-measurements/897349_raw_measurements.csv',\n",
       " 'data/raw-measurements/845997_raw_measurements.csv']"
      ]
     },
     "execution_count": 133,
     "metadata": {},
     "output_type": "execute_result"
    }
   ],
   "source": [
    "all_files = glob.glob(os.path.join(\"data/raw-measurements/\", \"*.csv\"))\n",
    "all_files"
   ]
  },
  {
   "cell_type": "markdown",
   "metadata": {},
   "source": [
    "Deze data is verdeeld over `measurements` en `properties`:"
   ]
  },
  {
   "cell_type": "code",
   "execution_count": 134,
   "metadata": {},
   "outputs": [],
   "source": [
    "houses = {}\n",
    "\n",
    "for file in all_files:\n",
    "    # format is data/raw-measurements/{house}_raw_measurements.csv\n",
    "    house = int(file.split(\"/\")[-1].split(\"_\")[0])\n",
    "\n",
    "    houses[house] = {\n",
    "        \"measure_df\": pd.read_csv(file, engine='pyarrow'),\n",
    "        #                                       ^~~~~~~ zorgt ervoor dat UTC\n",
    "        #                                               genormaliseerd wordt\n",
    "        \"props_df\": pd.read_csv(f\"data/raw-properties/{house}_raw_properties.csv\", engine='pyarrow')\n",
    "    }\n"
   ]
  },
  {
   "cell_type": "markdown",
   "metadata": {},
   "source": [
    "### 2.4. Data-begrip\n",
    "Opvallend is dat de `measurements` alle eigenschappen bevatten:"
   ]
  },
  {
   "cell_type": "code",
   "execution_count": 135,
   "metadata": {},
   "outputs": [
    {
     "name": "stdout",
     "output_type": "stream",
     "text": [
      "<class 'pandas.core.frame.DataFrame'>\n",
      "RangeIndex: 209501 entries, 0 to 209500\n",
      "Data columns (total 7 columns):\n",
      " #   Column       Non-Null Count   Dtype             \n",
      "---  ------       --------------   -----             \n",
      " 0   id           209501 non-null  int64             \n",
      " 1   device_name  209501 non-null  object            \n",
      " 2   source       209501 non-null  object            \n",
      " 3   timestamp    209501 non-null  datetime64[s, UTC]\n",
      " 4   property     209501 non-null  object            \n",
      " 5   value        209501 non-null  object            \n",
      " 6   unit         162001 non-null  object            \n",
      "dtypes: datetime64[s, UTC](1), int64(1), object(5)\n",
      "memory usage: 11.2+ MB\n"
     ]
    },
    {
     "data": {
      "text/html": [
       "<div>\n",
       "<style scoped>\n",
       "    .dataframe tbody tr th:only-of-type {\n",
       "        vertical-align: middle;\n",
       "    }\n",
       "\n",
       "    .dataframe tbody tr th {\n",
       "        vertical-align: top;\n",
       "    }\n",
       "\n",
       "    .dataframe thead th {\n",
       "        text-align: right;\n",
       "    }\n",
       "</style>\n",
       "<table border=\"1\" class=\"dataframe\">\n",
       "  <thead>\n",
       "    <tr style=\"text-align: right;\">\n",
       "      <th></th>\n",
       "      <th>id</th>\n",
       "      <th>device_name</th>\n",
       "      <th>source</th>\n",
       "      <th>timestamp</th>\n",
       "      <th>property</th>\n",
       "      <th>value</th>\n",
       "      <th>unit</th>\n",
       "    </tr>\n",
       "  </thead>\n",
       "  <tbody>\n",
       "    <tr>\n",
       "      <th>0</th>\n",
       "      <td>886307</td>\n",
       "      <td>TWOMES-612C50</td>\n",
       "      <td>OpenTherm-Monitor</td>\n",
       "      <td>2021-12-16 20:31:11+00:00</td>\n",
       "      <td>temp_in__degC</td>\n",
       "      <td>17.67</td>\n",
       "      <td>°C</td>\n",
       "    </tr>\n",
       "    <tr>\n",
       "      <th>1</th>\n",
       "      <td>886307</td>\n",
       "      <td>TWOMES-612C50</td>\n",
       "      <td>OpenTherm-Monitor</td>\n",
       "      <td>2021-12-16 20:31:11+00:00</td>\n",
       "      <td>temp_set__degC</td>\n",
       "      <td>15.00</td>\n",
       "      <td>°C</td>\n",
       "    </tr>\n",
       "    <tr>\n",
       "      <th>2</th>\n",
       "      <td>886307</td>\n",
       "      <td>TWOMES-612C50</td>\n",
       "      <td>OpenTherm-Monitor</td>\n",
       "      <td>2021-12-16 20:36:33+00:00</td>\n",
       "      <td>temp_in__degC</td>\n",
       "      <td>17.67</td>\n",
       "      <td>°C</td>\n",
       "    </tr>\n",
       "    <tr>\n",
       "      <th>3</th>\n",
       "      <td>886307</td>\n",
       "      <td>TWOMES-612C50</td>\n",
       "      <td>OpenTherm-Monitor</td>\n",
       "      <td>2021-12-16 20:36:33+00:00</td>\n",
       "      <td>temp_set__degC</td>\n",
       "      <td>18.00</td>\n",
       "      <td>°C</td>\n",
       "    </tr>\n",
       "    <tr>\n",
       "      <th>4</th>\n",
       "      <td>886307</td>\n",
       "      <td>TWOMES-612C50</td>\n",
       "      <td>OpenTherm-Monitor</td>\n",
       "      <td>2021-12-16 20:41:38+00:00</td>\n",
       "      <td>temp_in__degC</td>\n",
       "      <td>17.67</td>\n",
       "      <td>°C</td>\n",
       "    </tr>\n",
       "  </tbody>\n",
       "</table>\n",
       "</div>"
      ],
      "text/plain": [
       "       id    device_name             source                 timestamp  \\\n",
       "0  886307  TWOMES-612C50  OpenTherm-Monitor 2021-12-16 20:31:11+00:00   \n",
       "1  886307  TWOMES-612C50  OpenTherm-Monitor 2021-12-16 20:31:11+00:00   \n",
       "2  886307  TWOMES-612C50  OpenTherm-Monitor 2021-12-16 20:36:33+00:00   \n",
       "3  886307  TWOMES-612C50  OpenTherm-Monitor 2021-12-16 20:36:33+00:00   \n",
       "4  886307  TWOMES-612C50  OpenTherm-Monitor 2021-12-16 20:41:38+00:00   \n",
       "\n",
       "         property  value unit  \n",
       "0   temp_in__degC  17.67   °C  \n",
       "1  temp_set__degC  15.00   °C  \n",
       "2   temp_in__degC  17.67   °C  \n",
       "3  temp_set__degC  18.00   °C  \n",
       "4   temp_in__degC  17.67   °C  "
      ]
     },
     "execution_count": 135,
     "metadata": {},
     "output_type": "execute_result"
    }
   ],
   "source": [
    "eerste_huisnummer = list(houses.keys())[0]\n",
    "eerste_huis = houses[eerste_huisnummer]\n",
    "\n",
    "eerste_huis[\"measure_df\"].info()\n",
    "eerste_huis[\"measure_df\"].head()"
   ]
  },
  {
   "cell_type": "markdown",
   "metadata": {},
   "source": [
    "Terwijl de `properties` een soort gepivoteerd beeld is van de `measurements`, samengevoegd op één tijdstip."
   ]
  },
  {
   "cell_type": "code",
   "execution_count": 136,
   "metadata": {},
   "outputs": [
    {
     "name": "stdout",
     "output_type": "stream",
     "text": [
      "<class 'pandas.core.frame.DataFrame'>\n",
      "RangeIndex: 46425 entries, 0 to 46424\n",
      "Data columns (total 12 columns):\n",
      " #   Column                   Non-Null Count  Dtype             \n",
      "---  ------                   --------------  -----             \n",
      " 0   id                       46425 non-null  int64             \n",
      " 1   source                   46425 non-null  object            \n",
      " 2   timestamp                46425 non-null  datetime64[s, UTC]\n",
      " 3   e_ret_hi_cum__kWh        23750 non-null  float64           \n",
      " 4   e_ret_lo_cum__kWh        23750 non-null  float64           \n",
      " 5   e_timestamp__YYMMDDhhmX  23750 non-null  object            \n",
      " 6   e_use_hi_cum__kWh        23750 non-null  float64           \n",
      " 7   e_use_lo_cum__kWh        23750 non-null  float64           \n",
      " 8   g_timestamp__YYMMDDhhmX  23750 non-null  object            \n",
      " 9   g_use_cum__m3            23750 non-null  float64           \n",
      " 10  temp_in__degC            22372 non-null  float64           \n",
      " 11  temp_set__degC           20879 non-null  float64           \n",
      "dtypes: datetime64[s, UTC](1), float64(7), int64(1), object(3)\n",
      "memory usage: 4.3+ MB\n"
     ]
    },
    {
     "data": {
      "text/html": [
       "<div>\n",
       "<style scoped>\n",
       "    .dataframe tbody tr th:only-of-type {\n",
       "        vertical-align: middle;\n",
       "    }\n",
       "\n",
       "    .dataframe tbody tr th {\n",
       "        vertical-align: top;\n",
       "    }\n",
       "\n",
       "    .dataframe thead th {\n",
       "        text-align: right;\n",
       "    }\n",
       "</style>\n",
       "<table border=\"1\" class=\"dataframe\">\n",
       "  <thead>\n",
       "    <tr style=\"text-align: right;\">\n",
       "      <th></th>\n",
       "      <th>id</th>\n",
       "      <th>source</th>\n",
       "      <th>timestamp</th>\n",
       "      <th>e_ret_hi_cum__kWh</th>\n",
       "      <th>e_ret_lo_cum__kWh</th>\n",
       "      <th>e_timestamp__YYMMDDhhmX</th>\n",
       "      <th>e_use_hi_cum__kWh</th>\n",
       "      <th>e_use_lo_cum__kWh</th>\n",
       "      <th>g_timestamp__YYMMDDhhmX</th>\n",
       "      <th>g_use_cum__m3</th>\n",
       "      <th>temp_in__degC</th>\n",
       "      <th>temp_set__degC</th>\n",
       "    </tr>\n",
       "  </thead>\n",
       "  <tbody>\n",
       "    <tr>\n",
       "      <th>0</th>\n",
       "      <td>886307</td>\n",
       "      <td>DSMR-P1-gateway-TinTsTrCO2</td>\n",
       "      <td>2021-12-16 07:41:13+00:00</td>\n",
       "      <td>0.001</td>\n",
       "      <td>0.0</td>\n",
       "      <td>211216084137W</td>\n",
       "      <td>4073.994</td>\n",
       "      <td>2891.951</td>\n",
       "      <td>211216080000W</td>\n",
       "      <td>2480.849</td>\n",
       "      <td>NaN</td>\n",
       "      <td>NaN</td>\n",
       "    </tr>\n",
       "    <tr>\n",
       "      <th>1</th>\n",
       "      <td>886307</td>\n",
       "      <td>DSMR-P1-gateway-TinTsTrCO2</td>\n",
       "      <td>2021-12-16 07:46:13+00:00</td>\n",
       "      <td>0.001</td>\n",
       "      <td>0.0</td>\n",
       "      <td>211216084637W</td>\n",
       "      <td>4074.162</td>\n",
       "      <td>2891.951</td>\n",
       "      <td>211216080000W</td>\n",
       "      <td>2480.849</td>\n",
       "      <td>NaN</td>\n",
       "      <td>NaN</td>\n",
       "    </tr>\n",
       "    <tr>\n",
       "      <th>2</th>\n",
       "      <td>886307</td>\n",
       "      <td>DSMR-P1-gateway-TinTsTrCO2</td>\n",
       "      <td>2021-12-16 07:51:13+00:00</td>\n",
       "      <td>0.001</td>\n",
       "      <td>0.0</td>\n",
       "      <td>211216085137W</td>\n",
       "      <td>4074.330</td>\n",
       "      <td>2891.951</td>\n",
       "      <td>211216080000W</td>\n",
       "      <td>2480.849</td>\n",
       "      <td>NaN</td>\n",
       "      <td>NaN</td>\n",
       "    </tr>\n",
       "    <tr>\n",
       "      <th>3</th>\n",
       "      <td>886307</td>\n",
       "      <td>DSMR-P1-gateway-TinTsTrCO2</td>\n",
       "      <td>2021-12-16 07:56:13+00:00</td>\n",
       "      <td>0.001</td>\n",
       "      <td>0.0</td>\n",
       "      <td>211216085637W</td>\n",
       "      <td>4074.502</td>\n",
       "      <td>2891.951</td>\n",
       "      <td>211216080000W</td>\n",
       "      <td>2480.849</td>\n",
       "      <td>NaN</td>\n",
       "      <td>NaN</td>\n",
       "    </tr>\n",
       "    <tr>\n",
       "      <th>4</th>\n",
       "      <td>886307</td>\n",
       "      <td>DSMR-P1-gateway-TinTsTrCO2</td>\n",
       "      <td>2021-12-16 08:01:13+00:00</td>\n",
       "      <td>0.001</td>\n",
       "      <td>0.0</td>\n",
       "      <td>211216090137W</td>\n",
       "      <td>4074.672</td>\n",
       "      <td>2891.951</td>\n",
       "      <td>211216080000W</td>\n",
       "      <td>2480.849</td>\n",
       "      <td>NaN</td>\n",
       "      <td>NaN</td>\n",
       "    </tr>\n",
       "  </tbody>\n",
       "</table>\n",
       "</div>"
      ],
      "text/plain": [
       "       id                      source                 timestamp  \\\n",
       "0  886307  DSMR-P1-gateway-TinTsTrCO2 2021-12-16 07:41:13+00:00   \n",
       "1  886307  DSMR-P1-gateway-TinTsTrCO2 2021-12-16 07:46:13+00:00   \n",
       "2  886307  DSMR-P1-gateway-TinTsTrCO2 2021-12-16 07:51:13+00:00   \n",
       "3  886307  DSMR-P1-gateway-TinTsTrCO2 2021-12-16 07:56:13+00:00   \n",
       "4  886307  DSMR-P1-gateway-TinTsTrCO2 2021-12-16 08:01:13+00:00   \n",
       "\n",
       "   e_ret_hi_cum__kWh  e_ret_lo_cum__kWh e_timestamp__YYMMDDhhmX  \\\n",
       "0              0.001                0.0           211216084137W   \n",
       "1              0.001                0.0           211216084637W   \n",
       "2              0.001                0.0           211216085137W   \n",
       "3              0.001                0.0           211216085637W   \n",
       "4              0.001                0.0           211216090137W   \n",
       "\n",
       "   e_use_hi_cum__kWh  e_use_lo_cum__kWh g_timestamp__YYMMDDhhmX  \\\n",
       "0           4073.994           2891.951           211216080000W   \n",
       "1           4074.162           2891.951           211216080000W   \n",
       "2           4074.330           2891.951           211216080000W   \n",
       "3           4074.502           2891.951           211216080000W   \n",
       "4           4074.672           2891.951           211216080000W   \n",
       "\n",
       "   g_use_cum__m3  temp_in__degC  temp_set__degC  \n",
       "0       2480.849            NaN             NaN  \n",
       "1       2480.849            NaN             NaN  \n",
       "2       2480.849            NaN             NaN  \n",
       "3       2480.849            NaN             NaN  \n",
       "4       2480.849            NaN             NaN  "
      ]
     },
     "execution_count": 136,
     "metadata": {},
     "output_type": "execute_result"
    }
   ],
   "source": [
    "eerste_huis[\"props_df\"].info()\n",
    "eerste_huis[\"props_df\"].head()"
   ]
  },
  {
   "cell_type": "markdown",
   "metadata": {},
   "source": [
    "Ook kunnen we zien dat de `props_df` helaas niet altijd de binnentemperatuur bevat:"
   ]
  },
  {
   "cell_type": "code",
   "execution_count": 137,
   "metadata": {},
   "outputs": [
    {
     "name": "stdout",
     "output_type": "stream",
     "text": [
      "Eerste regels:\n",
      "0   NaN\n",
      "1   NaN\n",
      "2   NaN\n",
      "3   NaN\n",
      "4   NaN\n",
      "Name: temp_in__degC, dtype: float64\n",
      "Maximum: 104.16\n",
      "Maximum: -95.36\n"
     ]
    }
   ],
   "source": [
    "print(\"Eerste regels:\", eerste_huis[\"props_df\"][\"temp_in__degC\"].head(), sep=\"\\n\")\n",
    "print(\"Maximum:\", eerste_huis[\"props_df\"][\"temp_in__degC\"].max())\n",
    "print(\"Maximum:\", eerste_huis[\"props_df\"][\"temp_in__degC\"].min())"
   ]
  },
  {
   "cell_type": "code",
   "execution_count": 138,
   "metadata": {},
   "outputs": [
    {
     "name": "stdout",
     "output_type": "stream",
     "text": [
      "Eerste regels:\n",
      "0    17.67\n",
      "2    17.67\n",
      "4    17.67\n",
      "6    18.02\n",
      "8    18.34\n",
      "Name: value, dtype: float64\n",
      "Maximum: 104.16\n",
      "Minimum: -95.36\n",
      "Mediaan: 16.51\n"
     ]
    }
   ],
   "source": [
    "eerste_huis_temperatuur = eerste_huis[\"measure_df\"][eerste_huis[\"measure_df\"][\"property\"] == 'temp_in__degC'][\"value\"].astype(float)\n",
    "print(\"Eerste regels:\", eerste_huis_temperatuur.head(), sep=\"\\n\")\n",
    "print(\"Maximum:\", eerste_huis_temperatuur.max())\n",
    "print(\"Minimum:\", eerste_huis_temperatuur.min())\n",
    "print(\"Mediaan:\", eerste_huis_temperatuur.median())"
   ]
  },
  {
   "cell_type": "markdown",
   "metadata": {},
   "source": [
    "## 3. Data Preparation\n",
    "### 3.1. Berekenen van de gevoelstemperatuur"
   ]
  },
  {
   "cell_type": "code",
   "execution_count": 139,
   "metadata": {},
   "outputs": [],
   "source": [
    "buitenwarmte_df = df_weather.rename(columns={'T': 'actuele_buitentemp', 'FH': 'windsnelheid'})\n",
    "\n",
    "def gevoelsTemperatuur(row):\n",
    "    temp = row['actuele_buitentemp']\n",
    "    wind = row['windsnelheid']\n",
    "    return temp - (2/3 * wind)\n",
    "\n",
    "buitenwarmte_df['T_out'] = buitenwarmte_df.apply(gevoelsTemperatuur, axis=1)"
   ]
  },
  {
   "cell_type": "markdown",
   "metadata": {},
   "source": [
    "### 3.2. Resampelen van huisdata\n",
    "Omdat sommige datapunten juist snel achter elkaar zitten, en andere juist ver uit elkaar, is het handig om de data te resamplen. Dit betekent dat we de data opnieuw gaan indelen, zodat we een gelijke verdeling krijgen"
   ]
  },
  {
   "cell_type": "code",
   "execution_count": 140,
   "metadata": {},
   "outputs": [],
   "source": [
    "RESAMPLE_INTERVAL = pd.Timedelta(5, unit='minutes')\n",
    "\n",
    "def resample(measure_df: pd.DataFrame, props_df: pd.DataFrame) -> pd.DataFrame:\n",
    "    # We pakken eerst de measure_df, omdat die de binnentemperatuur (temp_in__degC) bevat\n",
    "    binnentemperatuur = measure_df.copy()\n",
    "    binnentemperatuur = binnentemperatuur[binnentemperatuur['property'] == 'temp_in__degC']\n",
    "    binnentemperatuur.set_index('timestamp', inplace=True)\n",
    "    binnentemperatuur['value'] = binnentemperatuur['value'].astype(float)\n",
    "    binnentemperatuur = binnentemperatuur.drop(columns=['device_name','source', 'unit', 'property'])\n",
    "    binnentemperatuur = binnentemperatuur.resample(RESAMPLE_INTERVAL).mean()\n",
    "\n",
    "    # Nu pakken we de properties, omdat die de stroom- en gasgebruik bevat\n",
    "    eigenschappen_df = props_df.copy()\n",
    "    eigenschappen_df.set_index('timestamp', inplace=True)\n",
    "    eigenschappen_df = eigenschappen_df.drop(columns=['id', 'source', 'e_timestamp__YYMMDDhhmX', 'g_timestamp__YYMMDDhhmX', 'temp_in__degC'])\n",
    "    eigenschappen_df['stroomgebruik'] = eigenschappen_df['e_use_lo_cum__kWh'] + eigenschappen_df['e_use_hi_cum__kWh']\n",
    "    eigenschappen_df = eigenschappen_df.resample(RESAMPLE_INTERVAL).mean()\n",
    "\n",
    "    # g_use_cum__m3 should be diff'ed with the previous value to get the actual usage, since it is cumulative\n",
    "    eigenschappen_df['g_use_cum__m3'] = eigenschappen_df['g_use_cum__m3'].diff()\n",
    "    eigenschappen_df['stroomgebruik'] = eigenschappen_df['stroomgebruik'].diff()\n",
    "\n",
    "    # Nu voegen we de twee dataframes samen\n",
    "    binnentemperatuur = pd.merge(binnentemperatuur, eigenschappen_df, left_index=True, right_index=True, how='left')\n",
    "    return binnentemperatuur\n",
    "\n",
    "# Resample alle huizen die we opgehaald hebben\n",
    "houses_resampled = {}\n",
    "for house, data in houses.items():\n",
    "    resampled = resample(data[\"measure_df\"], data[\"props_df\"])\n",
    "\n",
    "    if resampled is None:\n",
    "        print(f\"Skipping house {house} because it has no data\")\n",
    "        continue\n",
    "\n",
    "    houses_resampled[house] = resampled"
   ]
  },
  {
   "cell_type": "markdown",
   "metadata": {},
   "source": [
    "### 3.3. Samenvoegen van huisdata en temperatuurdata\n",
    "Om de data te kunnen analyseren, moeten we de [huisdata](#31-berekenen-van-de-gevoelstemperatuur) en [temperatuurdata](#32-resampelen-van-huisdata) samenvoegen. Ze zijn al geresampled, dus we kunnen ze samenvoegen op basis van de tijd."
   ]
  },
  {
   "cell_type": "code",
   "execution_count": 141,
   "metadata": {},
   "outputs": [],
   "source": [
    "gecombineerd_houses = {}\n",
    "for house, binnentemperatuur in houses_resampled.items():\n",
    "    gecombineerde_df = pd.merge(buitenwarmte_df, binnentemperatuur, left_index=True, right_index=True, how='inner')\n",
    "    gecombineerde_df = gecombineerde_df.rename(columns={'value': 'binnentemperatuur'})\n",
    "\n",
    "    gecombineerde_df.index.name = 'timestamp'\n",
    "    gecombineerd_houses[house] = gecombineerde_df"
   ]
  },
  {
   "cell_type": "markdown",
   "metadata": {},
   "source": [
    "### 3.4. Filteren van datapunten die gelden wanneer het nacht is\n",
    "Omdat we geen data (in CSV-formaat) konden vinden van accurate nachtsbereiken (zonsopgang en -ondergang), hebben we het vroegste tijdstip gepakt waarop de zon opkomt en het laatste tijdstip waarop de zon ondergaat. Dit hebben we gedaan voor de maanden mei, juni, juli en augustus. De data is afkomstig van de website van de [KNMI](https://cdn.knmi.nl/system/ckeditor/attachment_files/data/000/000/288/original/tijden_van_zonopkomst_en_-ondergang_2024.pdf)."
   ]
  },
  {
   "cell_type": "code",
   "execution_count": 142,
   "metadata": {},
   "outputs": [],
   "source": [
    "gefilterde_houses = {}\n",
    "\n",
    "for house, gecombineerde_df in gecombineerd_houses.items():\n",
    "    # Filteren of het donker is, bij N>7 is de bewolkingsgraad 'zwaar bewolkt' of 'betrokken'.\n",
    "    gefilterde_df = gecombineerde_df.loc[gecombineerde_df['N'] > 7]\n",
    "\n",
    "    # Filteren of het nacht is, door het jaar heen is het uiterst vroegste zonsopkomst om 5:00 en het laatste zonsondergang om 22:00\n",
    "    zonsopkomst = time(5, 0)\n",
    "    zonsondergang = time(22, 0)\n",
    "    gefilterde_df = gefilterde_df[(gefilterde_df.index.to_series().dt.time > zonsondergang) | (gefilterde_df.index.to_series().dt.time < zonsopkomst)]\n",
    "\n",
    "    gefilterde_houses[house] = gefilterde_df"
   ]
  },
  {
   "cell_type": "markdown",
   "metadata": {},
   "source": [
    "### 3.5. Groeperen op nacht\n",
    "De data die we per huis hebben verzameld geldt nu nog over alle nachten, dus die filteren we hier uit. Een nacht geldt hier van de avond ervoor tot de ochtend erna."
   ]
  },
  {
   "cell_type": "code",
   "execution_count": 143,
   "metadata": {},
   "outputs": [],
   "source": [
    "def createNacht(row: pd.Series):\n",
    "    timestamp: pd.Timestamp = row.name\n",
    "    time = timestamp.time()\n",
    "    if time < zonsopkomst:\n",
    "        return timestamp.date() - timedelta(days=1)\n",
    "    else:\n",
    "        return timestamp.date()\n",
    "\n",
    "gegroepeerde_houses = {}\n",
    "\n",
    "for house, gefilterde_df in gefilterde_houses.items():\n",
    "    # 'nacht' is dus de dag van de start, niet de dag van de einddatum van de nacht\n",
    "    gefilterde_df['nacht'] = gefilterde_df.apply(createNacht, axis=1)\n",
    "    gegroepeerde_houses[house] = gefilterde_df"
   ]
  },
  {
   "cell_type": "markdown",
   "metadata": {},
   "source": [
    "### 3.6. Uitfilteren van ongeldige nachten\n",
    "De verwarming moet uitstaan, op GitHub staat:\n",
    "\n",
    "> The home is heated by a gas-fired heating boiler that is controlled by a thermostat and is not predominantly heated via other\n",
    "> means.\n",
    "\n",
    "Daarom kunnen we simpelweg het gasverbruik van de woning gebruiken om te bepalen of de verwarming aanstaat. Als $gasverbruik \\approx 0$ is, dan staat de verwarming uit. Als $gasverbruik \\gt 0$ is, dan staat de verwarming aan. Ook andere apparatuur die gas verbruikt, zoals een douche, draagt bij aan de gegenereerde warmte en geldt dus als verwarming.\n",
    "\n",
    "// Omdat er over het algemeen altijd stroom gebruikt wordt door bijvoorbeeld de koelkast,\n",
    "// WiFi-router, en lekstroom, kiezen we voor de mediaan van het stroomgebruik als maximum.\n",
    "Bij het stroomverbruik is het iets anders. Er wordt over het algemeen altijd stroom gebruikt door bijvoorbeeld de koelkast, WiFi-router, en lekstroom. Daarom kiezen we voor het mediaan $\\Delta stroomgebruik \\gt \\overline{stroomgebruik}$  als maximum. "
   ]
  },
  {
   "cell_type": "code",
   "execution_count": 166,
   "metadata": {},
   "outputs": [
    {
     "name": "stdout",
     "output_type": "stream",
     "text": [
      "13% van de nachten zijn geschikt voor analyse\n"
     ]
    }
   ],
   "source": [
    "aantal_nachten = 0\n",
    "nachten = []\n",
    "\n",
    "for house, gefilterde_df in gegroepeerde_houses.items():\n",
    "    # Omdat er over het algemeen altijd stroom gebruikt wordt door bijvoorbeeld de koelkast,\n",
    "    # WiFi-router, en lekstroom, kiezen we voor de mediaan van het stroomgebruik als maximum.\n",
    "    max_stroom_gebruik = gefilterde_df['stroomgebruik'].median()\n",
    "\n",
    "    # 0.1 is gekozen omdat door resampling/interpolatie er soms een klein beetje gasverbruik is\n",
    "    # zonder dat dat relevant is.\n",
    "    max_gas_gebruik = 0.1\n",
    "\n",
    "    for (nacht, nacht_values_df) in gefilterde_df.groupby('nacht'):\n",
    "        aantal_nachten += 1 # Dit wordt bijgehouden om het percentage \"juiste\" nachten te filteren\n",
    "\n",
    "        gas_gebruik = nacht_values_df['g_use_cum__m3'].sum()\n",
    "        if gas_gebruik > max_gas_gebruik:\n",
    "            continue\n",
    "\n",
    "        stroom_gebruik = nacht_values_df['stroomgebruik'].mean()\n",
    "        if stroom_gebruik > max_stroom_gebruik:\n",
    "            continue\n",
    "\n",
    "        verschilTussenMinEnMaxTemp = nacht_values_df['binnentemperatuur'].max() - nacht_values_df['binnentemperatuur'].min()\n",
    "        if verschilTussenMinEnMaxTemp < 1:\n",
    "            continue\n",
    "\n",
    "        # Als huizen niet minstens 3 data punten hebben, heeft de gradient descent weinig nut.\n",
    "        dataPunten = len(nacht_values_df.values)\n",
    "        if dataPunten <= 3:\n",
    "            continue\n",
    "\n",
    "        nachten.append((house, nacht, nacht_values_df))\n",
    "\n",
    "print(f\"{int(len(nachten) / aantal_nachten * 100)}% van de nachten zijn geschikt voor analyse\")"
   ]
  },
  {
   "cell_type": "markdown",
   "metadata": {},
   "source": [
    "## 4. Modeling\n",
    "### 4.1. Modelfunctie\n",
    "Het model is aangeleverd vanuit school:"
   ]
  },
  {
   "cell_type": "code",
   "execution_count": 145,
   "metadata": {},
   "outputs": [],
   "source": [
    "def model(tau:float, df:pd.DataFrame, T_in_at_start:float) -> pd.Series:\n",
    "    \"\"\"Note: assumes tau in hours.\n",
    "       Please make sure that the data has a small time interval, otherwise inaccuracies will occur.\"\"\"\n",
    "\n",
    "    # Convert tau from hours to seconds\n",
    "    tau = tau * 3600\n",
    "\n",
    "    # Calculate the time difference in seconds (assumes constant interval)\n",
    "    times = df.index\n",
    "    timediff = (times[1] - times[0]).seconds\n",
    "\n",
    "    # Initial temperature gets copied in for the first record\n",
    "    T = [T_in_at_start]\n",
    "\n",
    "    # Then we loop over all other steps\n",
    "    for timestamp in times[1:]:\n",
    "\n",
    "        # Get the relevant data\n",
    "        T_in = T[-1]\n",
    "        T_out = df.loc[timestamp, 'T_out']\n",
    "\n",
    "        # The equation that does all the work\n",
    "        T_change = -(T_in - T_out) * timediff / tau\n",
    "\n",
    "        # Save to array\n",
    "        T.append(T_in + T_change)\n",
    "\n",
    "    return pd.Series(data=T, index=times, name='T_in')\n"
   ]
  },
  {
   "cell_type": "markdown",
   "metadata": {},
   "source": [
    "### 4.2. Cost-functie\n",
    "Simpele Mean Squared Error tussen de verwachtte binnentemperatuur en de daadwerkelijke temperatuur. Hiermee kunnen we $\\tau$ berekenen."
   ]
  },
  {
   "cell_type": "code",
   "execution_count": 146,
   "metadata": {},
   "outputs": [],
   "source": [
    "# Mean Squared Error\n",
    "def MSE(y1, y2) -> float:\n",
    "    return sum((y1 - y2)**2) / len(y1)\n",
    "\n",
    "# Tau is het aantal uur dat het duurt voor het verhalveren van de temperatuur\n",
    "def cost_function(tau: float, df: pd.DataFrame):\n",
    "    # De temperatuur aan het begin van de nacht\n",
    "    T_in_at_start = df['binnentemperatuur'].iloc[0]\n",
    "\n",
    "    # Bereken nu de temperatuur obv de tau\n",
    "    y_model = model(tau, df, T_in_at_start)\n",
    "\n",
    "    # Check het verschil tussen de verwachting (y_model) en de echte waarde (df['binnentemperatuur'])\n",
    "    return MSE(y_model, df['binnentemperatuur'])"
   ]
  },
  {
   "cell_type": "markdown",
   "metadata": {},
   "source": [
    "### 4.3. Fitten\n",
    "Vervolgens kunnen we de `cost_function` loslaten op de dataset per huis, per nacht:"
   ]
  },
  {
   "cell_type": "code",
   "execution_count": 147,
   "metadata": {},
   "outputs": [],
   "source": [
    "resultaten = {}\n",
    "\n",
    "for (house, nacht, nacht_values_df) in nachten:\n",
    "    if len(nacht_values_df.values) < 2:\n",
    "        continue\n",
    "\n",
    "    result = minimize(cost_function, 0.1, bounds=[(0, float('inf'))], args=(nacht_values_df))\n",
    "    if house not in resultaten:\n",
    "        resultaten[house] = {}\n",
    "    resultaten[house][nacht] = result.x[0]"
   ]
  },
  {
   "cell_type": "markdown",
   "metadata": {},
   "source": [
    "### 4.4. Visualisatie\n",
    "Als laatste plotten we de nachten in één grafiek."
   ]
  },
  {
   "cell_type": "code",
   "execution_count": 155,
   "metadata": {},
   "outputs": [
    {
     "data": {
      "image/png": "[encoded data removed]",
      "text/plain": [
       "<Figure size 2000x1000 with 1 Axes>"
      ]
     },
     "metadata": {},
     "output_type": "display_data"
    }
   ],
   "source": [
    "plt.figure(figsize=(20, 10))\n",
    "\n",
    "colors = cm.rainbow(np.linspace(0, 1, len(resultaten)))\n",
    "\n",
    "for color, house in zip(colors, resultaten.keys()):\n",
    "    for nacht, tau in resultaten[house].items():\n",
    "        if tau > 100:\n",
    "            continue\n",
    "        if tau < 0.5:\n",
    "            continue\n",
    "        plt.scatter(nacht, tau, color=color)\n",
    "\n",
    "plt.xlabel(\"Nacht\")\n",
    "plt.ylabel(\"τ\")\n",
    "plt.title(\"τ per nacht\")\n",
    "plt.show()"
   ]
  },
  {
   "cell_type": "code",
   "execution_count": 153,
   "metadata": {},
   "outputs": [
    {
     "name": "stdout",
     "output_type": "stream",
     "text": [
      "Result=24.30080483665754\n",
      "Result=42.96602266257677\n",
      "Result=44.74026195998889\n",
      "Result=48.08505759493854\n",
      "Result=19.11643162667003\n",
      "Result=42.34127611742491\n",
      "Result=20.667791386411245\n",
      "Result=55.45230350691199\n",
      "Result=25.394171489500444\n",
      "Result=48.90379128510802\n",
      "Result=42.658826671544595\n",
      "Result=25.66095947446843\n",
      "Result=48.64539481829805\n",
      "Result=54.161631645872674\n",
      "Result=47.26074847050683\n",
      "Result=34.85998354244203\n"
     ]
    },
    {
     "data": {
      "image/png": "[encoded data removed]",
      "text/plain": [
       "<Figure size 1000x500 with 1 Axes>"
      ]
     },
     "metadata": {},
     "output_type": "display_data"
    },
    {
     "data": {
      "text/plain": [
       "{'886307': 24.30080483665754,\n",
       " '809743': 42.96602266257677,\n",
       " '811308': 44.74026195998889,\n",
       " '822479': 48.08505759493854,\n",
       " '879481': 19.11643162667003,\n",
       " '895671': 42.34127611742491,\n",
       " '830088': 20.667791386411245,\n",
       " '829947': 55.45230350691199,\n",
       " '873985': 25.394171489500444,\n",
       " '815925': 48.90379128510802,\n",
       " '803422': 42.658826671544595,\n",
       " '864296': 25.66095947446843,\n",
       " '805164': 48.64539481829805,\n",
       " '846697': 54.161631645872674,\n",
       " '897349': 47.26074847050683,\n",
       " '845997': 34.85998354244203}"
      ]
     },
     "execution_count": 153,
     "metadata": {},
     "output_type": "execute_result"
    }
   ],
   "source": [
    "# Hoeveel huizen hebben een tau van minder dan 2 uur?\n",
    "\n",
    "gemiddelde_tau = {}\n",
    "\n",
    "for house, nachten in resultaten.items():\n",
    "    if house == 839440 or house == 831062:\n",
    "        continue\n",
    "\n",
    "    result = sum(nachten.values()) / len(nachten.values())\n",
    "    if result < 1:\n",
    "        continue\n",
    "\n",
    "    gemiddelde_tau[f'{house}'] = result\n",
    "\n",
    "houses = list(gemiddelde_tau.keys())\n",
    "values = list(gemiddelde_tau.values())\n",
    "\n",
    "plt.clf()\n",
    "plt.cla()\n",
    "plt.close()\n",
    "\n",
    "fig = plt.figure(figsize = (10, 5))\n",
    "\n",
    "# # creating the bar plot\n",
    "plt.bar(houses, values, color ='maroon',\n",
    "        width = 0.4)\n",
    "\n",
    "plt.xticks(rotation=45)\n",
    "plt.xlabel(\"Huisnummer\")\n",
    "plt.ylabel(\"Gemiddelde τ\")\n",
    "plt.title(\"Gemiddelde τ per huis\")\n",
    "plt.show()\n",
    "\n",
    "gemiddelde_tau"
   ]
  },
  {
   "cell_type": "code",
   "execution_count": 190,
   "metadata": {},
   "outputs": [
    {
     "name": "stdout",
     "output_type": "stream",
     "text": [
      "Tau: 41.969216536081355\n",
      "<class 'pandas.core.series.Series'>\n"
     ]
    },
    {
     "data": {
      "image/png": "[encoded data removed]",
      "text/plain": [
       "<Figure size 1200x600 with 1 Axes>"
      ]
     },
     "metadata": {},
     "output_type": "display_data"
    }
   ],
   "source": [
    "(huisnummer, datum, df) = nachten[0]\n",
    "tau = resultaten[huisnummer][datum]\n",
    "print(\"Tau:\",tau)\n",
    "\n",
    "\n",
    "# Bereken geoptimaliseerd model\n",
    "tijdsreeks = df.index\n",
    "# for x in df.index.copy().values:\n",
    "#     x: pd.Timestamp = x\n",
    "#     tijdsreeks.append(x.time())\n",
    "optimized_model = model(tau, df, df[\"binnentemperatuur\"].iloc[0])\n",
    "print(type(optimized_model))\n",
    "\n",
    "# Maak een nieuwe plot\n",
    "fig = plt.figure(figsize=(12, 6))\n",
    "\n",
    "# Plot waarnemingen\n",
    "ax = plt.plot(tijdsreeks, df[\"binnentemperatuur\"], label='Waarnemingen', color='blue')\n",
    "\n",
    "# Plot geoptimaliseerd model\n",
    "plt.plot(optimized_model, label='Geoptimaliseerd Model', color='red')\n",
    "\n",
    "# Voeg titel, labels en legenda toe\n",
    "plt.title(f'Waarnemingen vs. Geoptimaliseerd Model voor nacht van {datum} in huis {huisnummer}')\n",
    "plt.xlabel('Tijdstip')\n",
    "plt.ylabel('Temperatuur in °C')\n",
    "plt.legend(loc='upper right')\n",
    "\n",
    "import matplotlib.dates as mdates\n",
    "myFmt = mdates.DateFormatter('%X')\n",
    "fig.axes[0].xaxis.set_major_formatter(myFmt)\n",
    "\n",
    "plt.gcf().autofmt_xdate()\n",
    "\n",
    "# Toon de plot\n",
    "plt.tight_layout()\n",
    "plt.show()"
   ]
  },
  {
   "cell_type": "markdown",
   "metadata": {},
   "source": [
    "Opvallendheden:\n",
    "- Misschien kan de boilerdata gebruikt worden om te controleren of de verwarming aanstaat.\n",
    "- Sommige nachten is het verschil tussen de hoogste en laagste temperatuur < 1. Dit kan betekenen dat of de verwarming de hele nacht aanstaat, of dat de bewoners de ramen open hebben, of niet thuiszijn, etc."
   ]
  }
 ],
 "metadata": {
  "kernelspec": {
   "display_name": "base",
   "language": "python",
   "name": "python3"
  },
  "language_info": {
   "codemirror_mode": {
    "name": "ipython",
    "version": 3
   },
   "file_extension": ".py",
   "mimetype": "text/x-python",
   "name": "python",
   "nbconvert_exporter": "python",
   "pygments_lexer": "ipython3",
   "version": "3.12.4"
  }
 },
 "nbformat": 4,
 "nbformat_minor": 2
}

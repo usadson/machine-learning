{
 "cells": [
  {
   "cell_type": "markdown",
   "metadata": {},
   "source": [
    "# Zonnepaneelefficiëntie\n",
    "**Student:** Tristan Gerritsen \\\n",
    "**Studentnummer:** S1158446"
   ]
  },
  {
   "cell_type": "markdown",
   "metadata": {},
   "source": [
    "## 1. Business Understanding\n",
    "We kijken naar zonnepaneeldata over een periode van net iets minder naar twee jaar. De metingen bestaan uit het wattage dat elke minuut door de panelen werd opgewekt. Hierbij is de data al omgezet naar watt per vierkante meter.\n",
    "\n",
    "We zijn op zoek naar de efficientie van de panelen. Deze kan berekend worden door de theoretische hoeveelheid opbrengst te nemen en deze te verlagen met een bepaalde factor om de werkelijke meting te benaderen. Deze factor is de efficientie.\n",
    "\n",
    "Om deze berekening te moeten doen, maken we gebruik van de pvlib library. Hierbij is het nodig om de helling van het zonnepaneel met het dak te weten (de tilt). En ook de richting van het paneel (de azimuth). De azimuth loopt van 0 graden noord, naar 90 graden oost, naar 180 graden zuid en dan naar 270 graden west."
   ]
  },
  {
   "cell_type": "markdown",
   "metadata": {},
   "source": [
    "## 2. Data Understanding\n",
    "Vanuit de business heb ik een `dataset.csv`-bestand aangeleverd gekregen, die ik moet gaan onderzoeken. Ook moet ik weersinformatie ophalen van het KNMI, zodat ik deze naast elkaar kan leggen."
   ]
  },
  {
   "cell_type": "markdown",
   "metadata": {},
   "source": [
    "### 2.1. Bibliotheken importeren\n",
    "Om de data te kunnen uitlezen en tonen, maak ik gebruik van de volgende bibliotheken en functies daarin. Ook importeer ik alvast `scipy` voor later."
   ]
  },
  {
   "cell_type": "code",
   "execution_count": 49,
   "metadata": {},
   "outputs": [
    {
     "name": "stdout",
     "output_type": "stream",
     "text": [
      "Requirement already satisfied: historicdutchweather in /usr/local/lib/python3.11/dist-packages (1.2.0)\n",
      "Requirement already satisfied: pvlib in /usr/local/lib/python3.11/dist-packages (0.11.1)\n",
      "Requirement already satisfied: pandas in /usr/local/lib/python3.11/dist-packages (from historicdutchweather) (2.2.3)\n",
      "Requirement already satisfied: numpy in /usr/local/lib/python3.11/dist-packages (from historicdutchweather) (1.26.4)\n",
      "Requirement already satisfied: tqdm in /usr/local/lib/python3.11/dist-packages (from historicdutchweather) (4.66.5)\n",
      "Requirement already satisfied: scipy in /usr/local/lib/python3.11/dist-packages (from historicdutchweather) (1.14.1)\n",
      "Requirement already satisfied: pytz in /usr/local/lib/python3.11/dist-packages (from pvlib) (2024.2)\n",
      "Requirement already satisfied: requests in /usr/local/lib/python3.11/dist-packages (from pvlib) (2.32.3)\n",
      "Requirement already satisfied: h5py in /usr/local/lib/python3.11/dist-packages (from pvlib) (3.11.0)\n",
      "Requirement already satisfied: python-dateutil>=2.8.2 in /usr/local/lib/python3.11/dist-packages (from pandas->historicdutchweather) (2.9.0.post0)\n",
      "Requirement already satisfied: tzdata>=2022.7 in /usr/local/lib/python3.11/dist-packages (from pandas->historicdutchweather) (2024.2)\n",
      "Requirement already satisfied: charset-normalizer<4,>=2 in /usr/local/lib/python3.11/dist-packages (from requests->pvlib) (3.3.2)\n",
      "Requirement already satisfied: idna<4,>=2.5 in /usr/local/lib/python3.11/dist-packages (from requests->pvlib) (3.7)\n",
      "Requirement already satisfied: urllib3<3,>=1.21.1 in /usr/local/lib/python3.11/dist-packages (from requests->pvlib) (2.2.2)\n",
      "Requirement already satisfied: certifi>=2017.4.17 in /usr/local/lib/python3.11/dist-packages (from requests->pvlib) (2024.7.4)\n",
      "Requirement already satisfied: six>=1.5 in /usr/lib/python3/dist-packages (from python-dateutil>=2.8.2->pandas->historicdutchweather) (1.16.0)\n",
      "\u001b[33mWARNING: Running pip as the 'root' user can result in broken permissions and conflicting behaviour with the system package manager, possibly rendering your system unusable.It is recommended to use a virtual environment instead: https://pip.pypa.io/warnings/venv. Use the --root-user-action option if you know what you are doing and want to suppress this warning.\u001b[0m\u001b[33m\n",
      "\u001b[0m\n",
      "\u001b[1m[\u001b[0m\u001b[34;49mnotice\u001b[0m\u001b[1;39;49m]\u001b[0m\u001b[39;49m A new release of pip is available: \u001b[0m\u001b[31;49m24.1.2\u001b[0m\u001b[39;49m -> \u001b[0m\u001b[32;49m24.3.1\u001b[0m\n",
      "\u001b[1m[\u001b[0m\u001b[34;49mnotice\u001b[0m\u001b[1;39;49m]\u001b[0m\u001b[39;49m To update, run: \u001b[0m\u001b[32;49mpython3 -m pip install --upgrade pip\u001b[0m\n",
      "Note: you may need to restart the kernel to use updated packages.\n"
     ]
    }
   ],
   "source": [
    "%pip install historicdutchweather pvlib"
   ]
  },
  {
   "cell_type": "code",
   "execution_count": 17,
   "metadata": {},
   "outputs": [],
   "source": [
    "# Imports\n",
    "import pandas as pd\n",
    "import seaborn as sns\n",
    "# import historicdutchweather\n",
    "import pytz\n",
    "from typing import Tuple\n",
    "import pvlib\n",
    "from datetime import datetime\n",
    "from scipy.optimize import minimize\n",
    "import matplotlib.pyplot as plt"
   ]
  },
  {
   "cell_type": "markdown",
   "metadata": {},
   "source": [
    "Zorg ervoor dat we in de juiste map zitten:"
   ]
  },
  {
   "cell_type": "code",
   "execution_count": 18,
   "metadata": {},
   "outputs": [
    {
     "data": {
      "text/plain": [
       "['dataset.csv', 'Studentenversie Tristan Gerritsen.ipynb', 'weather.csv']"
      ]
     },
     "execution_count": 18,
     "metadata": {},
     "output_type": "execute_result"
    }
   ],
   "source": [
    "import os\n",
    "if '.devcontainer.json' in os.listdir(\".\"):\n",
    "    os.chdir(\"Thema 1/Huiswerk/huiswerkopgave optimalisatie/\")\n",
    "os.listdir()"
   ]
  },
  {
   "cell_type": "markdown",
   "metadata": {},
   "source": [
    "### 2.2. Dataset inladen\n",
    "Aangeleverd is een dataset, waarin we zien dat het bestaat uit een bepaald tijdopname (die ik omzet naar de juiste _pandas datetime_), samen met een lezing van het wattage dat op dat moment geproduceerd werd."
   ]
  },
  {
   "cell_type": "code",
   "execution_count": 19,
   "metadata": {
    "tags": []
   },
   "outputs": [],
   "source": [
    "df_production = pd.read_csv('dataset.csv')\n",
    "df_production['time'] = pd.to_datetime(df_production['time'])"
   ]
  },
  {
   "cell_type": "code",
   "execution_count": 20,
   "metadata": {},
   "outputs": [
    {
     "name": "stdout",
     "output_type": "stream",
     "text": [
      "<class 'pandas.core.frame.DataFrame'>\n",
      "RangeIndex: 1266008 entries, 0 to 1266007\n",
      "Data columns (total 2 columns):\n",
      " #   Column      Non-Null Count    Dtype              \n",
      "---  ------      --------------    -----              \n",
      " 0   time        1266008 non-null  datetime64[ns, UTC]\n",
      " 1   production  1266008 non-null  float64            \n",
      "dtypes: datetime64[ns, UTC](1), float64(1)\n",
      "memory usage: 19.3 MB\n"
     ]
    },
    {
     "data": {
      "text/html": [
       "<div>\n",
       "<style scoped>\n",
       "    .dataframe tbody tr th:only-of-type {\n",
       "        vertical-align: middle;\n",
       "    }\n",
       "\n",
       "    .dataframe tbody tr th {\n",
       "        vertical-align: top;\n",
       "    }\n",
       "\n",
       "    .dataframe thead th {\n",
       "        text-align: right;\n",
       "    }\n",
       "</style>\n",
       "<table border=\"1\" class=\"dataframe\">\n",
       "  <thead>\n",
       "    <tr style=\"text-align: right;\">\n",
       "      <th></th>\n",
       "      <th>time</th>\n",
       "      <th>production</th>\n",
       "    </tr>\n",
       "  </thead>\n",
       "  <tbody>\n",
       "    <tr>\n",
       "      <th>0</th>\n",
       "      <td>2020-04-10 10:31:35+00:00</td>\n",
       "      <td>96.666667</td>\n",
       "    </tr>\n",
       "    <tr>\n",
       "      <th>1</th>\n",
       "      <td>2020-04-10 10:32:35+00:00</td>\n",
       "      <td>96.666667</td>\n",
       "    </tr>\n",
       "    <tr>\n",
       "      <th>2</th>\n",
       "      <td>2020-04-10 10:33:35+00:00</td>\n",
       "      <td>93.333333</td>\n",
       "    </tr>\n",
       "    <tr>\n",
       "      <th>3</th>\n",
       "      <td>2020-04-10 10:34:35+00:00</td>\n",
       "      <td>100.000000</td>\n",
       "    </tr>\n",
       "    <tr>\n",
       "      <th>4</th>\n",
       "      <td>2020-04-10 10:35:36+00:00</td>\n",
       "      <td>103.333333</td>\n",
       "    </tr>\n",
       "  </tbody>\n",
       "</table>\n",
       "</div>"
      ],
      "text/plain": [
       "                       time  production\n",
       "0 2020-04-10 10:31:35+00:00   96.666667\n",
       "1 2020-04-10 10:32:35+00:00   96.666667\n",
       "2 2020-04-10 10:33:35+00:00   93.333333\n",
       "3 2020-04-10 10:34:35+00:00  100.000000\n",
       "4 2020-04-10 10:35:36+00:00  103.333333"
      ]
     },
     "execution_count": 20,
     "metadata": {},
     "output_type": "execute_result"
    }
   ],
   "source": [
    "df_production.info()\n",
    "df_production.head()"
   ]
  },
  {
   "cell_type": "markdown",
   "metadata": {},
   "source": [
    "### 2.3. Production\n",
    "Zoals we hierboven gezien hebben, bestaat de `production`-waarde uit een decimaal getal, waarin uit de business understanding blijkt dat dit getal getrokken is over wattage per vierkante meter (d.i. $W / m^{2}$). Ook kunnen we zien dat het geen absolute waarde is – rij 2 heeft immers minder productie dan rij 1 en 3 – hier hoeven we dus niet het verschil ($\\Delta$) van te nemen.\n",
    "\n",
    "Door de min, max en gemiddelde-waarden te nemen uit de lijst, zien we dat het wel eens kan voorkomen dat er niets wordt opgeleverd – verklaarbaar bijvoorbeeld als het een bewolkte nacht is. Daarnaast zien we dat we weleens een productie van $2206 \\frac{2}{3} W / m^{2}$ opleveren; een getal dat gigantisch groter is dan het gemiddelde van $\\pm 22 W/m^{2}$."
   ]
  },
  {
   "cell_type": "code",
   "execution_count": 21,
   "metadata": {},
   "outputs": [
    {
     "name": "stdout",
     "output_type": "stream",
     "text": [
      "Min: 0.0\n",
      "Max: 2206.6666666666665\n",
      "Mean: 21.81287427356964\n"
     ]
    },
    {
     "data": {
      "text/plain": [
       "0           96.666667\n",
       "1           96.666667\n",
       "2           93.333333\n",
       "3          100.000000\n",
       "4          103.333333\n",
       "              ...    \n",
       "1266003      0.000000\n",
       "1266004      3.333333\n",
       "1266005      0.000000\n",
       "1266006      0.000000\n",
       "1266007      3.333333\n",
       "Name: production, Length: 1266008, dtype: float64"
      ]
     },
     "execution_count": 21,
     "metadata": {},
     "output_type": "execute_result"
    }
   ],
   "source": [
    "production = df_production[\"production\"]\n",
    "print(\"Min:\", production.min())\n",
    "print(\"Max:\", production.max())\n",
    "print(\"Mean:\", production.mean())\n",
    "production"
   ]
  },
  {
   "cell_type": "markdown",
   "metadata": {},
   "source": [
    "### 2.4. Tijdspannes\n",
    "Ook zou elke minuut een opname gedaan moeten zijn, maar rij 4 toont al een afwijking in een seconde. Om de mate van afwijking per datapunt te bepalen, bekijk ik de gemiddelde $\\Delta T$ per meting. Hier blijkt dat er een verschil optrad van 1 seconde, maar ook eentje van 1 minuut en 1 seconde."
   ]
  },
  {
   "cell_type": "code",
   "execution_count": 22,
   "metadata": {},
   "outputs": [
    {
     "name": "stdout",
     "output_type": "stream",
     "text": [
      "Min: 0 days 00:00:01\n",
      "Max: 0 days 01:01:00\n",
      "Mean: 0 days 00:01:00.008435972\n"
     ]
    }
   ],
   "source": [
    "deltas = df_production[\"time\"].diff().shift(-1)\n",
    "print(\"Min:\", deltas.min())\n",
    "print(\"Max:\", deltas.max())\n",
    "print(\"Mean:\", deltas.mean())"
   ]
  },
  {
   "cell_type": "markdown",
   "metadata": {},
   "source": [
    "Omdat er toch wel een flink verschil zit in de metingen, bekijk ik hoe vaak zo'n afwijking nou voorkomt. Daaruit blijkt dat maar $\\pm 80 \\%$ van de momenten \"juist\" is. Een interpolatie is dus vereist om een eerlijke uitspraak te kunnen doen over deze data."
   ]
  },
  {
   "cell_type": "code",
   "execution_count": 23,
   "metadata": {},
   "outputs": [
    {
     "name": "stdout",
     "output_type": "stream",
     "text": [
      "Juiste waardes: 79.75840575920986 %\n"
     ]
    }
   ],
   "source": [
    "print(\"Juiste waardes:\", deltas[deltas == pd.Timedelta(\"1min\")].count() / deltas.count() * 100, \"%\")"
   ]
  },
  {
   "cell_type": "markdown",
   "metadata": {},
   "source": [
    "### 2.5. Weerdataset ophalen\n",
    "Om een relationele uitspraak te doen over de zonnepaneeldata jegens het weerbericht, gebruik ik historische gegevens van KNMI. Deze heb ik eerder opgehaald met de [`historicdutchweather`](https://pypi.org/project/historicdutchweather/)-bibliotheek en gestopt in een `weather.csv`-bestand, zodat bij iteratief werken, ik niet afhankelijk hoef te zijn van de KNMI-website."
   ]
  },
  {
   "cell_type": "code",
   "execution_count": 24,
   "metadata": {
    "tags": []
   },
   "outputs": [
    {
     "name": "stdout",
     "output_type": "stream",
     "text": [
      "<class 'pandas.core.frame.DataFrame'>\n",
      "RangeIndex: 21096 entries, 0 to 21095\n",
      "Data columns (total 9 columns):\n",
      " #   Column      Non-Null Count  Dtype  \n",
      "---  ------      --------------  -----  \n",
      " 0   Unnamed: 0  21096 non-null  object \n",
      " 1   T           21096 non-null  float64\n",
      " 2   FH          21096 non-null  float64\n",
      " 3   DD          20990 non-null  float64\n",
      " 4   Q           21096 non-null  float64\n",
      " 5   DR          21096 non-null  float64\n",
      " 6   RH          21096 non-null  float64\n",
      " 7   U           21096 non-null  float64\n",
      " 8   N           21025 non-null  float64\n",
      "dtypes: float64(8), object(1)\n",
      "memory usage: 1.4+ MB\n"
     ]
    },
    {
     "data": {
      "text/html": [
       "<div>\n",
       "<style scoped>\n",
       "    .dataframe tbody tr th:only-of-type {\n",
       "        vertical-align: middle;\n",
       "    }\n",
       "\n",
       "    .dataframe tbody tr th {\n",
       "        vertical-align: top;\n",
       "    }\n",
       "\n",
       "    .dataframe thead th {\n",
       "        text-align: right;\n",
       "    }\n",
       "</style>\n",
       "<table border=\"1\" class=\"dataframe\">\n",
       "  <thead>\n",
       "    <tr style=\"text-align: right;\">\n",
       "      <th></th>\n",
       "      <th>Unnamed: 0</th>\n",
       "      <th>T</th>\n",
       "      <th>FH</th>\n",
       "      <th>DD</th>\n",
       "      <th>Q</th>\n",
       "      <th>DR</th>\n",
       "      <th>RH</th>\n",
       "      <th>U</th>\n",
       "      <th>N</th>\n",
       "    </tr>\n",
       "  </thead>\n",
       "  <tbody>\n",
       "    <tr>\n",
       "      <th>0</th>\n",
       "      <td>2020-04-10 00:00:00+00:00</td>\n",
       "      <td>4.461015</td>\n",
       "      <td>2.604330</td>\n",
       "      <td>56.449253</td>\n",
       "      <td>-1.482197e-323</td>\n",
       "      <td>-1.482197e-323</td>\n",
       "      <td>-1.482197e-323</td>\n",
       "      <td>85.211640</td>\n",
       "      <td>1.947349</td>\n",
       "    </tr>\n",
       "    <tr>\n",
       "      <th>1</th>\n",
       "      <td>2020-04-10 01:00:00+00:00</td>\n",
       "      <td>4.014926</td>\n",
       "      <td>2.604330</td>\n",
       "      <td>58.753726</td>\n",
       "      <td>-1.482197e-323</td>\n",
       "      <td>-1.482197e-323</td>\n",
       "      <td>-1.482197e-323</td>\n",
       "      <td>89.105820</td>\n",
       "      <td>7.088386</td>\n",
       "    </tr>\n",
       "    <tr>\n",
       "      <th>2</th>\n",
       "      <td>2020-04-10 02:00:00+00:00</td>\n",
       "      <td>3.437970</td>\n",
       "      <td>2.249255</td>\n",
       "      <td>62.304473</td>\n",
       "      <td>-1.482197e-323</td>\n",
       "      <td>-1.482197e-323</td>\n",
       "      <td>-1.482197e-323</td>\n",
       "      <td>91.230447</td>\n",
       "      <td>8.000000</td>\n",
       "    </tr>\n",
       "    <tr>\n",
       "      <th>3</th>\n",
       "      <td>2020-04-10 03:00:00+00:00</td>\n",
       "      <td>3.019567</td>\n",
       "      <td>2.124627</td>\n",
       "      <td>54.608945</td>\n",
       "      <td>-1.482197e-323</td>\n",
       "      <td>-1.482197e-323</td>\n",
       "      <td>-1.482197e-323</td>\n",
       "      <td>92.124627</td>\n",
       "      <td>8.000000</td>\n",
       "    </tr>\n",
       "    <tr>\n",
       "      <th>4</th>\n",
       "      <td>2020-04-10 04:00:00+00:00</td>\n",
       "      <td>3.175657</td>\n",
       "      <td>2.355075</td>\n",
       "      <td>60.000000</td>\n",
       "      <td>6.449253e-01</td>\n",
       "      <td>-1.482197e-323</td>\n",
       "      <td>-1.482197e-323</td>\n",
       "      <td>92.355075</td>\n",
       "      <td>8.000000</td>\n",
       "    </tr>\n",
       "  </tbody>\n",
       "</table>\n",
       "</div>"
      ],
      "text/plain": [
       "                  Unnamed: 0         T        FH         DD              Q  \\\n",
       "0  2020-04-10 00:00:00+00:00  4.461015  2.604330  56.449253 -1.482197e-323   \n",
       "1  2020-04-10 01:00:00+00:00  4.014926  2.604330  58.753726 -1.482197e-323   \n",
       "2  2020-04-10 02:00:00+00:00  3.437970  2.249255  62.304473 -1.482197e-323   \n",
       "3  2020-04-10 03:00:00+00:00  3.019567  2.124627  54.608945 -1.482197e-323   \n",
       "4  2020-04-10 04:00:00+00:00  3.175657  2.355075  60.000000   6.449253e-01   \n",
       "\n",
       "              DR             RH          U         N  \n",
       "0 -1.482197e-323 -1.482197e-323  85.211640  1.947349  \n",
       "1 -1.482197e-323 -1.482197e-323  89.105820  7.088386  \n",
       "2 -1.482197e-323 -1.482197e-323  91.230447  8.000000  \n",
       "3 -1.482197e-323 -1.482197e-323  92.124627  8.000000  \n",
       "4 -1.482197e-323 -1.482197e-323  92.355075  8.000000  "
      ]
     },
     "execution_count": 24,
     "metadata": {},
     "output_type": "execute_result"
    }
   ],
   "source": [
    "df_weather = pd.read_csv('weather.csv')\n",
    "df_weather.info()\n",
    "df_weather.head()"
   ]
  },
  {
   "cell_type": "markdown",
   "metadata": {},
   "source": [
    "Hier zien we een hoop gegevens, maar nog niet echt nuttige informatie. Daarom heb ik het internet afgezocht naar de betekenis van de kolomnamen. Op de website van het KNMI kwam ik op de pagina [Daggegevens > Uurwaarnemingen > Selecteer parameters](https://www.daggegevens.knmi.nl/klimatologie/uurgegevens) de betekenis van de symbolen tegen. Deze heb ik verwerkt tot de onderstaande tabel:\n",
    "|Symbool|Omschrijving|Betekens\n",
    "|-|-|-\n",
    "| **DD**| Windrichting | in graden, gemiddeld over de laatste 10 minuten van het afgelopen uur $360$=noord, $90$=oost, $180$=zuid, $270$=west, $0$=windstil $990$=veranderlijk\n",
    "| **FH**| Uurgemiddelde windsnelheid | in $0.1 m/s$\n",
    "| **FF**| Windsnelheid | in $0.1 m/s$, gemiddeld over de laatste 10 minuten van het afgelopen uur\n",
    "| **FX**| Hoogste windstoot | in $0.1 m/s$, over het afgelopen uurvak\n",
    "| **T**| Temperatuur | in $0.1 °C$, op $1.50 m$ hoogte tijdens de waarneming\n",
    "| **T10N**| Minimumtemperatuur | in $0.1 °C$, op 10 cm hoogte in de afgelopen 6 uur\n",
    "| **TD**| Dauwpuntstemperatuur | in $0.1 °C$, op 1.50 m hoogte tijdens de waarneming\n",
    "| **SQ**| Duur van de zonneschijn | in $0.1 uren per uurvak$, berekend uit globale straling ($-1$ voor $<0.05 uur$)\n",
    "| **Q**| Globale straling | in $J/cm^{2}$ per uurvak\n",
    "| **DR**| Duur van de neerslag | in $0.1 uur per uurvak$\n",
    "| **RH**| Uursom van de neerslag | in $0.1 mm$ (-1 voor <0.05 mm)\n",
    "| **P**| Luchtdruk | in $0.1 hPa$, herleid naar zeeniveau, tijdens de waarneming\n",
    "| **VV**| Horizontaal zicht tijdens de waarneming | 0=minder dan 100m, 1=100-200m, 2=200-300m,..., 49=4900-5000m, 50=5-6km, 56=6-7km, 57=7-8km, ..., 79=29-30km, 80=30-35km, 81=35-40km,..., 89=meer dan 70km\n",
    "| **N**| Bewolking | bedekkingsgraad van de bovenlucht in achtsten, tijdens de waarneming (9=bovenlucht onzichtbaar)\n",
    "| **U**| Relatieve vochtigheid | in procenten, op $1.50 m$ hoogte tijdens de waarneming\n",
    "| **WW**| Weercode | (00-99), visueel(WW) of automatisch(WaWa) waargenomen, voor het actuele weer of het weer in het afgelopen uur. Meer info\n",
    "| **IX**| Weercode | indicator voor de wijze van waarnemen op een bemand of automatisch station (**1**=bemand gebruikmakend van code uit visuele waarnemingen, **2,3**=bemand en weggelaten (geen belangrijk weersverschijnsel, geen gegevens), **4**=automatisch en opgenomen (gebruikmakend van code uit visuele waarnemingen), **5,6**=automatisch en weggelaten (geen belangrijk weersverschijnsel, geen gegevens), **7**=automatisch gebruikmakend van code uit automatische waarnemingen)\n",
    "| **M**| Mist | **0**=niet voorgekomen, **1**=wel voorgekomen in het voorgaande uur en/of tijdens de waarneming\n",
    "| **R**| Regen | **0**=niet voorgekomen, **1**=wel voorgekomen in het voorgaande uur en/of tijdens de waarneming\n",
    "| **S**| Sneeuw | **0**=niet voorgekomen, **1**=wel voorgekomen in het voorgaande uur en/of tijdens de waarneming\n",
    "| **O**| Onweer | **0**=niet voorgekomen, **1**=wel voorgekomen in het voorgaande uur en/of tijdens de waarneming\n",
    "| **Y**| IJsvorming | **0**=niet voorgekomen, **1**=wel voorgekomen in het voorgaande uur en/of tijdens de waarneming"
   ]
  },
  {
   "cell_type": "markdown",
   "metadata": {},
   "source": [
    "### 2.6. Tijdspannes van de KNMI-data\n",
    "We zagen dat de tijdspannes van de “production”-dataset rond de 1 minuut lag, dus het is goed om te checken welk tijdsinterval de data van KNMI is. We zien dat deze altijd precies 1 uur is, dus we zullen moeten interpoleren."
   ]
  },
  {
   "cell_type": "code",
   "execution_count": 25,
   "metadata": {},
   "outputs": [
    {
     "name": "stdout",
     "output_type": "stream",
     "text": [
      "Min: 0 days 01:00:00\n",
      "Max: 0 days 01:00:00\n",
      "Mean: 0 days 01:00:00\n"
     ]
    }
   ],
   "source": [
    "deltas = pd.to_datetime(df_weather[\"Unnamed: 0\"]).diff().shift(-1)\n",
    "print(\"Min:\", deltas.min())\n",
    "print(\"Max:\", deltas.max())\n",
    "print(\"Mean:\", deltas.mean())"
   ]
  },
  {
   "cell_type": "markdown",
   "metadata": {},
   "source": [
    "## 3. Data Preparation"
   ]
  },
  {
   "cell_type": "markdown",
   "metadata": {},
   "source": [
    "### 3.1. Opschonen metadata van production\n",
    "Om ervoor te zorgen dat indexes goed werken, zorg ik ervoor dat de `time`-kolom daadwerkelijk een `DateTime` is en dat deze ingesteld staat als index van de DataFrame."
   ]
  },
  {
   "cell_type": "code",
   "execution_count": 26,
   "metadata": {},
   "outputs": [],
   "source": [
    "df_production['time'] = pd.to_datetime(df_production['time'])\n",
    "df_production = df_production.set_index('time')"
   ]
  },
  {
   "cell_type": "code",
   "execution_count": 27,
   "metadata": {},
   "outputs": [
    {
     "name": "stdout",
     "output_type": "stream",
     "text": [
      "<class 'pandas.core.frame.DataFrame'>\n",
      "DatetimeIndex: 1266008 entries, 2020-04-10 10:31:35+00:00 to 2022-09-06 17:36:35+00:00\n",
      "Data columns (total 1 columns):\n",
      " #   Column      Non-Null Count    Dtype  \n",
      "---  ------      --------------    -----  \n",
      " 0   production  1266008 non-null  float64\n",
      "dtypes: float64(1)\n",
      "memory usage: 19.3 MB\n"
     ]
    },
    {
     "data": {
      "text/html": [
       "<div>\n",
       "<style scoped>\n",
       "    .dataframe tbody tr th:only-of-type {\n",
       "        vertical-align: middle;\n",
       "    }\n",
       "\n",
       "    .dataframe tbody tr th {\n",
       "        vertical-align: top;\n",
       "    }\n",
       "\n",
       "    .dataframe thead th {\n",
       "        text-align: right;\n",
       "    }\n",
       "</style>\n",
       "<table border=\"1\" class=\"dataframe\">\n",
       "  <thead>\n",
       "    <tr style=\"text-align: right;\">\n",
       "      <th></th>\n",
       "      <th>production</th>\n",
       "    </tr>\n",
       "    <tr>\n",
       "      <th>time</th>\n",
       "      <th></th>\n",
       "    </tr>\n",
       "  </thead>\n",
       "  <tbody>\n",
       "    <tr>\n",
       "      <th>2020-04-10 10:31:35+00:00</th>\n",
       "      <td>96.666667</td>\n",
       "    </tr>\n",
       "    <tr>\n",
       "      <th>2020-04-10 10:32:35+00:00</th>\n",
       "      <td>96.666667</td>\n",
       "    </tr>\n",
       "    <tr>\n",
       "      <th>2020-04-10 10:33:35+00:00</th>\n",
       "      <td>93.333333</td>\n",
       "    </tr>\n",
       "    <tr>\n",
       "      <th>2020-04-10 10:34:35+00:00</th>\n",
       "      <td>100.000000</td>\n",
       "    </tr>\n",
       "    <tr>\n",
       "      <th>2020-04-10 10:35:36+00:00</th>\n",
       "      <td>103.333333</td>\n",
       "    </tr>\n",
       "  </tbody>\n",
       "</table>\n",
       "</div>"
      ],
      "text/plain": [
       "                           production\n",
       "time                                 \n",
       "2020-04-10 10:31:35+00:00   96.666667\n",
       "2020-04-10 10:32:35+00:00   96.666667\n",
       "2020-04-10 10:33:35+00:00   93.333333\n",
       "2020-04-10 10:34:35+00:00  100.000000\n",
       "2020-04-10 10:35:36+00:00  103.333333"
      ]
     },
     "execution_count": 27,
     "metadata": {},
     "output_type": "execute_result"
    }
   ],
   "source": [
    "df_production.info()\n",
    "df_production.head()"
   ]
  },
  {
   "cell_type": "markdown",
   "metadata": {},
   "source": [
    "### 3.2. Opschonen metadata van weather\n",
    "Omdat de kolomsymbolen in beginsel niet vanzelfsprekend zijn, hernoem ik deze naar een canonieke omschrijving. Deze heb ik gevonden op de KNMI-website, dat stukje staat te vinden onder Data Understanding."
   ]
  },
  {
   "cell_type": "code",
   "execution_count": 28,
   "metadata": {},
   "outputs": [],
   "source": [
    "df_weather = df_weather.rename(columns={\"Unnamed: 0\": \"time\", \"N\": \"weer\"})\n",
    "df_weather['time'] = pd.to_datetime(df_weather['time'])\n",
    "df_weather = df_weather.set_index('time')"
   ]
  },
  {
   "cell_type": "markdown",
   "metadata": {},
   "source": [
    " De overbodige kolommen verberg ik, zodat deze niet afleidend zijn voor de proef."
   ]
  },
  {
   "cell_type": "code",
   "execution_count": 29,
   "metadata": {},
   "outputs": [],
   "source": [
    "df_weather = df_weather.drop(['T', 'FH', 'DD', 'Q', 'DR', 'RH', 'U'], axis=1)"
   ]
  },
  {
   "cell_type": "code",
   "execution_count": 30,
   "metadata": {},
   "outputs": [
    {
     "name": "stdout",
     "output_type": "stream",
     "text": [
      "<class 'pandas.core.frame.DataFrame'>\n",
      "DatetimeIndex: 21096 entries, 2020-04-10 00:00:00+00:00 to 2022-09-05 23:00:00+00:00\n",
      "Data columns (total 1 columns):\n",
      " #   Column  Non-Null Count  Dtype  \n",
      "---  ------  --------------  -----  \n",
      " 0   weer    21025 non-null  float64\n",
      "dtypes: float64(1)\n",
      "memory usage: 329.6 KB\n"
     ]
    },
    {
     "data": {
      "text/html": [
       "<div>\n",
       "<style scoped>\n",
       "    .dataframe tbody tr th:only-of-type {\n",
       "        vertical-align: middle;\n",
       "    }\n",
       "\n",
       "    .dataframe tbody tr th {\n",
       "        vertical-align: top;\n",
       "    }\n",
       "\n",
       "    .dataframe thead th {\n",
       "        text-align: right;\n",
       "    }\n",
       "</style>\n",
       "<table border=\"1\" class=\"dataframe\">\n",
       "  <thead>\n",
       "    <tr style=\"text-align: right;\">\n",
       "      <th></th>\n",
       "      <th>weer</th>\n",
       "    </tr>\n",
       "    <tr>\n",
       "      <th>time</th>\n",
       "      <th></th>\n",
       "    </tr>\n",
       "  </thead>\n",
       "  <tbody>\n",
       "    <tr>\n",
       "      <th>2020-04-10 00:00:00+00:00</th>\n",
       "      <td>1.947349</td>\n",
       "    </tr>\n",
       "    <tr>\n",
       "      <th>2020-04-10 01:00:00+00:00</th>\n",
       "      <td>7.088386</td>\n",
       "    </tr>\n",
       "    <tr>\n",
       "      <th>2020-04-10 02:00:00+00:00</th>\n",
       "      <td>8.000000</td>\n",
       "    </tr>\n",
       "    <tr>\n",
       "      <th>2020-04-10 03:00:00+00:00</th>\n",
       "      <td>8.000000</td>\n",
       "    </tr>\n",
       "    <tr>\n",
       "      <th>2020-04-10 04:00:00+00:00</th>\n",
       "      <td>8.000000</td>\n",
       "    </tr>\n",
       "  </tbody>\n",
       "</table>\n",
       "</div>"
      ],
      "text/plain": [
       "                               weer\n",
       "time                               \n",
       "2020-04-10 00:00:00+00:00  1.947349\n",
       "2020-04-10 01:00:00+00:00  7.088386\n",
       "2020-04-10 02:00:00+00:00  8.000000\n",
       "2020-04-10 03:00:00+00:00  8.000000\n",
       "2020-04-10 04:00:00+00:00  8.000000"
      ]
     },
     "execution_count": 30,
     "metadata": {},
     "output_type": "execute_result"
    }
   ],
   "source": [
    "df_weather.info()\n",
    "df_weather.head()"
   ]
  },
  {
   "cell_type": "markdown",
   "metadata": {},
   "source": [
    "### 3.3. Resampling naar 10 minuten"
   ]
  },
  {
   "cell_type": "code",
   "execution_count": 41,
   "metadata": {
    "tags": []
   },
   "outputs": [
    {
     "data": {
      "text/html": [
       "<div>\n",
       "<style scoped>\n",
       "    .dataframe tbody tr th:only-of-type {\n",
       "        vertical-align: middle;\n",
       "    }\n",
       "\n",
       "    .dataframe tbody tr th {\n",
       "        vertical-align: top;\n",
       "    }\n",
       "\n",
       "    .dataframe thead th {\n",
       "        text-align: right;\n",
       "    }\n",
       "</style>\n",
       "<table border=\"1\" class=\"dataframe\">\n",
       "  <thead>\n",
       "    <tr style=\"text-align: right;\">\n",
       "      <th></th>\n",
       "      <th>production</th>\n",
       "    </tr>\n",
       "    <tr>\n",
       "      <th>time</th>\n",
       "      <th></th>\n",
       "    </tr>\n",
       "  </thead>\n",
       "  <tbody>\n",
       "    <tr>\n",
       "      <th>2020-04-10 10:30:00+00:00</th>\n",
       "      <td>96.666667</td>\n",
       "    </tr>\n",
       "    <tr>\n",
       "      <th>2020-04-10 10:40:00+00:00</th>\n",
       "      <td>78.333333</td>\n",
       "    </tr>\n",
       "    <tr>\n",
       "      <th>2020-04-10 10:50:00+00:00</th>\n",
       "      <td>86.666667</td>\n",
       "    </tr>\n",
       "    <tr>\n",
       "      <th>2020-04-10 11:00:00+00:00</th>\n",
       "      <td>90.000000</td>\n",
       "    </tr>\n",
       "    <tr>\n",
       "      <th>2020-04-10 11:10:00+00:00</th>\n",
       "      <td>86.666667</td>\n",
       "    </tr>\n",
       "    <tr>\n",
       "      <th>...</th>\n",
       "      <td>...</td>\n",
       "    </tr>\n",
       "    <tr>\n",
       "      <th>2022-09-06 16:50:00+00:00</th>\n",
       "      <td>6.666667</td>\n",
       "    </tr>\n",
       "    <tr>\n",
       "      <th>2022-09-06 17:00:00+00:00</th>\n",
       "      <td>6.666667</td>\n",
       "    </tr>\n",
       "    <tr>\n",
       "      <th>2022-09-06 17:10:00+00:00</th>\n",
       "      <td>3.333333</td>\n",
       "    </tr>\n",
       "    <tr>\n",
       "      <th>2022-09-06 17:20:00+00:00</th>\n",
       "      <td>3.333333</td>\n",
       "    </tr>\n",
       "    <tr>\n",
       "      <th>2022-09-06 17:30:00+00:00</th>\n",
       "      <td>3.333333</td>\n",
       "    </tr>\n",
       "  </tbody>\n",
       "</table>\n",
       "<p>126619 rows × 1 columns</p>\n",
       "</div>"
      ],
      "text/plain": [
       "                           production\n",
       "time                                 \n",
       "2020-04-10 10:30:00+00:00   96.666667\n",
       "2020-04-10 10:40:00+00:00   78.333333\n",
       "2020-04-10 10:50:00+00:00   86.666667\n",
       "2020-04-10 11:00:00+00:00   90.000000\n",
       "2020-04-10 11:10:00+00:00   86.666667\n",
       "...                               ...\n",
       "2022-09-06 16:50:00+00:00    6.666667\n",
       "2022-09-06 17:00:00+00:00    6.666667\n",
       "2022-09-06 17:10:00+00:00    3.333333\n",
       "2022-09-06 17:20:00+00:00    3.333333\n",
       "2022-09-06 17:30:00+00:00    3.333333\n",
       "\n",
       "[126619 rows x 1 columns]"
      ]
     },
     "execution_count": 41,
     "metadata": {},
     "output_type": "execute_result"
    }
   ],
   "source": [
    "RESAMPLING_INTERVAL = '10min'\n",
    "\n",
    "df_production_resampled = df_production.copy().resample(RESAMPLING_INTERVAL).median().interpolate()\n",
    "df_production_resampled"
   ]
  },
  {
   "cell_type": "code",
   "execution_count": 42,
   "metadata": {},
   "outputs": [
    {
     "data": {
      "text/html": [
       "<div>\n",
       "<style scoped>\n",
       "    .dataframe tbody tr th:only-of-type {\n",
       "        vertical-align: middle;\n",
       "    }\n",
       "\n",
       "    .dataframe tbody tr th {\n",
       "        vertical-align: top;\n",
       "    }\n",
       "\n",
       "    .dataframe thead th {\n",
       "        text-align: right;\n",
       "    }\n",
       "</style>\n",
       "<table border=\"1\" class=\"dataframe\">\n",
       "  <thead>\n",
       "    <tr style=\"text-align: right;\">\n",
       "      <th></th>\n",
       "      <th>weer</th>\n",
       "    </tr>\n",
       "    <tr>\n",
       "      <th>time</th>\n",
       "      <th></th>\n",
       "    </tr>\n",
       "  </thead>\n",
       "  <tbody>\n",
       "    <tr>\n",
       "      <th>2020-04-10 00:00:00+00:00</th>\n",
       "      <td>1.947349</td>\n",
       "    </tr>\n",
       "    <tr>\n",
       "      <th>2020-04-10 00:10:00+00:00</th>\n",
       "      <td>2.804188</td>\n",
       "    </tr>\n",
       "    <tr>\n",
       "      <th>2020-04-10 00:20:00+00:00</th>\n",
       "      <td>3.661028</td>\n",
       "    </tr>\n",
       "    <tr>\n",
       "      <th>2020-04-10 00:30:00+00:00</th>\n",
       "      <td>4.517867</td>\n",
       "    </tr>\n",
       "    <tr>\n",
       "      <th>2020-04-10 00:40:00+00:00</th>\n",
       "      <td>5.374707</td>\n",
       "    </tr>\n",
       "    <tr>\n",
       "      <th>...</th>\n",
       "      <td>...</td>\n",
       "    </tr>\n",
       "    <tr>\n",
       "      <th>2022-09-05 22:20:00+00:00</th>\n",
       "      <td>8.000000</td>\n",
       "    </tr>\n",
       "    <tr>\n",
       "      <th>2022-09-05 22:30:00+00:00</th>\n",
       "      <td>8.000000</td>\n",
       "    </tr>\n",
       "    <tr>\n",
       "      <th>2022-09-05 22:40:00+00:00</th>\n",
       "      <td>8.000000</td>\n",
       "    </tr>\n",
       "    <tr>\n",
       "      <th>2022-09-05 22:50:00+00:00</th>\n",
       "      <td>8.000000</td>\n",
       "    </tr>\n",
       "    <tr>\n",
       "      <th>2022-09-05 23:00:00+00:00</th>\n",
       "      <td>8.000000</td>\n",
       "    </tr>\n",
       "  </tbody>\n",
       "</table>\n",
       "<p>126571 rows × 1 columns</p>\n",
       "</div>"
      ],
      "text/plain": [
       "                               weer\n",
       "time                               \n",
       "2020-04-10 00:00:00+00:00  1.947349\n",
       "2020-04-10 00:10:00+00:00  2.804188\n",
       "2020-04-10 00:20:00+00:00  3.661028\n",
       "2020-04-10 00:30:00+00:00  4.517867\n",
       "2020-04-10 00:40:00+00:00  5.374707\n",
       "...                             ...\n",
       "2022-09-05 22:20:00+00:00  8.000000\n",
       "2022-09-05 22:30:00+00:00  8.000000\n",
       "2022-09-05 22:40:00+00:00  8.000000\n",
       "2022-09-05 22:50:00+00:00  8.000000\n",
       "2022-09-05 23:00:00+00:00  8.000000\n",
       "\n",
       "[126571 rows x 1 columns]"
      ]
     },
     "execution_count": 42,
     "metadata": {},
     "output_type": "execute_result"
    }
   ],
   "source": [
    "df_weather_resampled = df_weather.copy().resample(RESAMPLING_INTERVAL).median().interpolate()\n",
    "df_weather_resampled"
   ]
  },
  {
   "cell_type": "code",
   "execution_count": 43,
   "metadata": {},
   "outputs": [
    {
     "data": {
      "text/plain": [
       "<Axes: xlabel='time'>"
      ]
     },
     "execution_count": 43,
     "metadata": {},
     "output_type": "execute_result"
    },
    {
     "data": {
      "image/png": "[encoded data removed]",
      "text/plain": [
       "<Figure size 640x480 with 1 Axes>"
      ]
     },
     "metadata": {},
     "output_type": "display_data"
    }
   ],
   "source": [
    "df_production_resampled.plot()"
   ]
  },
  {
   "cell_type": "markdown",
   "metadata": {},
   "source": [
    "### 3.4. Weer en zonnepanelen combineren\n",
    "Omdat we de index juist hebben ingesteld op tijd, kunnen we de twee geresamplede tabellen combineren tot een."
   ]
  },
  {
   "cell_type": "code",
   "execution_count": null,
   "metadata": {
    "tags": []
   },
   "outputs": [
    {
     "data": {
      "text/html": [
       "<div>\n",
       "<style scoped>\n",
       "    .dataframe tbody tr th:only-of-type {\n",
       "        vertical-align: middle;\n",
       "    }\n",
       "\n",
       "    .dataframe tbody tr th {\n",
       "        vertical-align: top;\n",
       "    }\n",
       "\n",
       "    .dataframe thead th {\n",
       "        text-align: right;\n",
       "    }\n",
       "</style>\n",
       "<table border=\"1\" class=\"dataframe\">\n",
       "  <thead>\n",
       "    <tr style=\"text-align: right;\">\n",
       "      <th></th>\n",
       "      <th>production</th>\n",
       "      <th>weer</th>\n",
       "    </tr>\n",
       "    <tr>\n",
       "      <th>time</th>\n",
       "      <th></th>\n",
       "      <th></th>\n",
       "    </tr>\n",
       "  </thead>\n",
       "  <tbody>\n",
       "    <tr>\n",
       "      <th>2020-04-10 10:30:00+00:00</th>\n",
       "      <td>96.666667</td>\n",
       "      <td>6.710796</td>\n",
       "    </tr>\n",
       "    <tr>\n",
       "      <th>2020-04-10 10:40:00+00:00</th>\n",
       "      <td>78.333333</td>\n",
       "      <td>6.912627</td>\n",
       "    </tr>\n",
       "    <tr>\n",
       "      <th>2020-04-10 10:50:00+00:00</th>\n",
       "      <td>86.666667</td>\n",
       "      <td>7.114458</td>\n",
       "    </tr>\n",
       "    <tr>\n",
       "      <th>2020-04-10 11:00:00+00:00</th>\n",
       "      <td>90.000000</td>\n",
       "      <td>7.316289</td>\n",
       "    </tr>\n",
       "    <tr>\n",
       "      <th>2020-04-10 11:10:00+00:00</th>\n",
       "      <td>86.666667</td>\n",
       "      <td>7.354273</td>\n",
       "    </tr>\n",
       "    <tr>\n",
       "      <th>...</th>\n",
       "      <td>...</td>\n",
       "      <td>...</td>\n",
       "    </tr>\n",
       "    <tr>\n",
       "      <th>2022-09-06 16:50:00+00:00</th>\n",
       "      <td>6.666667</td>\n",
       "      <td>8.000000</td>\n",
       "    </tr>\n",
       "    <tr>\n",
       "      <th>2022-09-06 17:00:00+00:00</th>\n",
       "      <td>6.666667</td>\n",
       "      <td>8.000000</td>\n",
       "    </tr>\n",
       "    <tr>\n",
       "      <th>2022-09-06 17:10:00+00:00</th>\n",
       "      <td>3.333333</td>\n",
       "      <td>8.000000</td>\n",
       "    </tr>\n",
       "    <tr>\n",
       "      <th>2022-09-06 17:20:00+00:00</th>\n",
       "      <td>3.333333</td>\n",
       "      <td>8.000000</td>\n",
       "    </tr>\n",
       "    <tr>\n",
       "      <th>2022-09-06 17:30:00+00:00</th>\n",
       "      <td>3.333333</td>\n",
       "      <td>8.000000</td>\n",
       "    </tr>\n",
       "  </tbody>\n",
       "</table>\n",
       "<p>126619 rows × 2 columns</p>\n",
       "</div>"
      ],
      "text/plain": [
       "                           production      weer\n",
       "time                                           \n",
       "2020-04-10 10:30:00+00:00   96.666667  6.710796\n",
       "2020-04-10 10:40:00+00:00   78.333333  6.912627\n",
       "2020-04-10 10:50:00+00:00   86.666667  7.114458\n",
       "2020-04-10 11:00:00+00:00   90.000000  7.316289\n",
       "2020-04-10 11:10:00+00:00   86.666667  7.354273\n",
       "...                               ...       ...\n",
       "2022-09-06 16:50:00+00:00    6.666667  8.000000\n",
       "2022-09-06 17:00:00+00:00    6.666667  8.000000\n",
       "2022-09-06 17:10:00+00:00    3.333333  8.000000\n",
       "2022-09-06 17:20:00+00:00    3.333333  8.000000\n",
       "2022-09-06 17:30:00+00:00    3.333333  8.000000\n",
       "\n",
       "[126619 rows x 2 columns]"
      ]
     },
     "execution_count": 45,
     "metadata": {},
     "output_type": "execute_result"
    }
   ],
   "source": [
    "df_merged = df_production_resampled.merge(df_weather_resampled, on='time', how='left')\n",
    "\n",
    "df_merged['weer'] = df_merged['weer'].interpolate()\n",
    "df_merged['production'] = df_merged['production'].interpolate()\n",
    "\n",
    "df_merged"
   ]
  },
  {
   "cell_type": "markdown",
   "metadata": {},
   "source": [
    "### 3.5. Filter op zonnige dagen\n",
    "Om extra factoren zoals een bewolkt tijdstip te voorkomen, filter ik de momenten eruit waar de bewolkingsgraad 1 of meer is (dus lichtbewolkt of erger)."
   ]
  },
  {
   "cell_type": "markdown",
   "metadata": {},
   "source": [
    "Duidelijke beschrijvingen van de bewolkingsgraad ontbreken uit de tabel van KNMI, maar op de website van de Belgische KMI heb ik hier wel [een artikel over gevonden](https://www.meteo.be/nl/info/weerwoorden/bewolkingsgraad). Deze stelt:\n",
    "|Term|Bewolkingsgraad in octa's\n",
    "|-|-\n",
    "|Heldere hemel|0\n",
    "|Lichtbewolkt | 1 tot 2\n",
    "|Halfbewolkt | 3 tot 5\n",
    "|Zwaarbewolkt | 6 tot 7\n",
    "|Betrokken | 8"
   ]
  },
  {
   "cell_type": "code",
   "execution_count": 52,
   "metadata": {},
   "outputs": [
    {
     "name": "stdout",
     "output_type": "stream",
     "text": [
      "We houden nu nog 12% over\n"
     ]
    },
    {
     "data": {
      "text/html": [
       "<div>\n",
       "<style scoped>\n",
       "    .dataframe tbody tr th:only-of-type {\n",
       "        vertical-align: middle;\n",
       "    }\n",
       "\n",
       "    .dataframe tbody tr th {\n",
       "        vertical-align: top;\n",
       "    }\n",
       "\n",
       "    .dataframe thead th {\n",
       "        text-align: right;\n",
       "    }\n",
       "</style>\n",
       "<table border=\"1\" class=\"dataframe\">\n",
       "  <thead>\n",
       "    <tr style=\"text-align: right;\">\n",
       "      <th></th>\n",
       "      <th>production</th>\n",
       "      <th>weer</th>\n",
       "    </tr>\n",
       "    <tr>\n",
       "      <th>time</th>\n",
       "      <th></th>\n",
       "      <th></th>\n",
       "    </tr>\n",
       "  </thead>\n",
       "  <tbody>\n",
       "    <tr>\n",
       "      <th>2020-04-12 00:00:00+00:00</th>\n",
       "      <td>0.000000</td>\n",
       "      <td>7.715901e-01</td>\n",
       "    </tr>\n",
       "    <tr>\n",
       "      <th>2020-04-12 00:10:00+00:00</th>\n",
       "      <td>0.000000</td>\n",
       "      <td>7.190440e-01</td>\n",
       "    </tr>\n",
       "    <tr>\n",
       "      <th>2020-04-12 00:20:00+00:00</th>\n",
       "      <td>0.000000</td>\n",
       "      <td>6.664979e-01</td>\n",
       "    </tr>\n",
       "    <tr>\n",
       "      <th>2020-04-12 00:30:00+00:00</th>\n",
       "      <td>0.000000</td>\n",
       "      <td>6.139518e-01</td>\n",
       "    </tr>\n",
       "    <tr>\n",
       "      <th>2020-04-12 00:40:00+00:00</th>\n",
       "      <td>0.000000</td>\n",
       "      <td>5.614057e-01</td>\n",
       "    </tr>\n",
       "    <tr>\n",
       "      <th>...</th>\n",
       "      <td>...</td>\n",
       "      <td>...</td>\n",
       "    </tr>\n",
       "    <tr>\n",
       "      <th>2022-09-03 17:00:00+00:00</th>\n",
       "      <td>6.666667</td>\n",
       "      <td>1.867937e-317</td>\n",
       "    </tr>\n",
       "    <tr>\n",
       "      <th>2022-09-03 17:10:00+00:00</th>\n",
       "      <td>10.000000</td>\n",
       "      <td>7.339437e-01</td>\n",
       "    </tr>\n",
       "    <tr>\n",
       "      <th>2022-09-03 22:00:00+00:00</th>\n",
       "      <td>0.000000</td>\n",
       "      <td>2.279036e-01</td>\n",
       "    </tr>\n",
       "    <tr>\n",
       "      <th>2022-09-03 22:10:00+00:00</th>\n",
       "      <td>0.000000</td>\n",
       "      <td>5.963170e-01</td>\n",
       "    </tr>\n",
       "    <tr>\n",
       "      <th>2022-09-03 22:20:00+00:00</th>\n",
       "      <td>0.000000</td>\n",
       "      <td>9.647304e-01</td>\n",
       "    </tr>\n",
       "  </tbody>\n",
       "</table>\n",
       "<p>15038 rows × 2 columns</p>\n",
       "</div>"
      ],
      "text/plain": [
       "                           production           weer\n",
       "time                                                \n",
       "2020-04-12 00:00:00+00:00    0.000000   7.715901e-01\n",
       "2020-04-12 00:10:00+00:00    0.000000   7.190440e-01\n",
       "2020-04-12 00:20:00+00:00    0.000000   6.664979e-01\n",
       "2020-04-12 00:30:00+00:00    0.000000   6.139518e-01\n",
       "2020-04-12 00:40:00+00:00    0.000000   5.614057e-01\n",
       "...                               ...            ...\n",
       "2022-09-03 17:00:00+00:00    6.666667  1.867937e-317\n",
       "2022-09-03 17:10:00+00:00   10.000000   7.339437e-01\n",
       "2022-09-03 22:00:00+00:00    0.000000   2.279036e-01\n",
       "2022-09-03 22:10:00+00:00    0.000000   5.963170e-01\n",
       "2022-09-03 22:20:00+00:00    0.000000   9.647304e-01\n",
       "\n",
       "[15038 rows x 2 columns]"
      ]
     },
     "execution_count": 52,
     "metadata": {},
     "output_type": "execute_result"
    }
   ],
   "source": [
    "MAX_BEWOLKINGSGRAAD = 1\n",
    "\n",
    "df_zonnig = df_merged.loc[df_merged['weer'] < MAX_BEWOLKINGSGRAAD]\n",
    "\n",
    "print(f\"We houden nu nog {round(len(df_zonnig) / len(df_merged) * 100)}% over\")\n",
    "\n",
    "df_zonnig"
   ]
  },
  {
   "cell_type": "markdown",
   "metadata": {},
   "source": [
    "## 4. Modeling"
   ]
  },
  {
   "cell_type": "code",
   "execution_count": 53,
   "metadata": {
    "tags": []
   },
   "outputs": [],
   "source": [
    "# Gegeven:\n",
    "def model_zonnestraling(tilt:float, azimuth:float, tijdsreeks:pd.core.indexes.datetimes.DatetimeIndex, lat:float, lon:float) -> pd.DataFrame:\n",
    "    \"\"\"Berekent de hoeveelheid stroom die een paneel maximaal produceert met 100% efficientie\"\"\"\n",
    "\n",
    "    zonne_positie_aan_hemel = pvlib.solarposition.get_solarposition(tijdsreeks, lat, lon)\n",
    "\n",
    "    #locatie = pvlib.location.Location(latitude=lat, longitude=lon, name='Plaatsnaam', tz=pytz.timezone(r'Europe/Amsterdam'))\n",
    "    locatie = pvlib.location.Location(latitude=lat, longitude=lon, name='Plaatsnaam', tz=pytz.timezone(r'UTC'))\n",
    "    heldere_hemel = locatie.get_clearsky(tijdsreeks)\n",
    "\n",
    "    instraling = pvlib.irradiance.get_total_irradiance(tilt,\n",
    "                                                       azimuth,\n",
    "                                                       zonne_positie_aan_hemel['zenith'],\n",
    "                                                       zonne_positie_aan_hemel['azimuth'],\n",
    "                                                       heldere_hemel.dni,\n",
    "                                                       heldere_hemel.ghi,\n",
    "                                                       heldere_hemel.dhi)\n",
    "\n",
    "    return instraling['poa_global'].to_frame().rename(columns={'poa_global':'zonlicht'})"
   ]
  },
  {
   "cell_type": "code",
   "execution_count": 54,
   "metadata": {},
   "outputs": [],
   "source": [
    "# Aanvullen\n",
    "def model_paneel(tilt:float, azimuth:float, efficientie:float, tijdsreeks:pd.core.indexes.datetimes.DatetimeIndex, lat:float, lon:float) -> pd.DataFrame:\n",
    "    \"\"\"Berekent de hoeveelheid geabsorbeerd zonlicht op een paneel op basis van de efficientie\"\"\"\n",
    "\n",
    "    zonnestraling = model_zonnestraling(tilt, azimuth, tijdsreeks, lat, lon)\n",
    "\n",
    "    return zonnestraling * efficientie"
   ]
  },
  {
   "cell_type": "code",
   "execution_count": 55,
   "metadata": {
    "tags": []
   },
   "outputs": [],
   "source": [
    "# Aanvullen\n",
    "def loss(params:Tuple[float,float,float], df_waarneming:pd.DataFrame, lat:float, lon:float) -> float:\n",
    "\n",
    "    (tilt, azimuth, efficientie) = params\n",
    "\n",
    "    tijdsreeks = df_waarneming.index\n",
    "\n",
    "    df_model = model_paneel(tilt, azimuth, efficientie, tijdsreeks, lat, lon) # Aanvullen\n",
    "\n",
    "    return ((df_model['zonlicht'] - df_waarneming['production'])**2).sum()\n"
   ]
  },
  {
   "cell_type": "code",
   "execution_count": null,
   "metadata": {
    "tags": []
   },
   "outputs": [],
   "source": [
    "# Eerste inschatting\n"
   ]
  },
  {
   "cell_type": "code",
   "execution_count": null,
   "metadata": {
    "tags": []
   },
   "outputs": [],
   "source": [
    "# Zwolle, I guess? https://www.latlong.net/\n",
    "lat = 52.512791\n",
    "lon = 6.091540\n",
    "\n",
    "tilt = 35\n",
    "azimuth = 180\n",
    "efficientie = 0.2\n",
    "\n",
    "result = minimize(loss, (tilt, azimuth, efficientie), (df_zonnig, lat, lon)) # Aanvullen\n",
    "(tilt, azimuth, efficientie) = result['x']"
   ]
  },
  {
   "cell_type": "markdown",
   "metadata": {},
   "source": [
    "## 5. Evaluation"
   ]
  },
  {
   "cell_type": "code",
   "execution_count": null,
   "metadata": {
    "tags": []
   },
   "outputs": [
    {
     "name": "stdout",
     "output_type": "stream",
     "text": [
      "Tilt:        12.0°\n",
      "Azimuth:     230.1°\n",
      "Efficientie: 11.5%\n"
     ]
    }
   ],
   "source": [
    "print(\"Tilt:        {0:.1f}°\".format(tilt))\n",
    "print(\"Azimuth:     {0:.1f}°\".format(azimuth))\n",
    "print(\"Efficientie: {0:.1f}%\".format(efficientie * 100))"
   ]
  },
  {
   "cell_type": "code",
   "execution_count": null,
   "metadata": {},
   "outputs": [
    {
     "data": {
      "text/plain": [
       "<Axes: xlabel='time'>"
      ]
     },
     "execution_count": 59,
     "metadata": {},
     "output_type": "execute_result"
    },
    {
     "data": {
      "image/png": "[encoded data removed]",
      "text/plain": [
       "<Figure size 640x480 with 1 Axes>"
      ]
     },
     "metadata": {},
     "output_type": "display_data"
    }
   ],
   "source": [
    "df_model = model_paneel(tilt, azimuth, efficientie, df_zonnig.index, lat, lon)\n",
    "df_model['production'] = df_zonnig['production']\n",
    "df_model['weer'] = df_zonnig['weer']\n",
    "\n",
    "df_model = df_model.loc['2020-04-01':'2020-04-30']\n",
    "\n",
    "df_model.plot()"
   ]
  }
 ],
 "metadata": {
  "kernelspec": {
   "display_name": "Python 3 (ipykernel)",
   "language": "python",
   "name": "python3"
  },
  "language_info": {
   "codemirror_mode": {
    "name": "ipython",
    "version": 3
   },
   "file_extension": ".py",
   "mimetype": "text/x-python",
   "name": "python",
   "nbconvert_exporter": "python",
   "pygments_lexer": "ipython3",
   "version": "3.11.0rc1"
  }
 },
 "nbformat": 4,
 "nbformat_minor": 4
}
